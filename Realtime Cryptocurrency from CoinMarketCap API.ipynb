{
 "cells": [
  {
   "cell_type": "markdown",
   "metadata": {},
   "source": [
    "# Exploring CoinMarketCap API \n",
    "Write Cryptocurrency information into Excel and compare the top 10 cryptocurrency"
   ]
  },
  {
   "cell_type": "code",
   "execution_count": 2,
   "metadata": {},
   "outputs": [],
   "source": [
    "import xlsxwriter\n",
    "from requests import Request, Session\n",
    "from requests.exceptions import ConnectionError, Timeout, TooManyRedirects\n",
    "import json\n",
    "import pandas as pd"
   ]
  },
  {
   "cell_type": "code",
   "execution_count": null,
   "metadata": {},
   "outputs": [],
   "source": [
    "start = 1\n",
    "f = 1\n",
    "workbook = xlsxwriter.Workbook('CoinMarketCap.xlsx')\n",
    "sheet = workbook.add_worksheet()\n",
    "sheet.write('A1', 'Name')\n",
    "sheet.write('B1', 'Symbol')\n",
    "sheet.write('C1', 'Market Cap')\n",
    "sheet.write('D1', 'Price')\n",
    "sheet.write('E1', '24H Volume')\n",
    "sheet.write('F1', 'Hour Change')\n",
    "sheet.write('G1', 'Day Change')\n",
    "sheet.write('H1', 'Week Change')\n",
    "for i in range(10):\n",
    "    url= 'https://pro-api.coinmarketcap.com/v1/cryptocurrency/listings/latest'\n",
    "    parameters = {\n",
    "        'start':'1',\n",
    "        'limit':'100',\n",
    "        'convert':'USD'}\n",
    "    headers = {\n",
    "        'Accepts': 'application/json',\n",
    "        'X-CMC_PRO_API_KEY': myAPI,}\n",
    "    session = Session()\n",
    "    session.headers.update(headers)\n",
    "    response = session.get(url, params=parameters)\n",
    "    data = json.loads(response.text)\n",
    "    data = data['data']\n",
    "    for value in data:\n",
    "        rankID = value['cmc_rank']\n",
    "        Name = value['name']\n",
    "        Symbol = value['symbol']\n",
    "        quotes = value['quote']['USD']\n",
    "        market_cap = quotes['market_cap']\n",
    "        hour_change = quotes['percent_change_1h']\n",
    "        day_change = quotes['percent_change_24h']\n",
    "        week_change = quotes['percent_change_7d']\n",
    "        price = quotes['price']\n",
    "        volume = quotes['volume_24h']\n",
    "                \n",
    "        sheet.write(f,0,Name) \n",
    "        sheet.write(f,1,Symbol)\n",
    "        sheet.write(f,2,str(market_cap))\n",
    "        sheet.write(f,3,str(price))\n",
    "        sheet.write(f,4,str(volume))\n",
    "        sheet.write(f,5,str(hour_change))\n",
    "        sheet.write(f,6,str(day_change))\n",
    "        sheet.write(f,7,str(week_change))\n",
    "        f += 1\n",
    "\n",
    "    start += 100\n",
    "\n",
    "workbook.close()"
   ]
  },
  {
   "cell_type": "code",
   "execution_count": 3,
   "metadata": {},
   "outputs": [],
   "source": [
    "df=pd.read_excel('CoinMarketCap.xlsx')"
   ]
  },
  {
   "cell_type": "code",
   "execution_count": 4,
   "metadata": {},
   "outputs": [
    {
     "data": {
      "text/html": [
       "<div>\n",
       "<style scoped>\n",
       "    .dataframe tbody tr th:only-of-type {\n",
       "        vertical-align: middle;\n",
       "    }\n",
       "\n",
       "    .dataframe tbody tr th {\n",
       "        vertical-align: top;\n",
       "    }\n",
       "\n",
       "    .dataframe thead th {\n",
       "        text-align: right;\n",
       "    }\n",
       "</style>\n",
       "<table border=\"1\" class=\"dataframe\">\n",
       "  <thead>\n",
       "    <tr style=\"text-align: right;\">\n",
       "      <th></th>\n",
       "      <th>Name</th>\n",
       "      <th>Symbol</th>\n",
       "      <th>Market Cap</th>\n",
       "      <th>Price</th>\n",
       "      <th>24H Volume</th>\n",
       "      <th>Hour Change</th>\n",
       "      <th>Day Change</th>\n",
       "      <th>Week Change</th>\n",
       "    </tr>\n",
       "  </thead>\n",
       "  <tbody>\n",
       "    <tr>\n",
       "      <th>0</th>\n",
       "      <td>Bitcoin</td>\n",
       "      <td>BTC</td>\n",
       "      <td>2.027691e+11</td>\n",
       "      <td>10964.449535</td>\n",
       "      <td>2.784167e+10</td>\n",
       "      <td>-0.366436</td>\n",
       "      <td>1.223360</td>\n",
       "      <td>6.18564</td>\n",
       "    </tr>\n",
       "    <tr>\n",
       "      <th>1</th>\n",
       "      <td>Ethereum</td>\n",
       "      <td>ETH</td>\n",
       "      <td>4.341946e+10</td>\n",
       "      <td>385.424502</td>\n",
       "      <td>1.701181e+10</td>\n",
       "      <td>-0.354256</td>\n",
       "      <td>1.475910</td>\n",
       "      <td>4.89381</td>\n",
       "    </tr>\n",
       "    <tr>\n",
       "      <th>2</th>\n",
       "      <td>Tether</td>\n",
       "      <td>USDT</td>\n",
       "      <td>1.514358e+10</td>\n",
       "      <td>1.002169</td>\n",
       "      <td>4.751066e+10</td>\n",
       "      <td>-0.028095</td>\n",
       "      <td>0.074742</td>\n",
       "      <td>-0.0521134</td>\n",
       "    </tr>\n",
       "    <tr>\n",
       "      <th>3</th>\n",
       "      <td>XRP</td>\n",
       "      <td>XRP</td>\n",
       "      <td>1.136396e+10</td>\n",
       "      <td>0.252295</td>\n",
       "      <td>1.310570e+09</td>\n",
       "      <td>-0.471246</td>\n",
       "      <td>0.982050</td>\n",
       "      <td>4.23202</td>\n",
       "    </tr>\n",
       "    <tr>\n",
       "      <th>4</th>\n",
       "      <td>Polkadot</td>\n",
       "      <td>DOT</td>\n",
       "      <td>4.505139e+09</td>\n",
       "      <td>5.283705</td>\n",
       "      <td>6.244984e+08</td>\n",
       "      <td>-0.334763</td>\n",
       "      <td>1.520640</td>\n",
       "      <td>17.5303</td>\n",
       "    </tr>\n",
       "  </tbody>\n",
       "</table>\n",
       "</div>"
      ],
      "text/plain": [
       "       Name Symbol    Market Cap         Price    24H Volume  Hour Change  \\\n",
       "0   Bitcoin    BTC  2.027691e+11  10964.449535  2.784167e+10    -0.366436   \n",
       "1  Ethereum    ETH  4.341946e+10    385.424502  1.701181e+10    -0.354256   \n",
       "2    Tether   USDT  1.514358e+10      1.002169  4.751066e+10    -0.028095   \n",
       "3       XRP    XRP  1.136396e+10      0.252295  1.310570e+09    -0.471246   \n",
       "4  Polkadot    DOT  4.505139e+09      5.283705  6.244984e+08    -0.334763   \n",
       "\n",
       "   Day Change Week Change  \n",
       "0    1.223360     6.18564  \n",
       "1    1.475910     4.89381  \n",
       "2    0.074742  -0.0521134  \n",
       "3    0.982050     4.23202  \n",
       "4    1.520640     17.5303  "
      ]
     },
     "execution_count": 4,
     "metadata": {},
     "output_type": "execute_result"
    }
   ],
   "source": [
    "df.head()"
   ]
  },
  {
   "cell_type": "markdown",
   "metadata": {},
   "source": [
    "## Compared  Bitcoin with the rest of the cryptocurrencies\n"
   ]
  },
  {
   "cell_type": "code",
   "execution_count": 7,
   "metadata": {},
   "outputs": [
    {
     "data": {
      "image/png": "[encoded data removed]",
      "text/plain": [
       "<Figure size 432x288 with 1 Axes>"
      ]
     },
     "metadata": {
      "needs_background": "light"
     },
     "output_type": "display_data"
    }
   ],
   "source": [
    "TOP_CAP_TITLE = 'Top 10 market capitalization'\n",
    "TOP_CAP_YLABEL = '% of total cap'\n",
    "\n",
    "# Selecting the first 10 rows and setting the index\n",
    "cap10 = df[:10].set_index('Symbol')\n",
    "\n",
    "# Calculating market_cap_perc\n",
    "cap10 = cap10.assign(market_cap_perc = lambda x: (x['Market Cap'] / df['Market Cap'].sum())*100)\n",
    "\n",
    "# Colors for the bar plot\n",
    "COLORS = ['orange', 'green', 'orange', 'cyan', 'cyan', 'blue', 'silver', 'orange', 'red', 'green']\n",
    "\n",
    "# Plotting market_cap_usd as before but adding the colors and scaling the y-axis  \n",
    "ax = cap10['Market Cap'].plot.bar(title=TOP_CAP_TITLE, logy=True, color = COLORS)\n",
    "\n",
    "# Annotating the y axis with log(USD)\n",
    "ax.set_ylabel('USD')\n",
    "\n",
    "# Final touch! Removing the xlabel as it is not very informative\n",
    "ax.set_xlabel('');"
   ]
  },
  {
   "cell_type": "code",
   "execution_count": null,
   "metadata": {},
   "outputs": [],
   "source": []
  }
 ],
 "metadata": {
  "kernelspec": {
   "display_name": "Python 3",
   "language": "python",
   "name": "python3"
  },
  "language_info": {
   "codemirror_mode": {
    "name": "ipython",
    "version": 3
   },
   "file_extension": ".py",
   "mimetype": "text/x-python",
   "name": "python",
   "nbconvert_exporter": "python",
   "pygments_lexer": "ipython3",
   "version": "3.7.6"
  }
 },
 "nbformat": 4,
 "nbformat_minor": 4
}
