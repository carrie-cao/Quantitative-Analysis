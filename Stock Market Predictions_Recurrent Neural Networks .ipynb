{
 "cells": [
  {
   "cell_type": "markdown",
   "metadata": {},
   "source": [
    "# Stock Market Predictions"
   ]
  },
  {
   "cell_type": "code",
   "execution_count": 175,
   "metadata": {},
   "outputs": [],
   "source": [
    "# Make sure that you have all these libaries available to run the code successfully\n",
    "from pandas_datareader import data\n",
    "import matplotlib.pyplot as plt\n",
    "import pandas as pd\n",
    "import datetime as dt\n",
    "import urllib.request, json\n",
    "import os\n",
    "import numpy as np\n",
    "from sklearn.preprocessing import MinMaxScaler\n",
    "from tensorflow.keras.preprocessing import sequence\n",
    "from tensorflow.keras.models import Sequential\n",
    "from tensorflow.keras.layers import Dense, Embedding\n",
    "from tensorflow.keras.layers import LSTM"
   ]
  },
  {
   "cell_type": "markdown",
   "metadata": {},
   "source": [
    "## Stock market data for DAL ariline company\n",
    "\n",
    "Dataset from [ALPHA VANTAGE](https://www.alphavantage.co/) by Alpha Vantage API\n"
   ]
  },
  {
   "cell_type": "code",
   "execution_count": 177,
   "metadata": {},
   "outputs": [],
   "source": [
    "api_key = my_key\n",
    "ticker = 'DAL'\n",
    "url_string = \"https://www.alphavantage.co/query?function=TIME_SERIES_DAILY&symbol=%s&outputsize=full&apikey=%s\"%(ticker,api_key)\n",
    "file_to_save = 'stock_market_data-%s.csv'%ticker"
   ]
  },
  {
   "cell_type": "code",
   "execution_count": 178,
   "metadata": {},
   "outputs": [
    {
     "data": {
      "text/plain": [
       "'stock_market_data-DAL.csv'"
      ]
     },
     "execution_count": 178,
     "metadata": {},
     "output_type": "execute_result"
    }
   ],
   "source": [
    "file_to_save"
   ]
  },
  {
   "cell_type": "code",
   "execution_count": 179,
   "metadata": {},
   "outputs": [
    {
     "name": "stdout",
     "output_type": "stream",
     "text": [
      "File already exists. Loading data from CSV\n"
     ]
    }
   ],
   "source": [
    "    if not os.path.exists(file_to_save):\n",
    "        with urllib.request.urlopen(url_string) as url:\n",
    "            data = json.loads(url.read().decode())\n",
    "            # extract stock market data\n",
    "            data = data['Time Series (Daily)']\n",
    "            df = pd.DataFrame(columns=['Date','Low','High','Close','Open'])\n",
    "            for k,v in data.items():\n",
    "                date = dt.datetime.strptime(k, '%Y-%m-%d')\n",
    "                data_row = [date.date(),float(v['3. low']),float(v['2. high']),\n",
    "                            float(v['4. close']),float(v['1. open'])]\n",
    "                df.loc[-1,:] = data_row\n",
    "                df.index = df.index + 1\n",
    "        print('Data saved to : %s'%file_to_save)        \n",
    "        df.to_csv(file_to_save)\n",
    "\n",
    "    # If the data is already there, just load it from the CSV\n",
    "    else:\n",
    "        print('File already exists. Loading data from CSV')\n",
    "        df = pd.read_csv(file_to_save)"
   ]
  },
  {
   "cell_type": "code",
   "execution_count": 180,
   "metadata": {},
   "outputs": [
    {
     "data": {
      "text/html": [
       "<div>\n",
       "<style scoped>\n",
       "    .dataframe tbody tr th:only-of-type {\n",
       "        vertical-align: middle;\n",
       "    }\n",
       "\n",
       "    .dataframe tbody tr th {\n",
       "        vertical-align: top;\n",
       "    }\n",
       "\n",
       "    .dataframe thead th {\n",
       "        text-align: right;\n",
       "    }\n",
       "</style>\n",
       "<table border=\"1\" class=\"dataframe\">\n",
       "  <thead>\n",
       "    <tr style=\"text-align: right;\">\n",
       "      <th></th>\n",
       "      <th>Unnamed: 0</th>\n",
       "      <th>Date</th>\n",
       "      <th>Low</th>\n",
       "      <th>High</th>\n",
       "      <th>Close</th>\n",
       "      <th>Open</th>\n",
       "    </tr>\n",
       "  </thead>\n",
       "  <tbody>\n",
       "    <tr>\n",
       "      <th>3365</th>\n",
       "      <td>4</td>\n",
       "      <td>2007-05-09</td>\n",
       "      <td>19.63</td>\n",
       "      <td>20.20</td>\n",
       "      <td>19.79</td>\n",
       "      <td>19.75</td>\n",
       "    </tr>\n",
       "    <tr>\n",
       "      <th>3366</th>\n",
       "      <td>3</td>\n",
       "      <td>2007-05-08</td>\n",
       "      <td>19.30</td>\n",
       "      <td>20.00</td>\n",
       "      <td>19.63</td>\n",
       "      <td>20.00</td>\n",
       "    </tr>\n",
       "    <tr>\n",
       "      <th>3367</th>\n",
       "      <td>2</td>\n",
       "      <td>2007-05-07</td>\n",
       "      <td>20.20</td>\n",
       "      <td>21.29</td>\n",
       "      <td>20.36</td>\n",
       "      <td>21.20</td>\n",
       "    </tr>\n",
       "    <tr>\n",
       "      <th>3368</th>\n",
       "      <td>1</td>\n",
       "      <td>2007-05-04</td>\n",
       "      <td>20.70</td>\n",
       "      <td>21.35</td>\n",
       "      <td>20.98</td>\n",
       "      <td>21.05</td>\n",
       "    </tr>\n",
       "    <tr>\n",
       "      <th>3369</th>\n",
       "      <td>0</td>\n",
       "      <td>2007-05-03</td>\n",
       "      <td>20.55</td>\n",
       "      <td>21.95</td>\n",
       "      <td>20.72</td>\n",
       "      <td>21.75</td>\n",
       "    </tr>\n",
       "  </tbody>\n",
       "</table>\n",
       "</div>"
      ],
      "text/plain": [
       "      Unnamed: 0        Date    Low   High  Close   Open\n",
       "3365           4  2007-05-09  19.63  20.20  19.79  19.75\n",
       "3366           3  2007-05-08  19.30  20.00  19.63  20.00\n",
       "3367           2  2007-05-07  20.20  21.29  20.36  21.20\n",
       "3368           1  2007-05-04  20.70  21.35  20.98  21.05\n",
       "3369           0  2007-05-03  20.55  21.95  20.72  21.75"
      ]
     },
     "execution_count": 180,
     "metadata": {},
     "output_type": "execute_result"
    }
   ],
   "source": [
    "df.tail()"
   ]
  },
  {
   "cell_type": "code",
   "execution_count": 181,
   "metadata": {},
   "outputs": [
    {
     "data": {
      "text/html": [
       "<div>\n",
       "<style scoped>\n",
       "    .dataframe tbody tr th:only-of-type {\n",
       "        vertical-align: middle;\n",
       "    }\n",
       "\n",
       "    .dataframe tbody tr th {\n",
       "        vertical-align: top;\n",
       "    }\n",
       "\n",
       "    .dataframe thead th {\n",
       "        text-align: right;\n",
       "    }\n",
       "</style>\n",
       "<table border=\"1\" class=\"dataframe\">\n",
       "  <thead>\n",
       "    <tr style=\"text-align: right;\">\n",
       "      <th></th>\n",
       "      <th>Unnamed: 0</th>\n",
       "      <th>Date</th>\n",
       "      <th>Low</th>\n",
       "      <th>High</th>\n",
       "      <th>Close</th>\n",
       "      <th>Open</th>\n",
       "    </tr>\n",
       "  </thead>\n",
       "  <tbody>\n",
       "    <tr>\n",
       "      <th>0</th>\n",
       "      <td>3369</td>\n",
       "      <td>2020-09-18</td>\n",
       "      <td>32.575</td>\n",
       "      <td>34.0200</td>\n",
       "      <td>32.84</td>\n",
       "      <td>33.22</td>\n",
       "    </tr>\n",
       "    <tr>\n",
       "      <th>1</th>\n",
       "      <td>3368</td>\n",
       "      <td>2020-09-17</td>\n",
       "      <td>33.635</td>\n",
       "      <td>35.0700</td>\n",
       "      <td>33.96</td>\n",
       "      <td>33.97</td>\n",
       "    </tr>\n",
       "    <tr>\n",
       "      <th>2</th>\n",
       "      <td>3367</td>\n",
       "      <td>2020-09-16</td>\n",
       "      <td>33.190</td>\n",
       "      <td>34.9900</td>\n",
       "      <td>34.57</td>\n",
       "      <td>33.80</td>\n",
       "    </tr>\n",
       "    <tr>\n",
       "      <th>3</th>\n",
       "      <td>3366</td>\n",
       "      <td>2020-09-15</td>\n",
       "      <td>33.100</td>\n",
       "      <td>34.4781</td>\n",
       "      <td>33.51</td>\n",
       "      <td>33.20</td>\n",
       "    </tr>\n",
       "    <tr>\n",
       "      <th>4</th>\n",
       "      <td>3365</td>\n",
       "      <td>2020-09-14</td>\n",
       "      <td>32.010</td>\n",
       "      <td>32.9000</td>\n",
       "      <td>32.82</td>\n",
       "      <td>32.29</td>\n",
       "    </tr>\n",
       "  </tbody>\n",
       "</table>\n",
       "</div>"
      ],
      "text/plain": [
       "   Unnamed: 0        Date     Low     High  Close   Open\n",
       "0        3369  2020-09-18  32.575  34.0200  32.84  33.22\n",
       "1        3368  2020-09-17  33.635  35.0700  33.96  33.97\n",
       "2        3367  2020-09-16  33.190  34.9900  34.57  33.80\n",
       "3        3366  2020-09-15  33.100  34.4781  33.51  33.20\n",
       "4        3365  2020-09-14  32.010  32.9000  32.82  32.29"
      ]
     },
     "execution_count": 181,
     "metadata": {},
     "output_type": "execute_result"
    }
   ],
   "source": [
    "df.head()"
   ]
  },
  {
   "cell_type": "markdown",
   "metadata": {},
   "source": [
    "## EDA"
   ]
  },
  {
   "cell_type": "code",
   "execution_count": 182,
   "metadata": {},
   "outputs": [
    {
     "data": {
      "text/html": [
       "<div>\n",
       "<style scoped>\n",
       "    .dataframe tbody tr th:only-of-type {\n",
       "        vertical-align: middle;\n",
       "    }\n",
       "\n",
       "    .dataframe tbody tr th {\n",
       "        vertical-align: top;\n",
       "    }\n",
       "\n",
       "    .dataframe thead th {\n",
       "        text-align: right;\n",
       "    }\n",
       "</style>\n",
       "<table border=\"1\" class=\"dataframe\">\n",
       "  <thead>\n",
       "    <tr style=\"text-align: right;\">\n",
       "      <th></th>\n",
       "      <th>Unnamed: 0</th>\n",
       "      <th>Date</th>\n",
       "      <th>Low</th>\n",
       "      <th>High</th>\n",
       "      <th>Close</th>\n",
       "      <th>Open</th>\n",
       "    </tr>\n",
       "  </thead>\n",
       "  <tbody>\n",
       "    <tr>\n",
       "      <th>3369</th>\n",
       "      <td>0</td>\n",
       "      <td>2007-05-03</td>\n",
       "      <td>20.55</td>\n",
       "      <td>21.95</td>\n",
       "      <td>20.72</td>\n",
       "      <td>21.75</td>\n",
       "    </tr>\n",
       "    <tr>\n",
       "      <th>3368</th>\n",
       "      <td>1</td>\n",
       "      <td>2007-05-04</td>\n",
       "      <td>20.70</td>\n",
       "      <td>21.35</td>\n",
       "      <td>20.98</td>\n",
       "      <td>21.05</td>\n",
       "    </tr>\n",
       "    <tr>\n",
       "      <th>3367</th>\n",
       "      <td>2</td>\n",
       "      <td>2007-05-07</td>\n",
       "      <td>20.20</td>\n",
       "      <td>21.29</td>\n",
       "      <td>20.36</td>\n",
       "      <td>21.20</td>\n",
       "    </tr>\n",
       "    <tr>\n",
       "      <th>3366</th>\n",
       "      <td>3</td>\n",
       "      <td>2007-05-08</td>\n",
       "      <td>19.30</td>\n",
       "      <td>20.00</td>\n",
       "      <td>19.63</td>\n",
       "      <td>20.00</td>\n",
       "    </tr>\n",
       "    <tr>\n",
       "      <th>3365</th>\n",
       "      <td>4</td>\n",
       "      <td>2007-05-09</td>\n",
       "      <td>19.63</td>\n",
       "      <td>20.20</td>\n",
       "      <td>19.79</td>\n",
       "      <td>19.75</td>\n",
       "    </tr>\n",
       "  </tbody>\n",
       "</table>\n",
       "</div>"
      ],
      "text/plain": [
       "      Unnamed: 0        Date    Low   High  Close   Open\n",
       "3369           0  2007-05-03  20.55  21.95  20.72  21.75\n",
       "3368           1  2007-05-04  20.70  21.35  20.98  21.05\n",
       "3367           2  2007-05-07  20.20  21.29  20.36  21.20\n",
       "3366           3  2007-05-08  19.30  20.00  19.63  20.00\n",
       "3365           4  2007-05-09  19.63  20.20  19.79  19.75"
      ]
     },
     "execution_count": 182,
     "metadata": {},
     "output_type": "execute_result"
    }
   ],
   "source": [
    "# Data sort by date\n",
    "\n",
    "# Sort DataFrame by date\n",
    "df = df.sort_values('Date')\n",
    "df.head()"
   ]
  },
  {
   "cell_type": "code",
   "execution_count": 183,
   "metadata": {},
   "outputs": [
    {
     "data": {
      "text/plain": [
       "(3370, 6)"
      ]
     },
     "execution_count": 183,
     "metadata": {},
     "output_type": "execute_result"
    }
   ],
   "source": [
    "df.shape"
   ]
  },
  {
   "cell_type": "code",
   "execution_count": 184,
   "metadata": {},
   "outputs": [
    {
     "data": {
      "image/png": "[encoded data removed]",
      "text/plain": [
       "<Figure size 720x360 with 1 Axes>"
      ]
     },
     "metadata": {
      "needs_background": "light"
     },
     "output_type": "display_data"
    }
   ],
   "source": [
    "plt.figure(figsize = (10,5))\n",
    "plt.plot(range(df.shape[0]),(df['Low']+df['High'])/2.0)\n",
    "plt.xticks(range(0,df.shape[0],100),df['Date'].loc[::100],rotation=45)\n",
    "plt.xlabel('Date',fontsize=18)\n",
    "plt.ylabel('Mid Price',fontsize=18)\n",
    "plt.show()"
   ]
  },
  {
   "cell_type": "markdown",
   "metadata": {},
   "source": [
    "## Splitting Data into a Training set and a Test set"
   ]
  },
  {
   "cell_type": "code",
   "execution_count": 185,
   "metadata": {},
   "outputs": [],
   "source": [
    "# First calculate the mid prices from the highest and lowest\n",
    "high_prices = df.loc[:,'High']\n",
    "low_prices = df.loc[:,'Low']\n",
    "mid_prices = (high_prices+low_prices)/2.0"
   ]
  },
  {
   "cell_type": "code",
   "execution_count": 186,
   "metadata": {},
   "outputs": [],
   "source": [
    "train_data = mid_prices[:3300].to_numpy()\n",
    "test_data = mid_prices[3300:].to_numpy()"
   ]
  },
  {
   "cell_type": "markdown",
   "metadata": {},
   "source": [
    "## Normalizing the Data\n",
    "Define a scaler to normalize the data"
   ]
  },
  {
   "cell_type": "code",
   "execution_count": 187,
   "metadata": {},
   "outputs": [],
   "source": [
    "# MinMaxScalar scales all the data to be in the region of 0 and 1.\n",
    "scaler = MinMaxScaler()\n",
    "train_data = train_data.reshape(-1,1)\n",
    "test_data = test_data.reshape(-1,1)"
   ]
  },
  {
   "cell_type": "code",
   "execution_count": 188,
   "metadata": {},
   "outputs": [],
   "source": [
    "### Choose a window size make sure it's not too small\n",
    "# Train the Scaler with training data and smooth data\n",
    "smoothing_window_size = 1500\n",
    "for di in range(0,3000,smoothing_window_size):\n",
    "    scaler.fit(train_data[di:di+smoothing_window_size,:])\n",
    "    train_data[di:di+smoothing_window_size,:] = scaler.transform(train_data[di:di+smoothing_window_size,:])\n",
    "\n",
    "# You normalize the last bit of remaining data\n",
    "scaler.fit(train_data[di+smoothing_window_size:,:])\n",
    "train_data[di+smoothing_window_size:,:] = scaler.transform(train_data[di+smoothing_window_size:,:])"
   ]
  },
  {
   "cell_type": "code",
   "execution_count": 189,
   "metadata": {},
   "outputs": [],
   "source": [
    "# Reshape the data back to the shape of [data_size]\n",
    "# Reshape both train and test data\n",
    "train_data = train_data.reshape(-1)"
   ]
  },
  {
   "cell_type": "code",
   "execution_count": 190,
   "metadata": {},
   "outputs": [],
   "source": [
    "# Normalize test data\n",
    "test_data = scaler.transform(test_data).reshape(-1)"
   ]
  },
  {
   "cell_type": "markdown",
   "metadata": {},
   "source": [
    "## Smooth the data using the exponential moving average. \n",
    "This helps to get rid of the inherent raggedness of the data in stock prices and produce a smoother curve"
   ]
  },
  {
   "cell_type": "code",
   "execution_count": 191,
   "metadata": {},
   "outputs": [],
   "source": [
    "# exponential moving average smoothing, only smooth training data\n",
    "EMA = 0.0\n",
    "gamma = 0.1\n",
    "for ti in range(3300):\n",
    "  EMA = gamma*train_data[ti] + (1-gamma)*EMA\n",
    "  train_data[ti] = EMA\n",
    "\n",
    "# Used for visualization and test purposes\n",
    "all_mid_data = np.concatenate([train_data,test_data],axis=0)"
   ]
  },
  {
   "cell_type": "markdown",
   "metadata": {},
   "source": [
    "## One-Step Ahead Prediction via Averaging\n",
    "Predict (often one time step ahead) by representing the future stock price as an average of the previously observed stock prices.\n"
   ]
  },
  {
   "cell_type": "markdown",
   "metadata": {},
   "source": [
    "### Standard Average\n",
    "Prediction at t+1 is the average value of all the stock prices you observed within a window of t to t−N"
   ]
  },
  {
   "cell_type": "code",
   "execution_count": 192,
   "metadata": {},
   "outputs": [
    {
     "name": "stdout",
     "output_type": "stream",
     "text": [
      "MSE error for standard averaging: 0.00197\n"
     ]
    }
   ],
   "source": [
    "window_size = 30\n",
    "N = train_data.size\n",
    "std_avg_predictions = []\n",
    "std_avg_x = []\n",
    "mse_errors = []\n",
    "\n",
    "for pred_idx in range(window_size,N):\n",
    "\n",
    "    if pred_idx >= N:\n",
    "        date = dt.datetime.strptime(k, '%Y-%m-%d').date() + dt.timedelta(days=1)\n",
    "    else:\n",
    "        date = df.loc[pred_idx,'Date']\n",
    "\n",
    "    std_avg_predictions.append(np.mean(train_data[pred_idx-window_size:pred_idx]))\n",
    "    mse_errors.append((std_avg_predictions[-1]-train_data[pred_idx])**2)\n",
    "    std_avg_x.append(date)\n",
    "\n",
    "print('MSE error for standard averaging: %.5f'%(0.5*np.mean(mse_errors)))\n"
   ]
  },
  {
   "cell_type": "code",
   "execution_count": 193,
   "metadata": {},
   "outputs": [
    {
     "data": {
      "image/png": "[encoded data removed]",
      "text/plain": [
       "<Figure size 720x360 with 1 Axes>"
      ]
     },
     "metadata": {
      "needs_background": "light"
     },
     "output_type": "display_data"
    }
   ],
   "source": [
    "plt.figure(figsize = (10,5))\n",
    "plt.plot(range(df.shape[0]),all_mid_data,color='b',label='True')\n",
    "plt.plot(range(window_size,N),std_avg_predictions,color='orange',label='Prediction')\n",
    "#plt.xticks(range(0,df.shape[0],50),df['Date'].loc[::50],rotation=45)\n",
    "plt.xlabel('Date')\n",
    "plt.ylabel('Mid Price')\n",
    "plt.legend(fontsize=18)\n",
    "plt.show()"
   ]
  },
  {
   "cell_type": "markdown",
   "metadata": {},
   "source": [
    "### Exponential Moving Average"
   ]
  },
  {
   "cell_type": "code",
   "execution_count": 194,
   "metadata": {},
   "outputs": [
    {
     "name": "stdout",
     "output_type": "stream",
     "text": [
      "MSE error for EMA averaging: 0.00008\n"
     ]
    },
    {
     "data": {
      "image/png": "[encoded data removed]",
      "text/plain": [
       "<Figure size 720x360 with 1 Axes>"
      ]
     },
     "metadata": {
      "needs_background": "light"
     },
     "output_type": "display_data"
    }
   ],
   "source": [
    "window_size = 30\n",
    "N = train_data.size\n",
    "\n",
    "run_avg_predictions = []\n",
    "run_avg_x = []\n",
    "\n",
    "mse_errors = []\n",
    "\n",
    "running_mean = 0.0\n",
    "run_avg_predictions.append(running_mean)\n",
    "\n",
    "decay = 0.5\n",
    "\n",
    "for pred_idx in range(1,N):\n",
    "\n",
    "    running_mean = running_mean*decay + (1.0-decay)*train_data[pred_idx-1]\n",
    "    run_avg_predictions.append(running_mean)\n",
    "    mse_errors.append((run_avg_predictions[-1]-train_data[pred_idx])**2)\n",
    "    run_avg_x.append(date)\n",
    "\n",
    "print('MSE error for EMA averaging: %.5f'%(0.5*np.mean(mse_errors)))\n",
    "\n",
    "plt.figure(figsize = (10,5))\n",
    "plt.plot(range(df.shape[0]),all_mid_data,color='b',label='True')\n",
    "plt.plot(range(0,N),run_avg_predictions,color='orange', label='Prediction')\n",
    "#plt.xticks(range(0,df.shape[0],50),df['Date'].loc[::50],rotation=45)\n",
    "plt.xlabel('Date')\n",
    "plt.ylabel('Mid Price')\n",
    "plt.legend(fontsize=18)\n",
    "plt.show()"
   ]
  },
  {
   "cell_type": "markdown",
   "metadata": {},
   "source": [
    "Comment: Both model fit well with very low MSE. However, predicting the next day stock market value does not practically useful\n",
    "\n",
    "For predict more than one step into the future:\n",
    "    "
   ]
  },
  {
   "cell_type": "markdown",
   "metadata": {},
   "source": [
    "## Recurrent neural networks (RNNs)\n",
    "Keras LSTM, long short-term memory neural network,  model to forecast stock trends"
   ]
  },
  {
   "cell_type": "code",
   "execution_count": 195,
   "metadata": {},
   "outputs": [],
   "source": [
    "from sklearn.preprocessing import MinMaxScaler\n",
    "from keras.models import Sequential\n",
    "from keras.layers import LSTM\n",
    "from keras.layers import Dropout\n",
    "from keras.layers import Dense\n",
    "\n",
    "data_set = df['Open'].values"
   ]
  },
  {
   "cell_type": "code",
   "execution_count": 196,
   "metadata": {},
   "outputs": [
    {
     "data": {
      "text/html": [
       "<div>\n",
       "<style scoped>\n",
       "    .dataframe tbody tr th:only-of-type {\n",
       "        vertical-align: middle;\n",
       "    }\n",
       "\n",
       "    .dataframe tbody tr th {\n",
       "        vertical-align: top;\n",
       "    }\n",
       "\n",
       "    .dataframe thead th {\n",
       "        text-align: right;\n",
       "    }\n",
       "</style>\n",
       "<table border=\"1\" class=\"dataframe\">\n",
       "  <thead>\n",
       "    <tr style=\"text-align: right;\">\n",
       "      <th></th>\n",
       "      <th>Unnamed: 0</th>\n",
       "      <th>Date</th>\n",
       "      <th>Low</th>\n",
       "      <th>High</th>\n",
       "      <th>Close</th>\n",
       "      <th>Open</th>\n",
       "    </tr>\n",
       "  </thead>\n",
       "  <tbody>\n",
       "    <tr>\n",
       "      <th>3369</th>\n",
       "      <td>0</td>\n",
       "      <td>2007-05-03</td>\n",
       "      <td>20.55</td>\n",
       "      <td>21.95</td>\n",
       "      <td>20.72</td>\n",
       "      <td>21.75</td>\n",
       "    </tr>\n",
       "    <tr>\n",
       "      <th>3368</th>\n",
       "      <td>1</td>\n",
       "      <td>2007-05-04</td>\n",
       "      <td>20.70</td>\n",
       "      <td>21.35</td>\n",
       "      <td>20.98</td>\n",
       "      <td>21.05</td>\n",
       "    </tr>\n",
       "    <tr>\n",
       "      <th>3367</th>\n",
       "      <td>2</td>\n",
       "      <td>2007-05-07</td>\n",
       "      <td>20.20</td>\n",
       "      <td>21.29</td>\n",
       "      <td>20.36</td>\n",
       "      <td>21.20</td>\n",
       "    </tr>\n",
       "    <tr>\n",
       "      <th>3366</th>\n",
       "      <td>3</td>\n",
       "      <td>2007-05-08</td>\n",
       "      <td>19.30</td>\n",
       "      <td>20.00</td>\n",
       "      <td>19.63</td>\n",
       "      <td>20.00</td>\n",
       "    </tr>\n",
       "    <tr>\n",
       "      <th>3365</th>\n",
       "      <td>4</td>\n",
       "      <td>2007-05-09</td>\n",
       "      <td>19.63</td>\n",
       "      <td>20.20</td>\n",
       "      <td>19.79</td>\n",
       "      <td>19.75</td>\n",
       "    </tr>\n",
       "  </tbody>\n",
       "</table>\n",
       "</div>"
      ],
      "text/plain": [
       "      Unnamed: 0        Date    Low   High  Close   Open\n",
       "3369           0  2007-05-03  20.55  21.95  20.72  21.75\n",
       "3368           1  2007-05-04  20.70  21.35  20.98  21.05\n",
       "3367           2  2007-05-07  20.20  21.29  20.36  21.20\n",
       "3366           3  2007-05-08  19.30  20.00  19.63  20.00\n",
       "3365           4  2007-05-09  19.63  20.20  19.79  19.75"
      ]
     },
     "execution_count": 196,
     "metadata": {},
     "output_type": "execute_result"
    }
   ],
   "source": [
    "df.head()"
   ]
  },
  {
   "cell_type": "code",
   "execution_count": 197,
   "metadata": {},
   "outputs": [],
   "source": [
    "data_set =df.iloc[:, 4:5].values"
   ]
  },
  {
   "cell_type": "code",
   "execution_count": 198,
   "metadata": {},
   "outputs": [],
   "source": [
    "training_set=data_set[:3300]\n",
    "sc = MinMaxScaler(feature_range=(0,1))\n",
    "training_set_scaled = sc.fit_transform(training_set)"
   ]
  },
  {
   "cell_type": "code",
   "execution_count": 199,
   "metadata": {},
   "outputs": [],
   "source": [
    "X_train = []\n",
    "y_train = []\n",
    "for i in range(60, 3300):\n",
    "    X_train.append(training_set_scaled[i-60:i, 0])\n",
    "    y_train.append(training_set_scaled[i, 0])\n",
    "X_train, y_train = np.array(X_train), np.array(y_train)\n",
    "X_train = np.reshape(X_train, (X_train.shape[0], X_train.shape[1], 1))"
   ]
  },
  {
   "cell_type": "code",
   "execution_count": 200,
   "metadata": {},
   "outputs": [
    {
     "name": "stdout",
     "output_type": "stream",
     "text": [
      "Epoch 1/200\n",
      "3240/3240 [==============================] - 6s 2ms/step - loss: 0.0372\n",
      "Epoch 2/200\n",
      "3240/3240 [==============================] - 5s 1ms/step - loss: 0.0053A: 0s - loss: 0.005\n",
      "Epoch 3/200\n",
      "3240/3240 [==============================] - ETA: 0s - loss: 0.004 - 5s 1ms/step - loss: 0.0047\n",
      "Epoch 4/200\n",
      "3240/3240 [==============================] - 5s 2ms/step - loss: 0.0044\n",
      "Epoch 5/200\n",
      "3240/3240 [==============================] - 5s 1ms/step - loss: 0.0038\n",
      "Epoch 6/200\n",
      "3240/3240 [==============================] - 5s 1ms/step - loss: 0.0041\n",
      "Epoch 7/200\n",
      "3240/3240 [==============================] - 5s 1ms/step - loss: 0.0039\n",
      "Epoch 8/200\n",
      "3240/3240 [==============================] - 5s 1ms/step - loss: 0.0034\n",
      "Epoch 9/200\n",
      "3240/3240 [==============================] - 5s 1ms/step - loss: 0.0037\n",
      "Epoch 10/200\n",
      "3240/3240 [==============================] - 5s 1ms/step - loss: 0.0033\n",
      "Epoch 11/200\n",
      "3240/3240 [==============================] - 5s 1ms/step - loss: 0.0035\n",
      "Epoch 12/200\n",
      "3240/3240 [==============================] - 5s 1ms/step - loss: 0.0029\n",
      "Epoch 13/200\n",
      "3240/3240 [==============================] - 5s 1ms/step - loss: 0.0029A: 0s - lo\n",
      "Epoch 14/200\n",
      "3240/3240 [==============================] - 5s 1ms/step - loss: 0.0031\n",
      "Epoch 15/200\n",
      "3240/3240 [==============================] - 5s 1ms/step - loss: 0.0028A: 0s - loss: 0.002\n",
      "Epoch 16/200\n",
      "3240/3240 [==============================] - 5s 1ms/step - loss: 0.0026A: 0s - loss: 0.00\n",
      "Epoch 17/200\n",
      "3240/3240 [==============================] - 5s 1ms/step - loss: 0.0028\n",
      "Epoch 18/200\n",
      "3240/3240 [==============================] - 5s 2ms/step - loss: 0.0031\n",
      "Epoch 19/200\n",
      "3240/3240 [==============================] - 5s 2ms/step - loss: 0.0030\n",
      "Epoch 20/200\n",
      "3240/3240 [==============================] - 5s 1ms/step - loss: 0.0025\n",
      "Epoch 21/200\n",
      "3240/3240 [==============================] - 5s 1ms/step - loss: 0.0026\n",
      "Epoch 22/200\n",
      "3240/3240 [==============================] - 5s 1ms/step - loss: 0.0025\n",
      "Epoch 23/200\n",
      "3240/3240 [==============================] - 5s 1ms/step - loss: 0.0027\n",
      "Epoch 24/200\n",
      "3240/3240 [==============================] - 5s 1ms/step - loss: 0.0024\n",
      "Epoch 25/200\n",
      "3240/3240 [==============================] - 5s 1ms/step - loss: 0.0024\n",
      "Epoch 26/200\n",
      "3240/3240 [==============================] - 5s 1ms/step - loss: 0.0027\n",
      "Epoch 27/200\n",
      "3240/3240 [==============================] - 5s 1ms/step - loss: 0.0024\n",
      "Epoch 28/200\n",
      "3240/3240 [==============================] - 5s 1ms/step - loss: 0.0024A: 0s - loss: 0\n",
      "Epoch 29/200\n",
      "3240/3240 [==============================] - 5s 1ms/step - loss: 0.0024\n",
      "Epoch 30/200\n",
      "3240/3240 [==============================] - 5s 1ms/step - loss: 0.0022\n",
      "Epoch 31/200\n",
      "3240/3240 [==============================] - 5s 1ms/step - loss: 0.0019\n",
      "Epoch 32/200\n",
      "3240/3240 [==============================] - 5s 2ms/step - loss: 0.0021\n",
      "Epoch 33/200\n",
      "3240/3240 [==============================] - 5s 1ms/step - loss: 0.0020\n",
      "Epoch 34/200\n",
      "3240/3240 [==============================] - 5s 1ms/step - loss: 0.0023\n",
      "Epoch 35/200\n",
      "3240/3240 [==============================] - 5s 1ms/step - loss: 0.0020\n",
      "Epoch 36/200\n",
      "3240/3240 [==============================] - 5s 1ms/step - loss: 0.0020\n",
      "Epoch 37/200\n",
      "3240/3240 [==============================] - 5s 1ms/step - loss: 0.0019\n",
      "Epoch 38/200\n",
      "3240/3240 [==============================] - 5s 1ms/step - loss: 0.0020\n",
      "Epoch 39/200\n",
      "3240/3240 [==============================] - 5s 1ms/step - loss: 0.0019\n",
      "Epoch 40/200\n",
      "3240/3240 [==============================] - 5s 1ms/step - loss: 0.0021\n",
      "Epoch 41/200\n",
      "3240/3240 [==============================] - 5s 1ms/step - loss: 0.0019\n",
      "Epoch 42/200\n",
      "3240/3240 [==============================] - 5s 1ms/step - loss: 0.0018\n",
      "Epoch 43/200\n",
      "3240/3240 [==============================] - 5s 1ms/step - loss: 0.0021\n",
      "Epoch 44/200\n",
      "3240/3240 [==============================] - 5s 1ms/step - loss: 0.0019A: 0s - los\n",
      "Epoch 45/200\n",
      "3240/3240 [==============================] - 5s 1ms/step - loss: 0.0019\n",
      "Epoch 46/200\n",
      "3240/3240 [==============================] - 5s 1ms/step - loss: 0.0018\n",
      "Epoch 47/200\n",
      "3240/3240 [==============================] - 5s 1ms/step - loss: 0.0021\n",
      "Epoch 48/200\n",
      "3240/3240 [==============================] - 5s 1ms/step - loss: 0.0016\n",
      "Epoch 49/200\n",
      "3240/3240 [==============================] - 5s 1ms/step - loss: 0.0017\n",
      "Epoch 50/200\n",
      "3240/3240 [==============================] - 5s 1ms/step - loss: 0.0016\n",
      "Epoch 51/200\n",
      "3240/3240 [==============================] - 5s 1ms/step - loss: 0.0016\n",
      "Epoch 52/200\n",
      "3240/3240 [==============================] - 5s 1ms/step - loss: 0.0016\n",
      "Epoch 53/200\n",
      "3240/3240 [==============================] - 5s 1ms/step - loss: 0.0016A: 0s - los\n",
      "Epoch 54/200\n",
      "3240/3240 [==============================] - 5s 1ms/step - loss: 0.0015\n",
      "Epoch 55/200\n",
      "3240/3240 [==============================] - 5s 1ms/step - loss: 0.0016\n",
      "Epoch 56/200\n",
      "3240/3240 [==============================] - 5s 1ms/step - loss: 0.0015A: 0s - lo\n",
      "Epoch 57/200\n",
      "3240/3240 [==============================] - 5s 1ms/step - loss: 0.0014\n",
      "Epoch 58/200\n",
      "3240/3240 [==============================] - 5s 1ms/step - loss: 0.0015\n",
      "Epoch 59/200\n",
      "3240/3240 [==============================] - 5s 1ms/step - loss: 0.0014\n",
      "Epoch 60/200\n",
      "3240/3240 [==============================] - 5s 2ms/step - loss: 0.0015\n",
      "Epoch 61/200\n",
      "3240/3240 [==============================] - 5s 2ms/step - loss: 0.0014\n",
      "Epoch 62/200\n",
      "3240/3240 [==============================] - 5s 1ms/step - loss: 0.0015\n",
      "Epoch 63/200\n",
      "3240/3240 [==============================] - 5s 1ms/step - loss: 0.0017\n",
      "Epoch 64/200\n",
      "3240/3240 [==============================] - 5s 1ms/step - loss: 0.0015\n",
      "Epoch 65/200\n",
      "3240/3240 [==============================] - 5s 1ms/step - loss: 0.0014\n",
      "Epoch 66/200\n",
      "3240/3240 [==============================] - 5s 1ms/step - loss: 0.0014\n",
      "Epoch 67/200\n",
      "3240/3240 [==============================] - 5s 1ms/step - loss: 0.0014\n",
      "Epoch 68/200\n",
      "3240/3240 [==============================] - 5s 1ms/step - loss: 0.0014\n",
      "Epoch 69/200\n",
      "3240/3240 [==============================] - 5s 1ms/step - loss: 0.0013\n",
      "Epoch 70/200\n",
      "3240/3240 [==============================] - 5s 1ms/step - loss: 0.0013\n",
      "Epoch 71/200\n",
      "3240/3240 [==============================] - 5s 1ms/step - loss: 0.0016ETA: 0s - loss: 0.00\n",
      "Epoch 72/200\n",
      "3240/3240 [==============================] - 5s 1ms/step - loss: 0.0014\n",
      "Epoch 73/200\n",
      "3240/3240 [==============================] - 5s 1ms/step - loss: 0.0013\n",
      "Epoch 74/200\n",
      "3240/3240 [==============================] - 5s 2ms/step - loss: 0.0013\n",
      "Epoch 75/200\n",
      "3240/3240 [==============================] - 5s 1ms/step - loss: 0.0013\n",
      "Epoch 76/200\n",
      "3240/3240 [==============================] - 5s 1ms/step - loss: 0.0014\n",
      "Epoch 77/200\n",
      "3240/3240 [==============================] - 5s 1ms/step - loss: 0.0013\n",
      "Epoch 78/200\n",
      "3240/3240 [==============================] - 5s 1ms/step - loss: 0.0013\n",
      "Epoch 79/200\n",
      "3240/3240 [==============================] - 5s 1ms/step - loss: 0.0012\n",
      "Epoch 80/200\n",
      "3240/3240 [==============================] - 5s 1ms/step - loss: 0.0012\n",
      "Epoch 81/200\n",
      "3240/3240 [==============================] - 5s 1ms/step - loss: 0.0012\n",
      "Epoch 82/200\n",
      "3240/3240 [==============================] - 5s 1ms/step - loss: 0.0013\n",
      "Epoch 83/200\n",
      "3240/3240 [==============================] - 5s 1ms/step - loss: 0.0013\n",
      "Epoch 84/200\n",
      "3240/3240 [==============================] - 5s 1ms/step - loss: 0.0013\n",
      "Epoch 85/200\n",
      "3240/3240 [==============================] - 5s 1ms/step - loss: 0.0012\n",
      "Epoch 86/200\n",
      "3240/3240 [==============================] - 5s 1ms/step - loss: 0.0012\n",
      "Epoch 87/200\n",
      "3240/3240 [==============================] - 5s 1ms/step - loss: 0.0012\n",
      "Epoch 88/200\n",
      "3240/3240 [==============================] - 5s 1ms/step - loss: 0.0013\n",
      "Epoch 89/200\n",
      "3240/3240 [==============================] - 5s 1ms/step - loss: 0.0013\n",
      "Epoch 90/200\n",
      "3240/3240 [==============================] - 5s 1ms/step - loss: 0.0012A: 0s - loss: \n",
      "Epoch 91/200\n",
      "3240/3240 [==============================] - 5s 1ms/step - loss: 0.0012\n",
      "Epoch 92/200\n",
      "3240/3240 [==============================] - 5s 1ms/step - loss: 0.0012\n",
      "Epoch 93/200\n",
      "3240/3240 [==============================] - 5s 1ms/step - loss: 0.0011\n",
      "Epoch 94/200\n",
      "3240/3240 [==============================] - 5s 1ms/step - loss: 0.0011\n",
      "Epoch 95/200\n",
      "3240/3240 [==============================] - 5s 1ms/step - loss: 0.0011\n",
      "Epoch 96/200\n",
      "3240/3240 [==============================] - 5s 1ms/step - loss: 0.0011A:\n",
      "Epoch 97/200\n",
      "3240/3240 [==============================] - 5s 1ms/step - loss: 0.0012\n",
      "Epoch 98/200\n",
      "3240/3240 [==============================] - 5s 1ms/step - loss: 0.0012\n",
      "Epoch 99/200\n",
      "3240/3240 [==============================] - 5s 1ms/step - loss: 0.0011\n",
      "Epoch 100/200\n",
      "3240/3240 [==============================] - 5s 1ms/step - loss: 0.0014\n",
      "Epoch 101/200\n",
      "3240/3240 [==============================] - 5s 1ms/step - loss: 0.0011\n",
      "Epoch 102/200\n",
      "3240/3240 [==============================] - 5s 2ms/step - loss: 0.0011\n",
      "Epoch 103/200\n",
      "3240/3240 [==============================] - 5s 1ms/step - loss: 0.0011\n",
      "Epoch 104/200\n",
      "3240/3240 [==============================] - 5s 1ms/step - loss: 0.0011\n",
      "Epoch 105/200\n",
      "3240/3240 [==============================] - 5s 1ms/step - loss: 0.0011A: 0s - loss: 0\n",
      "Epoch 106/200\n",
      "3240/3240 [==============================] - 5s 1ms/step - loss: 0.0011\n",
      "Epoch 107/200\n",
      "3240/3240 [==============================] - 5s 1ms/step - loss: 0.0011\n",
      "Epoch 108/200\n",
      "3240/3240 [==============================] - 5s 1ms/step - loss: 0.0011\n",
      "Epoch 109/200\n",
      "3240/3240 [==============================] - 5s 1ms/step - loss: 0.0011A: 0s - loss: \n",
      "Epoch 110/200\n",
      "3240/3240 [==============================] - 5s 1ms/step - loss: 0.0010\n",
      "Epoch 111/200\n",
      "3240/3240 [==============================] - 5s 1ms/step - loss: 0.0010\n",
      "Epoch 112/200\n",
      "3240/3240 [==============================] - 5s 1ms/step - loss: 0.0011\n",
      "Epoch 113/200\n",
      "3240/3240 [==============================] - 5s 1ms/step - loss: 0.0012\n",
      "Epoch 114/200\n",
      "3240/3240 [==============================] - 5s 1ms/step - loss: 0.0011\n",
      "Epoch 115/200\n",
      "3240/3240 [==============================] - 5s 1ms/step - loss: 0.0011\n",
      "Epoch 116/200\n",
      "3240/3240 [==============================] - 5s 2ms/step - loss: 0.0011\n",
      "Epoch 117/200\n",
      "3240/3240 [==============================] - 5s 1ms/step - loss: 0.0010\n",
      "Epoch 118/200\n",
      "3240/3240 [==============================] - 5s 1ms/step - loss: 0.0011A: 0s - los\n",
      "Epoch 119/200\n",
      "3240/3240 [==============================] - 5s 1ms/step - loss: 0.0010\n",
      "Epoch 120/200\n",
      "3240/3240 [==============================] - 5s 1ms/step - loss: 9.4054e-04\n",
      "Epoch 121/200\n",
      "3240/3240 [==============================] - 5s 1ms/step - loss: 9.3891e-04\n",
      "Epoch 122/200\n",
      "3240/3240 [==============================] - 5s 1ms/step - loss: 0.0010- ETA:\n",
      "Epoch 123/200\n",
      "3240/3240 [==============================] - 5s 1ms/step - loss: 0.0010\n",
      "Epoch 124/200\n",
      "3240/3240 [==============================] - 5s 1ms/step - loss: 0.0011\n",
      "Epoch 125/200\n",
      "3240/3240 [==============================] - 5s 1ms/step - loss: 0.0012\n",
      "Epoch 126/200\n",
      "3240/3240 [==============================] - 5s 1ms/step - loss: 0.0011\n",
      "Epoch 127/200\n",
      "3240/3240 [==============================] - 5s 1ms/step - loss: 9.7910e-04\n",
      "Epoch 128/200\n",
      "3240/3240 [==============================] - 5s 1ms/step - loss: 0.0011\n",
      "Epoch 129/200\n",
      "3240/3240 [==============================] - 5s 1ms/step - loss: 0.0011\n",
      "Epoch 130/200\n",
      "3240/3240 [==============================] - 5s 2ms/step - loss: 0.0011\n",
      "Epoch 131/200\n",
      "3240/3240 [==============================] - 5s 1ms/step - loss: 0.0010\n",
      "Epoch 132/200\n",
      "3240/3240 [==============================] - 5s 1ms/step - loss: 9.3766e-04\n",
      "Epoch 133/200\n",
      "3240/3240 [==============================] - 5s 1ms/step - loss: 0.0010\n",
      "Epoch 134/200\n",
      "3240/3240 [==============================] - 5s 1ms/step - loss: 9.6620e-04\n",
      "Epoch 135/200\n",
      "3240/3240 [==============================] - 5s 1ms/step - loss: 9.9504e-04\n",
      "Epoch 136/200\n",
      "3240/3240 [==============================] - 5s 1ms/step - loss: 9.6034e-04\n",
      "Epoch 137/200\n",
      "3240/3240 [==============================] - 5s 1ms/step - loss: 9.4338e-04\n",
      "Epoch 138/200\n",
      "3240/3240 [==============================] - 5s 1ms/step - loss: 0.0011\n",
      "Epoch 139/200\n",
      "3240/3240 [==============================] - 5s 1ms/step - loss: 9.2939e-04A: 0s - loss: 9.2489e-\n",
      "Epoch 140/200\n",
      "3240/3240 [==============================] - 5s 1ms/step - loss: 0.0011\n",
      "Epoch 141/200\n",
      "3240/3240 [==============================] - 5s 1ms/step - loss: 0.0010\n",
      "Epoch 142/200\n",
      "3240/3240 [==============================] - 5s 1ms/step - loss: 9.5535e-04\n",
      "Epoch 143/200\n",
      "3240/3240 [==============================] - 5s 1ms/step - loss: 9.4782e-04\n",
      "Epoch 144/200\n",
      "3240/3240 [==============================] - 5s 2ms/step - loss: 9.7250e-04\n",
      "Epoch 145/200\n",
      "3240/3240 [==============================] - 5s 1ms/step - loss: 0.0010\n",
      "Epoch 146/200\n",
      "3240/3240 [==============================] - 5s 1ms/step - loss: 9.9205e-04\n",
      "Epoch 147/200\n",
      "3240/3240 [==============================] - 5s 1ms/step - loss: 9.1169e-04\n",
      "Epoch 148/200\n",
      "3240/3240 [==============================] - 5s 1ms/step - loss: 9.9972e-04\n",
      "Epoch 149/200\n",
      "3240/3240 [==============================] - 5s 1ms/step - loss: 9.1614e-04\n",
      "Epoch 150/200\n",
      "3240/3240 [==============================] - 5s 1ms/step - loss: 9.7619e-04A: 0s - loss: 9.7460\n",
      "Epoch 151/200\n",
      "3240/3240 [==============================] - 5s 1ms/step - loss: 9.0493e-04\n",
      "Epoch 152/200\n",
      "3240/3240 [==============================] - 5s 1ms/step - loss: 9.7073e-04\n",
      "Epoch 153/200\n",
      "3240/3240 [==============================] - 5s 1ms/step - loss: 9.3267e-04\n",
      "Epoch 154/200\n",
      "3240/3240 [==============================] - 5s 1ms/step - loss: 9.7411e-04\n",
      "Epoch 155/200\n",
      "3240/3240 [==============================] - 5s 1ms/step - loss: 9.9770e-04\n",
      "Epoch 156/200\n",
      "3240/3240 [==============================] - 5s 1ms/step - loss: 9.4439e-04\n",
      "Epoch 157/200\n",
      "3240/3240 [==============================] - 5s 1ms/step - loss: 8.9821e-04\n",
      "Epoch 158/200\n",
      "3240/3240 [==============================] - 5s 1ms/step - loss: 8.6995e-04\n",
      "Epoch 159/200\n",
      "3240/3240 [==============================] - 5s 1ms/step - loss: 9.4906e-04\n",
      "Epoch 160/200\n",
      "3240/3240 [==============================] - 5s 1ms/step - loss: 9.1541e-04\n",
      "Epoch 161/200\n",
      "3240/3240 [==============================] - 5s 1ms/step - loss: 8.8714e-04\n",
      "Epoch 162/200\n",
      "3240/3240 [==============================] - 5s 1ms/step - loss: 0.0010\n",
      "Epoch 163/200\n",
      "3240/3240 [==============================] - 5s 1ms/step - loss: 9.3703e-04\n",
      "Epoch 164/200\n",
      "3240/3240 [==============================] - 5s 1ms/step - loss: 9.2415e-04\n",
      "Epoch 165/200\n",
      "3240/3240 [==============================] - 5s 1ms/step - loss: 8.9106e-04\n",
      "Epoch 166/200\n",
      "3240/3240 [==============================] - 5s 1ms/step - loss: 0.0010\n",
      "Epoch 167/200\n",
      "3240/3240 [==============================] - 5s 1ms/step - loss: 9.1757e-04\n",
      "Epoch 168/200\n",
      "3240/3240 [==============================] - 5s 1ms/step - loss: 9.4766e-04A: 2s - loss: 9.421 - ETA: 1s \n",
      "Epoch 169/200\n",
      "3240/3240 [==============================] - 5s 1ms/step - loss: 9.1648e-04\n",
      "Epoch 170/200\n",
      "3240/3240 [==============================] - 5s 1ms/step - loss: 9.4701e-04\n",
      "Epoch 171/200\n",
      "3240/3240 [==============================] - 5s 1ms/step - loss: 8.9210e-04\n",
      "Epoch 172/200\n",
      "3240/3240 [==============================] - 5s 1ms/step - loss: 9.5357e-04\n",
      "Epoch 173/200\n",
      "3240/3240 [==============================] - 5s 2ms/step - loss: 9.4159e-04\n",
      "Epoch 174/200\n",
      "3240/3240 [==============================] - 5s 1ms/step - loss: 9.1365e-04\n",
      "Epoch 175/200\n",
      "3240/3240 [==============================] - 5s 2ms/step - loss: 9.4446e-04\n",
      "Epoch 176/200\n",
      "3240/3240 [==============================] - 5s 1ms/step - loss: 8.8724e-04\n",
      "Epoch 177/200\n",
      "3240/3240 [==============================] - 5s 1ms/step - loss: 9.1530e-04\n",
      "Epoch 178/200\n",
      "3240/3240 [==============================] - 5s 1ms/step - loss: 8.9825e-04\n",
      "Epoch 179/200\n",
      "3240/3240 [==============================] - 5s 1ms/step - loss: 9.3592e-04\n",
      "Epoch 180/200\n",
      "3240/3240 [==============================] - 5s 1ms/step - loss: 8.5408e-04\n",
      "Epoch 181/200\n",
      "3240/3240 [==============================] - 5s 1ms/step - loss: 9.1148e-04\n",
      "Epoch 182/200\n",
      "3240/3240 [==============================] - 5s 1ms/step - loss: 8.7213e-04\n",
      "Epoch 183/200\n",
      "3240/3240 [==============================] - 5s 1ms/step - loss: 8.5413e-04\n",
      "Epoch 184/200\n",
      "3240/3240 [==============================] - 5s 1ms/step - loss: 9.0293e-04\n",
      "Epoch 185/200\n",
      "3240/3240 [==============================] - 5s 1ms/step - loss: 9.4767e-04\n",
      "Epoch 186/200\n"
     ]
    },
    {
     "name": "stdout",
     "output_type": "stream",
     "text": [
      "3240/3240 [==============================] - 5s 1ms/step - loss: 9.2529e-04\n",
      "Epoch 187/200\n",
      "3240/3240 [==============================] - 5s 2ms/step - loss: 9.4140e-04\n",
      "Epoch 188/200\n",
      "3240/3240 [==============================] - 5s 1ms/step - loss: 8.8105e-04\n",
      "Epoch 189/200\n",
      "3240/3240 [==============================] - 5s 1ms/step - loss: 8.6164e-04\n",
      "Epoch 190/200\n",
      "3240/3240 [==============================] - 5s 1ms/step - loss: 8.8793e-04\n",
      "Epoch 191/200\n",
      "3240/3240 [==============================] - 5s 1ms/step - loss: 9.5221e-04\n",
      "Epoch 192/200\n",
      "3240/3240 [==============================] - 5s 1ms/step - loss: 9.1884e-04\n",
      "Epoch 193/200\n",
      "3240/3240 [==============================] - 5s 1ms/step - loss: 9.1058e-04A: 0s - loss: 9.12\n",
      "Epoch 194/200\n",
      "3240/3240 [==============================] - 5s 1ms/step - loss: 9.3051e-04\n",
      "Epoch 195/200\n",
      "3240/3240 [==============================] - 5s 1ms/step - loss: 9.8490e-04\n",
      "Epoch 196/200\n",
      "3240/3240 [==============================] - 5s 1ms/step - loss: 9.4424e-04A: 0s - loss: 9.5\n",
      "Epoch 197/200\n",
      "3240/3240 [==============================] - 5s 1ms/step - loss: 9.4799e-04\n",
      "Epoch 198/200\n",
      "3240/3240 [==============================] - 5s 1ms/step - loss: 8.5848e-04\n",
      "Epoch 199/200\n",
      "3240/3240 [==============================] - 5s 1ms/step - loss: 9.0674e-04\n",
      "Epoch 200/200\n",
      "3240/3240 [==============================] - 5s 1ms/step - loss: 8.8469e-04\n"
     ]
    },
    {
     "data": {
      "text/plain": [
       "<keras.callbacks.callbacks.History at 0x2a071b25a88>"
      ]
     },
     "execution_count": 200,
     "metadata": {},
     "output_type": "execute_result"
    }
   ],
   "source": [
    "model = Sequential()\n",
    "model.add(LSTM(units=50,return_sequences=True,input_shape=(X_train.shape[1], 1)))\n",
    "model.add(Dropout(0.2))\n",
    "model.add(LSTM(units=50,return_sequences=True))\n",
    "model.add(Dropout(0.2))\n",
    "model.add(LSTM(units=50,return_sequences=True))\n",
    "model.add(Dropout(0.2))\n",
    "model.add(LSTM(units=50))\n",
    "model.add(Dropout(0.2))\n",
    "model.add(Dense(units=1))\n",
    "model.compile(optimizer='adam',loss='mean_squared_error')\n",
    "model.fit(X_train,y_train,epochs=200,batch_size=64)"
   ]
  },
  {
   "cell_type": "code",
   "execution_count": 203,
   "metadata": {},
   "outputs": [],
   "source": [
    "# predict\n",
    "test_set=data_set[3300:]\n",
    "inputs = data_set[len(data_set) - len(test_set) - 60:]\n",
    "inputs = inputs.reshape(-1,1)\n",
    "inputs = sc.transform(inputs)\n",
    "X_test = []\n",
    "for i in range(60, 130):\n",
    "    X_test.append(inputs[i-60:i, 0])\n",
    "X_test = np.array(X_test)\n",
    "X_test = np.reshape(X_test, (X_test.shape[0], X_test.shape[1], 1))\n",
    "predicted_stock_price = model.predict(X_test)\n",
    "predicted_stock_price = sc.inverse_transform(predicted_stock_price)"
   ]
  },
  {
   "cell_type": "code",
   "execution_count": 204,
   "metadata": {},
   "outputs": [
    {
     "data": {
      "image/png": "[encoded data removed]",
      "text/plain": [
       "<Figure size 432x288 with 1 Axes>"
      ]
     },
     "metadata": {
      "needs_background": "light"
     },
     "output_type": "display_data"
    }
   ],
   "source": [
    "# Plot\n",
    "plt.plot(data_set[3300:], color = 'black', label = 'DAL Stock Price')\n",
    "plt.plot(predicted_stock_price, color = 'green', label = 'Predicted DAL Stock Price')\n",
    "plt.title('DAL Stock Price Prediction')\n",
    "plt.xlabel('DAYS')\n",
    "plt.ylabel('DAL Stock Price')\n",
    "plt.legend()\n",
    "plt.show()"
   ]
  },
  {
   "cell_type": "markdown",
   "metadata": {},
   "source": [
    "#### Not bad"
   ]
  }
 ],
 "metadata": {
  "kernelspec": {
   "display_name": "Python 3",
   "language": "python",
   "name": "python3"
  },
  "language_info": {
   "codemirror_mode": {
    "name": "ipython",
    "version": 3
   },
   "file_extension": ".py",
   "mimetype": "text/x-python",
   "name": "python",
   "nbconvert_exporter": "python",
   "pygments_lexer": "ipython3",
   "version": "3.7.6"
  }
 },
 "nbformat": 4,
 "nbformat_minor": 4
}
