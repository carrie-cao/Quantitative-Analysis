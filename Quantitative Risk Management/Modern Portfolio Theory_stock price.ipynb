{
 "cells": [
  {
   "cell_type": "markdown",
   "metadata": {},
   "source": [
    "# Risk and return\n",
    "Modern Portfolio Theory on a Financial Portofolio of 5 companies with stock prices for the period 2015 - 2019 \n"
   ]
  },
  {
   "cell_type": "code",
   "execution_count": 46,
   "metadata": {},
   "outputs": [],
   "source": [
    "import numpy as np\n",
    "import pandas as pd"
   ]
  },
  {
   "cell_type": "code",
   "execution_count": 47,
   "metadata": {},
   "outputs": [
    {
     "data": {
      "text/html": [
       "<div>\n",
       "<style scoped>\n",
       "    .dataframe tbody tr th:only-of-type {\n",
       "        vertical-align: middle;\n",
       "    }\n",
       "\n",
       "    .dataframe tbody tr th {\n",
       "        vertical-align: top;\n",
       "    }\n",
       "\n",
       "    .dataframe thead th {\n",
       "        text-align: right;\n",
       "    }\n",
       "</style>\n",
       "<table border=\"1\" class=\"dataframe\">\n",
       "  <thead>\n",
       "    <tr style=\"text-align: right;\">\n",
       "      <th></th>\n",
       "      <th>date</th>\n",
       "      <th>AAPL</th>\n",
       "      <th>AMZN</th>\n",
       "      <th>FB</th>\n",
       "      <th>GOOG</th>\n",
       "      <th>NFLX</th>\n",
       "    </tr>\n",
       "  </thead>\n",
       "  <tbody>\n",
       "    <tr>\n",
       "      <th>0</th>\n",
       "      <td>2015-01-02</td>\n",
       "      <td>101.1385</td>\n",
       "      <td>308.52</td>\n",
       "      <td>78.45</td>\n",
       "      <td>524.81</td>\n",
       "      <td>49.8485</td>\n",
       "    </tr>\n",
       "    <tr>\n",
       "      <th>1</th>\n",
       "      <td>2015-01-05</td>\n",
       "      <td>98.2893</td>\n",
       "      <td>302.19</td>\n",
       "      <td>77.19</td>\n",
       "      <td>513.87</td>\n",
       "      <td>47.3114</td>\n",
       "    </tr>\n",
       "  </tbody>\n",
       "</table>\n",
       "</div>"
      ],
      "text/plain": [
       "         date      AAPL    AMZN     FB    GOOG     NFLX\n",
       "0  2015-01-02  101.1385  308.52  78.45  524.81  49.8485\n",
       "1  2015-01-05   98.2893  302.19  77.19  513.87  47.3114"
      ]
     },
     "execution_count": 47,
     "metadata": {},
     "output_type": "execute_result"
    }
   ],
   "source": [
    "\n",
    "df = pd.read_csv(\"portfolio.csv\")\n",
    "df.head(2)\n"
   ]
  },
  {
   "cell_type": "code",
   "execution_count": 48,
   "metadata": {},
   "outputs": [],
   "source": [
    "df['date'] = pd.to_datetime(df['date'], format='%Y-%m-%d')\n",
    "df.set_index(['date'], inplace = True)"
   ]
  },
  {
   "cell_type": "code",
   "execution_count": 49,
   "metadata": {},
   "outputs": [
    {
     "data": {
      "text/html": [
       "<div>\n",
       "<style scoped>\n",
       "    .dataframe tbody tr th:only-of-type {\n",
       "        vertical-align: middle;\n",
       "    }\n",
       "\n",
       "    .dataframe tbody tr th {\n",
       "        vertical-align: top;\n",
       "    }\n",
       "\n",
       "    .dataframe thead th {\n",
       "        text-align: right;\n",
       "    }\n",
       "</style>\n",
       "<table border=\"1\" class=\"dataframe\">\n",
       "  <thead>\n",
       "    <tr style=\"text-align: right;\">\n",
       "      <th></th>\n",
       "      <th>AAPL</th>\n",
       "      <th>AMZN</th>\n",
       "      <th>FB</th>\n",
       "      <th>GOOG</th>\n",
       "      <th>NFLX</th>\n",
       "    </tr>\n",
       "    <tr>\n",
       "      <th>date</th>\n",
       "      <th></th>\n",
       "      <th></th>\n",
       "      <th></th>\n",
       "      <th></th>\n",
       "      <th></th>\n",
       "    </tr>\n",
       "  </thead>\n",
       "  <tbody>\n",
       "    <tr>\n",
       "      <th>2015-01-02</th>\n",
       "      <td>101.1385</td>\n",
       "      <td>308.52</td>\n",
       "      <td>78.450</td>\n",
       "      <td>524.81</td>\n",
       "      <td>49.8485</td>\n",
       "    </tr>\n",
       "    <tr>\n",
       "      <th>2015-01-05</th>\n",
       "      <td>98.2893</td>\n",
       "      <td>302.19</td>\n",
       "      <td>77.190</td>\n",
       "      <td>513.87</td>\n",
       "      <td>47.3114</td>\n",
       "    </tr>\n",
       "    <tr>\n",
       "      <th>2015-01-06</th>\n",
       "      <td>98.2985</td>\n",
       "      <td>295.29</td>\n",
       "      <td>76.150</td>\n",
       "      <td>501.96</td>\n",
       "      <td>46.5014</td>\n",
       "    </tr>\n",
       "    <tr>\n",
       "      <th>2015-01-07</th>\n",
       "      <td>99.6769</td>\n",
       "      <td>298.42</td>\n",
       "      <td>76.150</td>\n",
       "      <td>501.10</td>\n",
       "      <td>46.7428</td>\n",
       "    </tr>\n",
       "    <tr>\n",
       "      <th>2015-01-08</th>\n",
       "      <td>103.5067</td>\n",
       "      <td>300.46</td>\n",
       "      <td>78.175</td>\n",
       "      <td>502.68</td>\n",
       "      <td>47.7792</td>\n",
       "    </tr>\n",
       "  </tbody>\n",
       "</table>\n",
       "</div>"
      ],
      "text/plain": [
       "                AAPL    AMZN      FB    GOOG     NFLX\n",
       "date                                                 \n",
       "2015-01-02  101.1385  308.52  78.450  524.81  49.8485\n",
       "2015-01-05   98.2893  302.19  77.190  513.87  47.3114\n",
       "2015-01-06   98.2985  295.29  76.150  501.96  46.5014\n",
       "2015-01-07   99.6769  298.42  76.150  501.10  46.7428\n",
       "2015-01-08  103.5067  300.46  78.175  502.68  47.7792"
      ]
     },
     "execution_count": 49,
     "metadata": {},
     "output_type": "execute_result"
    }
   ],
   "source": [
    "#df=df.set_index('date')\n",
    "df.head()"
   ]
  },
  {
   "cell_type": "code",
   "execution_count": 50,
   "metadata": {},
   "outputs": [
    {
     "data": {
      "text/html": [
       "<div>\n",
       "<style scoped>\n",
       "    .dataframe tbody tr th:only-of-type {\n",
       "        vertical-align: middle;\n",
       "    }\n",
       "\n",
       "    .dataframe tbody tr th {\n",
       "        vertical-align: top;\n",
       "    }\n",
       "\n",
       "    .dataframe thead th {\n",
       "        text-align: right;\n",
       "    }\n",
       "</style>\n",
       "<table border=\"1\" class=\"dataframe\">\n",
       "  <thead>\n",
       "    <tr style=\"text-align: right;\">\n",
       "      <th></th>\n",
       "      <th>AAPL</th>\n",
       "      <th>AMZN</th>\n",
       "      <th>FB</th>\n",
       "      <th>GOOG</th>\n",
       "      <th>NFLX</th>\n",
       "    </tr>\n",
       "    <tr>\n",
       "      <th>date</th>\n",
       "      <th></th>\n",
       "      <th></th>\n",
       "      <th></th>\n",
       "      <th></th>\n",
       "      <th></th>\n",
       "    </tr>\n",
       "  </thead>\n",
       "  <tbody>\n",
       "    <tr>\n",
       "      <th>2015-01-02</th>\n",
       "      <td>101.1385</td>\n",
       "      <td>308.52</td>\n",
       "      <td>78.450</td>\n",
       "      <td>524.81</td>\n",
       "      <td>49.8485</td>\n",
       "    </tr>\n",
       "    <tr>\n",
       "      <th>2015-01-05</th>\n",
       "      <td>98.2893</td>\n",
       "      <td>302.19</td>\n",
       "      <td>77.190</td>\n",
       "      <td>513.87</td>\n",
       "      <td>47.3114</td>\n",
       "    </tr>\n",
       "    <tr>\n",
       "      <th>2015-01-06</th>\n",
       "      <td>98.2985</td>\n",
       "      <td>295.29</td>\n",
       "      <td>76.150</td>\n",
       "      <td>501.96</td>\n",
       "      <td>46.5014</td>\n",
       "    </tr>\n",
       "    <tr>\n",
       "      <th>2015-01-07</th>\n",
       "      <td>99.6769</td>\n",
       "      <td>298.42</td>\n",
       "      <td>76.150</td>\n",
       "      <td>501.10</td>\n",
       "      <td>46.7428</td>\n",
       "    </tr>\n",
       "    <tr>\n",
       "      <th>2015-01-08</th>\n",
       "      <td>103.5067</td>\n",
       "      <td>300.46</td>\n",
       "      <td>78.175</td>\n",
       "      <td>502.68</td>\n",
       "      <td>47.7792</td>\n",
       "    </tr>\n",
       "    <tr>\n",
       "      <th>...</th>\n",
       "      <td>...</td>\n",
       "      <td>...</td>\n",
       "      <td>...</td>\n",
       "      <td>...</td>\n",
       "      <td>...</td>\n",
       "    </tr>\n",
       "    <tr>\n",
       "      <th>2016-12-23</th>\n",
       "      <td>112.0655</td>\n",
       "      <td>760.59</td>\n",
       "      <td>117.270</td>\n",
       "      <td>789.91</td>\n",
       "      <td>125.5900</td>\n",
       "    </tr>\n",
       "    <tr>\n",
       "      <th>2016-12-27</th>\n",
       "      <td>112.7772</td>\n",
       "      <td>771.40</td>\n",
       "      <td>118.010</td>\n",
       "      <td>791.55</td>\n",
       "      <td>128.3500</td>\n",
       "    </tr>\n",
       "    <tr>\n",
       "      <th>2016-12-28</th>\n",
       "      <td>112.2963</td>\n",
       "      <td>772.13</td>\n",
       "      <td>116.920</td>\n",
       "      <td>785.05</td>\n",
       "      <td>125.8900</td>\n",
       "    </tr>\n",
       "    <tr>\n",
       "      <th>2016-12-29</th>\n",
       "      <td>112.2675</td>\n",
       "      <td>765.15</td>\n",
       "      <td>116.350</td>\n",
       "      <td>782.79</td>\n",
       "      <td>125.3300</td>\n",
       "    </tr>\n",
       "    <tr>\n",
       "      <th>2016-12-30</th>\n",
       "      <td>111.3923</td>\n",
       "      <td>749.87</td>\n",
       "      <td>115.050</td>\n",
       "      <td>771.82</td>\n",
       "      <td>123.8000</td>\n",
       "    </tr>\n",
       "  </tbody>\n",
       "</table>\n",
       "<p>504 rows × 5 columns</p>\n",
       "</div>"
      ],
      "text/plain": [
       "                AAPL    AMZN       FB    GOOG      NFLX\n",
       "date                                                   \n",
       "2015-01-02  101.1385  308.52   78.450  524.81   49.8485\n",
       "2015-01-05   98.2893  302.19   77.190  513.87   47.3114\n",
       "2015-01-06   98.2985  295.29   76.150  501.96   46.5014\n",
       "2015-01-07   99.6769  298.42   76.150  501.10   46.7428\n",
       "2015-01-08  103.5067  300.46   78.175  502.68   47.7792\n",
       "...              ...     ...      ...     ...       ...\n",
       "2016-12-23  112.0655  760.59  117.270  789.91  125.5900\n",
       "2016-12-27  112.7772  771.40  118.010  791.55  128.3500\n",
       "2016-12-28  112.2963  772.13  116.920  785.05  125.8900\n",
       "2016-12-29  112.2675  765.15  116.350  782.79  125.3300\n",
       "2016-12-30  111.3923  749.87  115.050  771.82  123.8000\n",
       "\n",
       "[504 rows x 5 columns]"
      ]
     },
     "execution_count": 50,
     "metadata": {},
     "output_type": "execute_result"
    }
   ],
   "source": [
    "asset_prices = df.loc['2015-01-01':'2016-12-31']\n",
    "asset_prices"
   ]
  },
  {
   "cell_type": "markdown",
   "metadata": {},
   "source": [
    "asset_prices = df.loc[(df.date>='2015-01-01') & (df.date<='2016-12-31')]\n",
    "asset_prices\n",
    "\n",
    "df=df.set_index('date')"
   ]
  },
  {
   "cell_type": "code",
   "execution_count": 51,
   "metadata": {},
   "outputs": [
    {
     "data": {
      "image/png": "[encoded data removed]",
      "text/plain": [
       "<Figure size 432x288 with 1 Axes>"
      ]
     },
     "metadata": {
      "needs_background": "light"
     },
     "output_type": "display_data"
    }
   ],
   "source": [
    "# Plot portfolio's asset prices during this time\n",
    "import matplotlib.pyplot as plt\n",
    "asset_prices.plot().set_ylabel(\"Closing Prices, USD\")\n",
    "plt.show()"
   ]
  },
  {
   "cell_type": "code",
   "execution_count": 52,
   "metadata": {},
   "outputs": [],
   "source": [
    "weights = [0.25, 0.25, 0.25, 0.25, 0.25]\n",
    "# Compute the portfolio's daily returns\n",
    "asset_returns = asset_prices.pct_change()\n",
    "portfolio_returns = asset_returns.dot(weights)"
   ]
  },
  {
   "cell_type": "code",
   "execution_count": 53,
   "metadata": {},
   "outputs": [
    {
     "data": {
      "text/html": [
       "<div>\n",
       "<style scoped>\n",
       "    .dataframe tbody tr th:only-of-type {\n",
       "        vertical-align: middle;\n",
       "    }\n",
       "\n",
       "    .dataframe tbody tr th {\n",
       "        vertical-align: top;\n",
       "    }\n",
       "\n",
       "    .dataframe thead th {\n",
       "        text-align: right;\n",
       "    }\n",
       "</style>\n",
       "<table border=\"1\" class=\"dataframe\">\n",
       "  <thead>\n",
       "    <tr style=\"text-align: right;\">\n",
       "      <th></th>\n",
       "      <th>AAPL</th>\n",
       "      <th>AMZN</th>\n",
       "      <th>FB</th>\n",
       "      <th>GOOG</th>\n",
       "      <th>NFLX</th>\n",
       "    </tr>\n",
       "    <tr>\n",
       "      <th>date</th>\n",
       "      <th></th>\n",
       "      <th></th>\n",
       "      <th></th>\n",
       "      <th></th>\n",
       "      <th></th>\n",
       "    </tr>\n",
       "  </thead>\n",
       "  <tbody>\n",
       "    <tr>\n",
       "      <th>2015-01-02</th>\n",
       "      <td>NaN</td>\n",
       "      <td>NaN</td>\n",
       "      <td>NaN</td>\n",
       "      <td>NaN</td>\n",
       "      <td>NaN</td>\n",
       "    </tr>\n",
       "    <tr>\n",
       "      <th>2015-01-05</th>\n",
       "      <td>-0.028171</td>\n",
       "      <td>-0.020517</td>\n",
       "      <td>-0.016061</td>\n",
       "      <td>-0.020846</td>\n",
       "      <td>-0.050896</td>\n",
       "    </tr>\n",
       "    <tr>\n",
       "      <th>2015-01-06</th>\n",
       "      <td>0.000094</td>\n",
       "      <td>-0.022833</td>\n",
       "      <td>-0.013473</td>\n",
       "      <td>-0.023177</td>\n",
       "      <td>-0.017121</td>\n",
       "    </tr>\n",
       "    <tr>\n",
       "      <th>2015-01-07</th>\n",
       "      <td>0.014023</td>\n",
       "      <td>0.010600</td>\n",
       "      <td>0.000000</td>\n",
       "      <td>-0.001713</td>\n",
       "      <td>0.005191</td>\n",
       "    </tr>\n",
       "    <tr>\n",
       "      <th>2015-01-08</th>\n",
       "      <td>0.038422</td>\n",
       "      <td>0.006836</td>\n",
       "      <td>0.026592</td>\n",
       "      <td>0.003153</td>\n",
       "      <td>0.022172</td>\n",
       "    </tr>\n",
       "    <tr>\n",
       "      <th>...</th>\n",
       "      <td>...</td>\n",
       "      <td>...</td>\n",
       "      <td>...</td>\n",
       "      <td>...</td>\n",
       "      <td>...</td>\n",
       "    </tr>\n",
       "    <tr>\n",
       "      <th>2016-12-23</th>\n",
       "      <td>0.001978</td>\n",
       "      <td>-0.007503</td>\n",
       "      <td>-0.001107</td>\n",
       "      <td>-0.001706</td>\n",
       "      <td>0.000080</td>\n",
       "    </tr>\n",
       "    <tr>\n",
       "      <th>2016-12-27</th>\n",
       "      <td>0.006351</td>\n",
       "      <td>0.014213</td>\n",
       "      <td>0.006310</td>\n",
       "      <td>0.002076</td>\n",
       "      <td>0.021976</td>\n",
       "    </tr>\n",
       "    <tr>\n",
       "      <th>2016-12-28</th>\n",
       "      <td>-0.004264</td>\n",
       "      <td>0.000946</td>\n",
       "      <td>-0.009237</td>\n",
       "      <td>-0.008212</td>\n",
       "      <td>-0.019166</td>\n",
       "    </tr>\n",
       "    <tr>\n",
       "      <th>2016-12-29</th>\n",
       "      <td>-0.000256</td>\n",
       "      <td>-0.009040</td>\n",
       "      <td>-0.004875</td>\n",
       "      <td>-0.002879</td>\n",
       "      <td>-0.004448</td>\n",
       "    </tr>\n",
       "    <tr>\n",
       "      <th>2016-12-30</th>\n",
       "      <td>-0.007796</td>\n",
       "      <td>-0.019970</td>\n",
       "      <td>-0.011173</td>\n",
       "      <td>-0.014014</td>\n",
       "      <td>-0.012208</td>\n",
       "    </tr>\n",
       "  </tbody>\n",
       "</table>\n",
       "<p>504 rows × 5 columns</p>\n",
       "</div>"
      ],
      "text/plain": [
       "                AAPL      AMZN        FB      GOOG      NFLX\n",
       "date                                                        \n",
       "2015-01-02       NaN       NaN       NaN       NaN       NaN\n",
       "2015-01-05 -0.028171 -0.020517 -0.016061 -0.020846 -0.050896\n",
       "2015-01-06  0.000094 -0.022833 -0.013473 -0.023177 -0.017121\n",
       "2015-01-07  0.014023  0.010600  0.000000 -0.001713  0.005191\n",
       "2015-01-08  0.038422  0.006836  0.026592  0.003153  0.022172\n",
       "...              ...       ...       ...       ...       ...\n",
       "2016-12-23  0.001978 -0.007503 -0.001107 -0.001706  0.000080\n",
       "2016-12-27  0.006351  0.014213  0.006310  0.002076  0.021976\n",
       "2016-12-28 -0.004264  0.000946 -0.009237 -0.008212 -0.019166\n",
       "2016-12-29 -0.000256 -0.009040 -0.004875 -0.002879 -0.004448\n",
       "2016-12-30 -0.007796 -0.019970 -0.011173 -0.014014 -0.012208\n",
       "\n",
       "[504 rows x 5 columns]"
      ]
     },
     "execution_count": 53,
     "metadata": {},
     "output_type": "execute_result"
    }
   ],
   "source": [
    "asset_returns "
   ]
  },
  {
   "cell_type": "code",
   "execution_count": 54,
   "metadata": {},
   "outputs": [
    {
     "data": {
      "image/png": "[encoded data removed]",
      "text/plain": [
       "<Figure size 432x288 with 1 Axes>"
      ]
     },
     "metadata": {
      "needs_background": "light"
     },
     "output_type": "display_data"
    }
   ],
   "source": [
    "# Plot portfolio returns\n",
    "portfolio_returns.plot().set_ylabel(\"Daily Return, %\")\n",
    "plt.show()"
   ]
  },
  {
   "cell_type": "markdown",
   "metadata": {},
   "source": [
    "### Asset covariance and portfolio volatility\n",
    "\n",
    "Assess the riskiness of the portfolio using the covariance matrix to determine the portfolio's volatility.\n",
    "\n",
    "> First compute the covariance between the asset_returns identify which company had the highest volatility;\n",
    "> Then given the weights of an equal-weighted portfolio, find the portfolio's annualized volatility for that period using portfolio_returns;\n",
    "> Finally use a 30-day window to create a time series of the volatility"
   ]
  },
  {
   "cell_type": "code",
   "execution_count": 55,
   "metadata": {},
   "outputs": [
    {
     "name": "stdout",
     "output_type": "stream",
     "text": [
      "          AAPL      AMZN        FB      GOOG      NFLX\n",
      "AAPL  0.062948  0.028493  0.030566  0.025905  0.033046\n",
      "AMZN  0.028493  0.100899  0.046501  0.047008  0.053256\n",
      "FB    0.030566  0.046501  0.073259  0.039819  0.044325\n",
      "GOOG  0.025905  0.047008  0.039819  0.063664  0.045252\n",
      "NFLX  0.033046  0.053256  0.044325  0.045252  0.228188\n"
     ]
    }
   ],
   "source": [
    "# Generate the covariance matrix from portfolio asset's returns\n",
    "covariance = asset_returns.cov()\n",
    "# Annualize the covariance using 252 trading days per year\n",
    "covariance = covariance * 252\n",
    "# Display the covariance matrix\n",
    "#Which portfolio asset has the highest annualized volatility over the time period\n",
    "print(covariance)"
   ]
  },
  {
   "cell_type": "code",
   "execution_count": 56,
   "metadata": {},
   "outputs": [
    {
     "name": "stdout",
     "output_type": "stream",
     "text": [
      "0.2869344869386212\n"
     ]
    }
   ],
   "source": [
    "# Compute and display portfolio volatility for 2015 - 2016\n",
    "portfolio_variance = np.transpose(weights)@covariance@weights\n",
    "portfolio_volatility = np.sqrt(portfolio_variance)\n",
    "print(portfolio_volatility)"
   ]
  },
  {
   "cell_type": "markdown",
   "metadata": {},
   "source": [
    "Calculate the 30-day rolling window returns_windowed using the .rolling() method of portfolio_returns.\n",
    "Compute series volatility using the .std() method of returns_windowed, multiplying by the .sqrt() of the number of trading days (252)."
   ]
  },
  {
   "cell_type": "code",
   "execution_count": 57,
   "metadata": {},
   "outputs": [
    {
     "data": {
      "image/png": "[encoded data removed]",
      "text/plain": [
       "<Figure size 432x288 with 1 Axes>"
      ]
     },
     "metadata": {
      "needs_background": "light"
     },
     "output_type": "display_data"
    }
   ],
   "source": [
    "# Calculate the 30-day rolling window of portfolio returns\n",
    "returns_windowed = portfolio_returns.rolling(30)\n",
    "\n",
    "# Compute the annualized volatility series\n",
    "volatility_series = returns_windowed.std()*np.sqrt(252)\n",
    "\n",
    "# Plot the portfolio volatility\n",
    "volatility_series.plot().set_ylabel(\"Annualized Volatility, 30-day Window\")\n",
    "plt.show()"
   ]
  },
  {
   "cell_type": "markdown",
   "metadata": {},
   "source": [
    "### Frequency resampling primer\n",
    "Risk factor models often rely upon data that is of different frequencies\n",
    "\n",
    "Pandas objects has a built-in .resample() method that specifies the lower frequency. \n"
   ]
  },
  {
   "cell_type": "code",
   "execution_count": 58,
   "metadata": {},
   "outputs": [
    {
     "name": "stdout",
     "output_type": "stream",
     "text": [
      "                AAPL      AMZN        FB      GOOG      NFLX\n",
      "date                                                        \n",
      "2015-03-31  0.002375  0.003366  0.000881  0.000821  0.003378\n",
      "2015-06-30  0.000256  0.002661  0.000758 -0.000759  0.007590\n",
      "2015-09-30 -0.001708  0.002852  0.000952  0.002826  0.002293\n",
      "2015-12-31 -0.000544  0.004491  0.002496  0.003572  0.001990\n",
      "2016-03-31  0.000839 -0.001744  0.001789 -0.000163 -0.001309\n",
      "                AAPL      AMZN        FB      GOOG      NFLX\n",
      "date                                                        \n",
      "2015-01-11 -0.028171 -0.022833 -0.016061 -0.023177 -0.050896\n",
      "2015-01-18 -0.027140 -0.021550 -0.029234 -0.007296 -0.031766\n",
      "2015-01-25  0.005161 -0.004471  0.002318 -0.002322  0.021041\n",
      "2015-02-01 -0.035013 -0.009397 -0.026795 -0.030978 -0.025784\n",
      "2015-02-08 -0.008422 -0.002524 -0.015142 -0.012244 -0.017967\n"
     ]
    }
   ],
   "source": [
    "# Convert daily returns to quarterly average returns\n",
    "returns = df.pct_change()\n",
    "returns_q = returns.resample('Q').mean()\n",
    "#returns_q = returns.resample('Q').mean().dropna()\n",
    "# Examine the beginning of the quarterly series\n",
    "print(returns_q.head())\n",
    "\n",
    "# convert daily returns to weekly minimum returns\n",
    "returns_w = returns.resample('W').min().dropna()\n",
    "#returns_w = returns.resample('W').min()\n",
    "# Examine the beginning of the weekly series\n",
    "print(returns_w.head())"
   ]
  },
  {
   "cell_type": "markdown",
   "metadata": {},
   "source": [
    "# Modern Portfolio Theory — (MPT)\n",
    "\n",
    "Basics of the Model\n",
    "* Portfolio Expected Return- The expected return of a portfolio is calculated by multiplying the weight of the asset by its return and summing the values of all the assets together.\n",
    "* Portfolio Variance - Portfolio variance is used as the measure of risk in this model. \n",
    "* Sharpe Ratio - The Sharpe ratio measures the return of an investment in relation to the risk-free rate (Treasury rate) and its risk profile. \n",
    "* The Efficient Frontier - Measure risk vs returns and is used to select the most optimum portfolio to invest into after considering the risk profile and the characteristics of the investor. The efficient frontier is essential the part of the curve in the first and second quadrants depending on the objective and investor ability/characteristics. The Capital Allocation Line (CAL) is essentially a tangent to the efficient frontier. The point of intersection between the tangent and the frontier is considered to be the optimal investment which has maximum returns for a given risk profile, under normal conditions\n",
    "\n"
   ]
  },
  {
   "cell_type": "markdown",
   "metadata": {},
   "source": [
    "# Practice with PyPortfolioOpt: returns\n"
   ]
  },
  {
   "cell_type": "code",
   "execution_count": 59,
   "metadata": {},
   "outputs": [
    {
     "data": {
      "image/png": "[encoded data removed]",
      "text/plain": [
       "<Figure size 432x288 with 1 Axes>"
      ]
     },
     "metadata": {
      "needs_background": "light"
     },
     "output_type": "display_data"
    }
   ],
   "source": [
    "from pypfopt.expected_returns import mean_historical_return\n",
    "\n",
    "# Compute the annualized average historical return\n",
    "mean_returns = mean_historical_return(df, frequency = 252)\n",
    "\n",
    "# Plot the annualized average historical return\n",
    "plt.plot(mean_returns, linestyle = 'None', marker = 'o')\n",
    "plt.show()"
   ]
  },
  {
   "cell_type": "markdown",
   "metadata": {},
   "source": [
    "# Practice with PyPortfolioOpt: covariance\n"
   ]
  },
  {
   "cell_type": "code",
   "execution_count": 60,
   "metadata": {},
   "outputs": [
    {
     "name": "stdout",
     "output_type": "stream",
     "text": [
      "Sample Covariance Matrix\n",
      "           AAPL      AMZN        FB      GOOG      NFLX\n",
      "AAPL  0.063118  0.037599  0.032926  0.031483  0.039957\n",
      "AMZN  0.037599  0.093749  0.049486  0.048395  0.063560\n",
      "FB    0.032926  0.049486  0.082483  0.041922  0.049808\n",
      "GOOG  0.031483  0.048395  0.041922  0.057460  0.049559\n",
      "NFLX  0.039957  0.063560  0.049808  0.049559  0.185543 \n",
      "\n",
      "Efficient Covariance Matrix\n",
      "           AAPL      AMZN        FB      GOOG      NFLX\n",
      "AAPL  0.063731  0.036806  0.032231  0.030819  0.039114\n",
      "AMZN  0.036806  0.093716  0.048442  0.047374  0.062219\n",
      "FB    0.032231  0.048442  0.082688  0.041038  0.048757\n",
      "GOOG  0.030819  0.047374  0.041038  0.058192  0.048513\n",
      "NFLX  0.039114  0.062219  0.048757  0.048513  0.183573 \n",
      "\n"
     ]
    }
   ],
   "source": [
    "# Import the CovarianceShrinkage object\n",
    "from pypfopt.risk_models import CovarianceShrinkage\n",
    "\n",
    "# Create the CovarianceShrinkage instance variable\n",
    "cs =CovarianceShrinkage(df)\n",
    "\n",
    "# Compute the sample covariance matrix of returns\n",
    "sample_cov = df.pct_change().cov() * 252\n",
    "\n",
    "# Compute the efficient covariance matrix of returns\n",
    "e_cov = cs.ledoit_wolf()\n",
    "\n",
    "# Display both the sample covariance_matrix and the efficient e_cov estimate\n",
    "print(\"Sample Covariance Matrix\\n\", sample_cov, \"\\n\")\n",
    "print(\"Efficient Covariance Matrix\\n\", e_cov, \"\\n\")"
   ]
  },
  {
   "cell_type": "markdown",
   "metadata": {},
   "source": [
    "# The efficient frontier and the financial crisis"
   ]
  },
  {
   "cell_type": "code",
   "execution_count": 61,
   "metadata": {},
   "outputs": [
    {
     "name": "stdout",
     "output_type": "stream",
     "text": [
      "OrderedDict([('AAPL', 0.4040234391054189), ('AMZN', 0.007261628308447887), ('FB', 0.15252518147736677), ('GOOG', 0.4361897511087664), ('NFLX', 0.0)])\n"
     ]
    },
    {
     "data": {
      "image/png": "[encoded data removed]",
      "text/plain": [
       "<Figure size 432x288 with 1 Axes>"
      ]
     },
     "metadata": {
      "needs_background": "light"
     },
     "output_type": "display_data"
    }
   ],
   "source": [
    " from pypfopt.cla import CLA\n",
    "\n",
    "# Initialize the Crtical Line Algorithm object\n",
    "efficient_portfolio_during = CLA(mean_returns,sample_cov)\n",
    "\n",
    "# Find the minimum volatility portfolio weights and display them\n",
    "print(efficient_portfolio_during.min_volatility())\n",
    "\n",
    "# Compute the efficient frontier\n",
    "(ret, vol, weights) = efficient_portfolio_during.efficient_frontier()\n",
    "\n",
    "\n",
    "plt.scatter(vol, ret, s = 4, c = 'g', marker = '.')\n",
    "#plt.legend()\n",
    "plt.show()"
   ]
  },
  {
   "cell_type": "markdown",
   "metadata": {},
   "source": [
    "# Breaking down the financial crisis\n",
    "Break down this period into three epochs: 2015-2016 (before), 2017-2018 (during) and 2019 (after). For each period, compute the efficient covariance matrix, and compare them to each other.\n"
   ]
  },
  {
   "cell_type": "code",
   "execution_count": 62,
   "metadata": {},
   "outputs": [
    {
     "name": "stdout",
     "output_type": "stream",
     "text": [
      "Mean returns Matrices\n",
      " {'before': AAPL    0.049569\n",
      "AMZN    0.560396\n",
      "FB      0.211469\n",
      "GOOG    0.213175\n",
      "NFLX    0.577346\n",
      "dtype: float64, 'during': AAPL    0.184676\n",
      "AMZN    0.414610\n",
      "FB      0.059501\n",
      "GOOG    0.148700\n",
      "NFLX    0.452172\n",
      "dtype: float64, 'after': AAPL    1.211348\n",
      "AMZN    0.844914\n",
      "FB      1.373852\n",
      "GOOG    0.620922\n",
      "NFLX    2.335081\n",
      "dtype: float64}\n",
      "Efficient Covariance Matrices\n",
      " {'before':           AAPL      AMZN        FB      GOOG      NFLX\n",
      "AAPL  0.065136  0.026898  0.028855  0.024455  0.031196\n",
      "AMZN  0.026898  0.100962  0.043899  0.044377  0.050276\n",
      "FB    0.028855  0.043899  0.074869  0.037591  0.041845\n",
      "GOOG  0.024455  0.044377  0.037591  0.065811  0.042719\n",
      "NFLX  0.031196  0.050276  0.041845  0.042719  0.221128, 'during':           AAPL      AMZN        FB      GOOG      NFLX\n",
      "AAPL  0.058822  0.042577  0.031933  0.033216  0.043893\n",
      "AMZN  0.042577  0.086963  0.049817  0.047330  0.070400\n",
      "FB    0.031933  0.049817  0.086987  0.041333  0.053155\n",
      "GOOG  0.033216  0.047330  0.041333  0.052416  0.051009\n",
      "NFLX  0.043893  0.070400  0.053155  0.051009  0.144331, 'after':           AAPL      AMZN        FB      GOOG      NFLX\n",
      "AAPL  0.107229  0.049651  0.041517  0.044252  0.042236\n",
      "AMZN  0.049651  0.093748  0.044872  0.045403  0.060373\n",
      "FB    0.041517  0.044872  0.114216  0.041364  0.041329\n",
      "GOOG  0.044252  0.045403  0.041364  0.066046  0.047108\n",
      "NFLX  0.042236  0.060373  0.041329  0.047108  0.147604}\n"
     ]
    }
   ],
   "source": [
    "# Create a dictionary of time periods (or 'epochs')\n",
    "epochs = { 'before' : {'start': '1-1-2015', 'end': '31-12-2016'},\n",
    "           'during' : {'start': '1-1-2017', 'end': '31-12-2018'},\n",
    "           'after'  : {'start': '1-1-2019', 'end': '31-12-2019'}\n",
    "         }\n",
    "\n",
    "# Compute the efficient covariance for each epoch\n",
    "epochs_cov = {}\n",
    "epochs_returns={}\n",
    "for x in epochs.keys():\n",
    "  sub_price = df.loc[epochs[x]['start']:epochs[x]['end']]\n",
    "  epochs_cov[x] = CovarianceShrinkage(sub_price).ledoit_wolf()\n",
    "  epochs_returns[x] = mean_historical_return(sub_price, frequency = 252) \n",
    "# Display the efficient covariance matrices for all epochs\n",
    "print(\"Mean returns Matrices\\n\", epochs_returns)\n",
    "print(\"Efficient Covariance Matrices\\n\", epochs_cov)"
   ]
  },
  {
   "cell_type": "code",
   "execution_count": 63,
   "metadata": {},
   "outputs": [
    {
     "name": "stdout",
     "output_type": "stream",
     "text": [
      "OrderedDict([('AAPL', 0.400932842796711), ('AMZN', 0.0), ('FB', 0.12608593792383851), ('GOOG', 0.4729812192794505), ('NFLX', 0.0)])\n",
      "OrderedDict([('AAPL', 0.39855677021458563), ('AMZN', 0.07773440686466845), ('FB', 0.1917619662664423), ('GOOG', 0.3135630844705279), ('NFLX', 0.018383772183775914)])\n",
      "OrderedDict([('AAPL', 0.15427987122613204), ('AMZN', 0.1486929618532428), ('FB', 0.1683760713092236), ('GOOG', 0.4608094044880169), ('NFLX', 0.06784169112338466)])\n"
     ]
    },
    {
     "data": {
      "image/png": "[encoded data removed]",
      "text/plain": [
       "<Figure size 432x288 with 1 Axes>"
      ]
     },
     "metadata": {
      "needs_background": "light"
     },
     "output_type": "display_data"
    }
   ],
   "source": [
    "# Initialize the Crtical Line Algorithm object\n",
    "efficient_portfolio_during = CLA(epochs_returns['during'], epochs_cov['during'])\n",
    "efficient_portfolio_before = CLA(epochs_returns['before'], epochs_cov['before'])\n",
    "efficient_portfolio_after = CLA(epochs_returns['after'], epochs_cov['after'])\n",
    "\n",
    "# Find the minimum volatility portfolio weights and display them\n",
    "print(efficient_portfolio_during.min_volatility())\n",
    "print(efficient_portfolio_before.min_volatility())\n",
    "print(efficient_portfolio_after.min_volatility())\n",
    "# Compute the efficient frontier\n",
    "(ret, vol, weights) = efficient_portfolio_during.efficient_frontier()\n",
    "(retb, volb, weightsb) = efficient_portfolio_before.efficient_frontier()\n",
    "(reta, vola, weightsa) = efficient_portfolio_after.efficient_frontier()\n",
    "\n",
    "# Add the frontier to the plot showing the 'before' and 'after' frontiers\n",
    "plt.scatter(vol, ret, s = 4, c = 'g', marker = '.', label = 'During')\n",
    "plt.scatter(volb, retb, s = 4, c = 'r', marker = '+', label = 'before')\n",
    "plt.scatter(vola, reta, s = 4, c = 'y', marker = '*', label = 'after')\n",
    "plt.legend()\n",
    "plt.show()"
   ]
  },
  {
   "cell_type": "markdown",
   "metadata": {},
   "source": [
    "# Computing portfolio weight with maximum Sharpe ratio "
   ]
  },
  {
   "cell_type": "code",
   "execution_count": 64,
   "metadata": {},
   "outputs": [
    {
     "name": "stdout",
     "output_type": "stream",
     "text": [
      "OrderedDict([('AAPL', -0.06989), ('AMZN', 1.0), ('FB', -0.18335), ('GOOG', -0.2161), ('NFLX', 0.46934)])\n"
     ]
    }
   ],
   "source": [
    "from pypfopt.efficient_frontier import EfficientFrontier\n",
    "from pypfopt import risk_models\n",
    "#Max Sharpe Ratio - Tangent to the EF\n",
    "#Annualized Return\n",
    "mu = mean_historical_return(df)\n",
    "#Sample Variance of Portfolio\n",
    "Sigma = risk_models.sample_cov(df)\n",
    "ef = EfficientFrontier(mu, Sigma, weight_bounds=(-1,1)\n",
    "                      ) #weight bounds in negative allows shorting of stocks\n",
    "\n",
    "sharpe_pfolio=ef.max_sharpe() #May use add objective to ensure minimum zero weighting to individual stocks\n",
    "optimal_weights = ef.clean_weights()\n",
    "# Display the optimal weights\n",
    "print(optimal_weights)"
   ]
  },
  {
   "cell_type": "code",
   "execution_count": 65,
   "metadata": {},
   "outputs": [],
   "source": [
    "from pypfopt.efficient_frontier import EfficientFrontier\n",
    "# Initialize the efficient portfolio dictionary\n",
    "ef_dict = {}\n",
    "# Initialize the dictionary of optimal weights\n",
    "optimal_weights_dict = {}\n",
    "\n",
    "# For each epoch, assign an efficient frontier instance to ef\n",
    "for x in ['before', 'during', 'after']: \n",
    "    ef_dict[x] = EfficientFrontier(epochs_returns[x], epochs_cov[x], weight_bounds=(-1,1))\n",
    "    sharpe_pfolio[x]=ef_dict[x].max_sharpe()\n",
    "    optimal_weights_dict[x] = ef_dict[x].clean_weights()"
   ]
  },
  {
   "cell_type": "code",
   "execution_count": 66,
   "metadata": {},
   "outputs": [
    {
     "name": "stdout",
     "output_type": "stream",
     "text": [
      "{'before': OrderedDict([('AAPL', -0.3315), ('AMZN', 1.0), ('FB', 0.00706), ('GOOG', -0.059), ('NFLX', 0.38344)]), 'during': OrderedDict([('AAPL', 0.27904), ('AMZN', 1.0), ('FB', -0.62326), ('GOOG', -0.25939), ('NFLX', 0.6036)]), 'after': OrderedDict([('AAPL', 0.43135), ('AMZN', -0.29838), ('FB', 0.48572), ('GOOG', -0.52687), ('NFLX', 0.90818)])}\n"
     ]
    }
   ],
   "source": [
    "print(optimal_weights_dict)"
   ]
  },
  {
   "cell_type": "code",
   "execution_count": 67,
   "metadata": {},
   "outputs": [
    {
     "name": "stdout",
     "output_type": "stream",
     "text": [
      "{'AMZN': 4, 'NFLX': 8, 'AAPL': -3, 'FB': -7, 'GOOG': -1}\n",
      "Leftover Fund value in$ after building minimum volatility portfolio is $116.72\n"
     ]
    }
   ],
   "source": [
    "# Allocate Portfolio Value in $ as required to show number of shares/stocks to buy, also bounds for shorting will affect allocation\n",
    "#Min Volatility Portfolio Allocation $10000\n",
    "from pypfopt.discrete_allocation import get_latest_prices, DiscreteAllocation\n",
    "latest_prices = get_latest_prices(df)\n",
    "allocation_minv, rem_minv = DiscreteAllocation(optimal_weights, latest_prices,total_portfolio_value=10000).lp_portfolio()\n",
    "print(allocation_minv)\n",
    "print(\"Leftover Fund value in$ after building minimum volatility portfolio is ${:.2f}\".format(rem_minv))"
   ]
  },
  {
   "cell_type": "markdown",
   "metadata": {},
   "source": [
    "# Hedge instruments: options\n",
    "\n",
    "Hedging: offset volatility with another asset\n",
    "\n",
    "Options are the world's most widely used derivative to help manage asset price risk. \n",
    "Using the Black-Scholes option pricing formula here"
   ]
  },
  {
   "cell_type": "code",
   "execution_count": 68,
   "metadata": {},
   "outputs": [
    {
     "name": "stdout",
     "output_type": "stream",
     "text": [
      "Option value for sigma:  10.796013300066548 \n",
      " Option value for 2 * sigma:  10.796013416112089\n"
     ]
    }
   ],
   "source": [
    "import sys\n",
    "from black_scholes import black_scholes\n",
    "portfolio_losses=-portfolio_returns \n",
    "mu = portfolio_losses.mean()\n",
    "sigma = portfolio_losses.std()\n",
    "\n",
    "# Compute the Black-Scholes option price for this volatility\n",
    "value_s = black_scholes(S = 90, X = 80, T = 0.5, r = 0.02, \n",
    "                        sigma = sigma, option_type = \"call\")\n",
    "\n",
    "# Compute the Black-Scholes option price for twice the volatility\n",
    "value_2s = black_scholes(S = 90, X = 80, T = 0.5, r = 0.02, \n",
    "                sigma = 2*sigma, option_type = \"call\")\n",
    "\n",
    "# Display and compare both values\n",
    "print(\"Option value for sigma: \", value_s, \"\\n\",\n",
    "      \"Option value for 2 * sigma: \", value_2s)\n",
    "\n"
   ]
  },
  {
   "cell_type": "code",
   "execution_count": 69,
   "metadata": {},
   "outputs": [
    {
     "data": {
      "image/png": "[encoded data removed]",
      "text/plain": [
       "<Figure size 1440x360 with 1 Axes>"
      ]
     },
     "metadata": {
      "needs_background": "light"
     },
     "output_type": "display_data"
    }
   ],
   "source": [
    "# Select aapl data\n",
    "df_spot=df[['AAPL']]\n",
    "#sigma = np.sqrt(252) * df_spot.std()\n",
    "sigma = df_spot.std()\n",
    "# Initialize the European put option values array\n",
    "option_values = np.zeros(df_spot.size)\n",
    "option_values2 = np.zeros(df_spot.size)\n",
    "dfspotvalue = np.zeros(df_spot.size)\n",
    "\n",
    "# Iterate through IBM's spot price and compute the option values\n",
    "for i,S in enumerate(df_spot.values):\n",
    "    option_values[i] = black_scholes(S =137 , X = 150, T = 0.5, r = 0.02, \n",
    "                        sigma = sigma, option_type = \"put\")\n",
    "    \n",
    "    option_values2[i] = black_scholes(S =137 , X = 150, T = 0.5, r = 0.02, \n",
    "                        sigma = sigma*sigma, option_type = \"put\")\n",
    "    dfspotvalue[i]=S\n",
    "\n",
    "\n",
    "# Display the option values array\n",
    "plt.figure(figsize=(20,5))\n",
    "plt.plot(dfspotvalue,color = \"blue\", label = \"losses\")\n",
    "plt.plot(option_values,color = \"red\", label = \"Put Option \")\n",
    "#plt.plot(option_values2,color = \"green\", label = \"Option value for 2*sigma\")\n",
    "plt.legend(loc = \"upper left\")\n",
    "plt.show()"
   ]
  },
  {
   "cell_type": "markdown",
   "metadata": {},
   "source": [
    "# Using options for hedging\n",
    "Hedge the portfolio's risk using delta hedging with a European put option \n",
    "* Value the European put option using the Black-Scholes option pricing formula\n",
    "With a strike X of 140 and a time to maturity T of 1/2 a year. The risk-free interest rate is 2% and the spot S is initially 137.\n",
    "\n",
    "* Then create a delta hedge by computing the delta of the option with the bs_delta() function\n",
    "* Use it to hedge against a change in the stock price to 135. \n",
    "The result is a delta neutral portfolio of both the option and the stock"
   ]
  },
  {
   "cell_type": "code",
   "execution_count": 70,
   "metadata": {},
   "outputs": [
    {
     "name": "stdout",
     "output_type": "stream",
     "text": [
      "[-20.]\n"
     ]
    }
   ],
   "source": [
    "import sys\n",
    "from black_scholes import bs_delta\n",
    "# Compute the Black-Scholes value at spot price 137\n",
    "value = black_scholes(S =137 , X = 140, T = 0.5, r = 0.02,  \n",
    "                        sigma = sigma, option_type = \"put\")\n",
    "# Find the delta of the option at spot price 137\n",
    "delta = bs_delta(S =137 , X = 140, T = 0.5, r = 0.02,\n",
    "                 sigma = sigma, option_type = \"put\")\n",
    "\n",
    "# Find the option value change when the price of AApL falls to 120\n",
    "value_change = black_scholes(S =120 , X = 140, T = 0.5, r = 0.02, \n",
    "                             sigma = sigma, option_type = \"put\") - value\n",
    "\n",
    "print( (120 - 140) + (1/delta) *value_change)"
   ]
  },
  {
   "cell_type": "markdown",
   "metadata": {},
   "source": [
    "# Monte Carlo simulations\n",
    "\n",
    "* Historical simulation: use past to predict future; No distributional assumption required; Data about previous losses become simulated losses for tomorrow\n",
    "\n",
    "* Monte Carlo simulation: powerful combination of parametric estimation and simulation"
   ]
  },
  {
   "cell_type": "code",
   "execution_count": 71,
   "metadata": {},
   "outputs": [],
   "source": [
    "# Historical simulation\n",
    "weights = [0.25, 0.25, 0.25, 0.25, 0.25]\n",
    "portfolio_returns = asset_returns.dot(weights)\n",
    "losses = - portfolio_returns\n",
    "VaR_95 = np.quantile(losses, 0.95)\n"
   ]
  },
  {
   "cell_type": "code",
   "execution_count": 72,
   "metadata": {},
   "outputs": [
    {
     "name": "stdout",
     "output_type": "stream",
     "text": [
      "Monte Carlo VaR_95 estimate:  0.2518306955434085\n"
     ]
    }
   ],
   "source": [
    "# Monte Carlo simulation with asset return simulation\n",
    "# Initialize daily cumulative loss for the assets, across N runs\n",
    "mu = portfolio_losses.mean()\n",
    "sigma = portfolio_losses.std()\n",
    "\n",
    "from scipy.stats import norm\n",
    "total_steps = 1440 # 1day, 1440 mins\n",
    "N = 10000\n",
    "\n",
    "# Compute the efficient covariance matrix of returns\n",
    "#e_cov = cs.ledoit_wolf()\n",
    "daily_loss = np.zeros((5,N))\n",
    "\n",
    "# Create the Monte Carlo simulations for N runs\n",
    "for n in range(N):\n",
    "    # Compute simulated path of length total_steps for correlated returns\n",
    "    correlated_randomness = e_cov@norm.rvs(size = (5,total_steps)) #this ecov come from Practice with PyPortfolioOpt: covariance\n",
    "    # Adjust simulated path by total_steps and mean of portfolio losses\n",
    "    steps = 1/total_steps\n",
    "    minute_losses = mu * steps + correlated_randomness * np.sqrt(steps)\n",
    "    daily_loss[:, n] = minute_losses.sum(axis=1)\n",
    "    \n",
    "# Generate the 95% VaR estimate\n",
    "weights = [0.25, 0.25, 0.25, 0.25, 0.25]\n",
    "\n",
    "losses = weights@ daily_loss\n",
    "print(\"Monte Carlo VaR_95 estimate: \", np.quantile(losses, 0.95))    "
   ]
  },
  {
   "cell_type": "markdown",
   "metadata": {},
   "source": [
    "# Advanced risk management\n"
   ]
  },
  {
   "cell_type": "markdown",
   "metadata": {},
   "source": [
    "## Extreme value theory\n",
    "* Extreme value theory: statistical distribution of extreme values\n",
    "* Block maxima:\n",
    "Break period into sub-periods\n",
    "Form blocks from each sub-period\n",
    "Set of block maxima = dataset\n",
    "* Peak over threshold (POT):\n",
    "Find all losses over given level\n",
    "Set of such losses = dataset"
   ]
  },
  {
   "cell_type": "code",
   "execution_count": 88,
   "metadata": {},
   "outputs": [
    {
     "data": {
      "image/png": "[encoded data removed]",
      "text/plain": [
       "<Figure size 432x288 with 1 Axes>"
      ]
     },
     "metadata": {
      "needs_background": "light"
     },
     "output_type": "display_data"
    }
   ],
   "source": [
    "# Block maxima\n",
    "\n",
    "# Resample the data into weekly blocks\n",
    "weekly_maxima = portfolio_losses.resample(\"W\").max()\n",
    "monthly_maxima = portfolio_losses.resample(\"M\").max()\n",
    "Quartly_maxima = portfolio_losses.resample(\"Q\").max()\n",
    "# Plot the resulting weekly maxima\n",
    "plt.plot(weekly_maxima, label = \"Weekly Maxima\")\n",
    "# Plot the resulting monthly maxima\n",
    "plt.plot(monthly_maxima, label = \"Monthly Maxima\")\n",
    "# Plot the resulting Quartly maxima\n",
    "#plt.plot(monthly_maxima, label = \"Quartly axima\")\n",
    "plt.legend()\n",
    "plt.show()\n"
   ]
  },
  {
   "cell_type": "code",
   "execution_count": null,
   "metadata": {},
   "outputs": [],
   "source": [
    " \n"
   ]
  },
  {
   "cell_type": "code",
   "execution_count": 98,
   "metadata": {},
   "outputs": [
    {
     "data": {
      "image/png": "[encoded data removed]",
      "text/plain": [
       "<Figure size 432x288 with 1 Axes>"
      ]
     },
     "metadata": {
      "needs_background": "light"
     },
     "output_type": "display_data"
    }
   ],
   "source": [
    "# Generalized Extreme Value Distribution\n",
    "from scipy.stats import genextreme\n",
    "params = genextreme.fit(monthly_maxima)\n",
    "\n",
    "# Fit extreme distribution to weekly maximum of losses\n",
    "\n",
    "# Plot extreme distribution with weekly max losses historgram\n",
    "x = np.linspace(min(monthly_maxima), max(monthly_maxima), 100)\n",
    "plt.plot(x, genextreme.pdf(x, *params))\n",
    "plt.hist(monthly_maxima, 50, density = True, alpha = 0.3)\n",
    "plt.show()"
   ]
  },
  {
   "cell_type": "code",
   "execution_count": 101,
   "metadata": {},
   "outputs": [
    {
     "name": "stdout",
     "output_type": "stream",
     "text": [
      "Reserve amount:  133828.2744413704\n"
     ]
    }
   ],
   "source": [
    "VaR_99 = genextreme.ppf(0.99, *params)\n",
    "CVaR_99 = (1 / (1 - 0.99)) * genextreme.expect(lambda x: x, \n",
    "           args=(params[0],), loc = params[1], scale = params[2], lb = VaR_99)\n",
    "\n",
    "# Display the covering loss amount\n",
    "print(\"Reserve amount: \", 1000000 * CVaR_99)"
   ]
  },
  {
   "cell_type": "code",
   "execution_count": null,
   "metadata": {},
   "outputs": [],
   "source": [
    "import pandas as pd\n",
    "losses = pd.Series(norm.rvs(size=1000))\n",
    "\n",
    "# Compute the 95% VaR using the .ppf()\n",
    "VaR_95 = norm.ppf(0.95, loc = pm, scale = ps)\n",
    "# Compute the expected tail loss and the CVaR in the worst 5% of cases\n",
    "tail_loss = norm.expect(lambda x: x, loc = pm, scale = ps, lb = VaR_95)\n",
    "CVaR_95 = (1 / (1 - 0.95)) * tail_loss\n",
    "print(\"CVaR_95 = \", CVaR_95)\n",
    "# Plot the normal distribution histogram and add lines for the VaR and CVaR\n",
    "plt.hist(norm.rvs(size = 100000, loc = pm, scale = ps), bins = 100)\n",
    "plt.axvline(x = VaR_95, c='r', label = \"VaR, 95% confidence level\")\n",
    "plt.axvline(x = CVaR_95, c='g', label = \"CVaR, worst 5% of outcomes\")\n",
    "plt.legend(); plt.show()"
   ]
  },
  {
   "cell_type": "code",
   "execution_count": 105,
   "metadata": {},
   "outputs": [
    {
     "data": {
      "text/plain": [
       "[<matplotlib.lines.Line2D at 0x19eef59b588>]"
      ]
     },
     "execution_count": 105,
     "metadata": {},
     "output_type": "execute_result"
    },
    {
     "data": {
      "image/png": "[encoded data removed]",
      "text/plain": [
       "<Figure size 432x288 with 1 Axes>"
      ]
     },
     "metadata": {
      "needs_background": "light"
     },
     "output_type": "display_data"
    }
   ],
   "source": [
    "# KDE\n",
    "#losses = pd.Series(norm.rvs(size=1000))\n",
    "losses= -mean_returns\n",
    "from scipy.stats import gaussian_kde\n",
    "kde = gaussian_kde(losses)\n",
    "x = np.linspace(np.min(losses),\n",
    "np.max(losses), 1000)\n",
    "plt.plot(x, kde.pdf(x))"
   ]
  },
  {
   "cell_type": "code",
   "execution_count": 106,
   "metadata": {},
   "outputs": [
    {
     "data": {
      "image/png": "[encoded data removed]",
      "text/plain": [
       "<Figure size 432x288 with 1 Axes>"
      ]
     },
     "metadata": {
      "needs_background": "light"
     },
     "output_type": "display_data"
    }
   ],
   "source": [
    "# Generate a fitted T distribution over losses\n",
    "from scipy.stats import t\n",
    "params = t.fit(losses)\n",
    "\n",
    "# Generate a Gaussian kernal density estimate over losses\n",
    "kde = gaussian_kde(losses)\n",
    "\n",
    "# Add the PDFs of both estimates to a histogram, and display\n",
    "x = np.linspace(np.min(losses), np.max(losses), 1000)\n",
    "plt.plot(x, t.pdf(x, *params), label = 'T distribution')\n",
    "plt.plot(x, kde.pdf(x), label = 'Gaussian KDE')\n",
    "plt.legend(); plt.show()"
   ]
  },
  {
   "cell_type": "markdown",
   "metadata": {},
   "source": [
    "### CVaR and loss cover selection"
   ]
  },
  {
   "cell_type": "code",
   "execution_count": 111,
   "metadata": {},
   "outputs": [
    {
     "name": "stdout",
     "output_type": "stream",
     "text": [
      "99% CVaR for T:  0.14224679856341407\n"
     ]
    }
   ],
   "source": [
    "# Find the VaR as a quantile of random samples from the distributions\n",
    "VaR_99_T   = np.quantile(t.rvs(size=1000, *params), 0.99)\n",
    "\n",
    "# Find the expected tail losses, with lower bounds given by the VaR measures\n",
    "integral_T   = t.expect(lambda x: x, args = (params[0],), loc = params[1], scale = params[2], lb = VaR_99_T )\n",
    "\n",
    "\n",
    "# Create the 99% CVaR estimates\n",
    "CVaR_99_T   = (1 / (1 - 0.99)) * integral_T\n",
    "\n",
    "\n",
    "# Display the results\n",
    "print(\"99% CVaR for T: \", CVaR_99_T)"
   ]
  },
  {
   "cell_type": "markdown",
   "metadata": {},
   "source": [
    "# Single layer neural networks\n",
    "### Asset price prediction\n",
    "Create and train a neural network with one input layer, one output layer and two hidden layers.\n",
    "\n",
    "Then a scatter plot will be shown to see how far the predicted AAPL are from their actual values"
   ]
  },
  {
   "cell_type": "code",
   "execution_count": 157,
   "metadata": {},
   "outputs": [
    {
     "name": "stdout",
     "output_type": "stream",
     "text": [
      "Epoch 1/20\n",
      "1067/1067 [==============================] - 0s 106us/step - loss: 17.1988\n",
      "Epoch 2/20\n",
      "1067/1067 [==============================] - 0s 34us/step - loss: 12.2452\n",
      "Epoch 3/20\n",
      "1067/1067 [==============================] - 0s 33us/step - loss: 9.2766\n",
      "Epoch 4/20\n",
      "1067/1067 [==============================] - 0s 28us/step - loss: 6.9375\n",
      "Epoch 5/20\n",
      "1067/1067 [==============================] - 0s 24us/step - loss: 5.0209\n",
      "Epoch 6/20\n",
      "1067/1067 [==============================] - 0s 25us/step - loss: 3.7345\n",
      "Epoch 7/20\n",
      "1067/1067 [==============================] - 0s 26us/step - loss: 2.7418\n",
      "Epoch 8/20\n",
      "1067/1067 [==============================] - 0s 25us/step - loss: 1.9922\n",
      "Epoch 9/20\n",
      "1067/1067 [==============================] - 0s 27us/step - loss: 1.4171\n",
      "Epoch 10/20\n",
      "1067/1067 [==============================] - 0s 26us/step - loss: 0.9701\n",
      "Epoch 11/20\n",
      "1067/1067 [==============================] - 0s 24us/step - loss: 0.6414\n",
      "Epoch 12/20\n",
      "1067/1067 [==============================] - 0s 26us/step - loss: 0.4038\n",
      "Epoch 13/20\n",
      "1067/1067 [==============================] - 0s 24us/step - loss: 0.2396\n",
      "Epoch 14/20\n",
      "1067/1067 [==============================] - 0s 24us/step - loss: 0.1370\n",
      "Epoch 15/20\n",
      "1067/1067 [==============================] - 0s 24us/step - loss: 0.0841\n",
      "Epoch 16/20\n",
      "1067/1067 [==============================] - 0s 24us/step - loss: 0.0644\n",
      "Epoch 17/20\n",
      "1067/1067 [==============================] - 0s 26us/step - loss: 0.0526\n",
      "Epoch 18/20\n",
      "1067/1067 [==============================] - 0s 24us/step - loss: 0.0474\n",
      "Epoch 19/20\n",
      "1067/1067 [==============================] - 0s 24us/step - loss: 0.0440\n",
      "Epoch 20/20\n",
      "1067/1067 [==============================] - 0s 25us/step - loss: 0.0422\n"
     ]
    },
    {
     "data": {
      "text/plain": [
       "<keras.callbacks.callbacks.History at 0x19e84aefbc8>"
      ]
     },
     "execution_count": 157,
     "metadata": {},
     "output_type": "execute_result"
    }
   ],
   "source": [
    "# Set the input and output data\n",
    "from keras.models import Sequential\n",
    "from keras.layers import Dense\n",
    "\n",
    "training_input = df.drop('AAPL', axis=1)\n",
    "training_output = df['AAPL']\n",
    "\n",
    "# Create and train the neural network with 3 hidden layers\n",
    "model = Sequential()\n",
    "model.add(Dense(32, input_dim=4, activation='sigmoid'))\n",
    "model.add(Dense(16, activation='relu'))\n",
    "model.add(Dense(8, activation='relu'))\n",
    "model.add(Dense(1))\n",
    "\n",
    "model.compile(loss='mean_squared_logarithmic_error', optimizer='rmsprop')\n",
    "model.fit(training_input, training_output, epochs=20)\n",
    "\n"
   ]
  },
  {
   "cell_type": "code",
   "execution_count": 158,
   "metadata": {},
   "outputs": [
    {
     "data": {
      "image/png": "[encoded data removed]",
      "text/plain": [
       "<Figure size 432x288 with 1 Axes>"
      ]
     },
     "metadata": {
      "needs_background": "light"
     },
     "output_type": "display_data"
    }
   ],
   "source": [
    "# Scatter plot of the resulting model prediction\n",
    "plt.scatter(training_output, model.predict(training_input)); plt.show()"
   ]
  }
 ],
 "metadata": {
  "kernelspec": {
   "display_name": "Python 3",
   "language": "python",
   "name": "python3"
  },
  "language_info": {
   "codemirror_mode": {
    "name": "ipython",
    "version": 3
   },
   "file_extension": ".py",
   "mimetype": "text/x-python",
   "name": "python",
   "nbconvert_exporter": "python",
   "pygments_lexer": "ipython3",
   "version": "3.7.6"
  }
 },
 "nbformat": 4,
 "nbformat_minor": 4
}
