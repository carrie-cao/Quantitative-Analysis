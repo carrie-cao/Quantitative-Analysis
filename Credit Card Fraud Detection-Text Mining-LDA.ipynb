{
 "cells": [
  {
   "cell_type": "markdown",
   "metadata": {},
   "source": [
    "# Credit Card Fraud Detection_Text Mining\n",
    "\n",
    "Use text data, text mining and topic modeling to detect fraudulent behavior."
   ]
  },
  {
   "cell_type": "code",
   "execution_count": 3,
   "metadata": {},
   "outputs": [],
   "source": [
    "# Import library and read csv\n",
    "import pandas as pd\n",
    "import numpy as np\n",
    "import matplotlib.pyplot as plt\n",
    "from sklearn.model_selection import train_test_split\n",
    "import seaborn as sns"
   ]
  },
  {
   "cell_type": "markdown",
   "metadata": {},
   "source": [
    "The text data containing emails from Enron employees. \n",
    "Enron employees covered up the bad financial position of the company, thereby keeping the stock price artificially high. \n",
    "Enron employees sold their own stock options, and when the truth came out, Enron investors were left with nothing. \n",
    "The goal is to find all emails that mention specific words, such as \"sell enron stock\".\n"
   ]
  },
  {
   "cell_type": "code",
   "execution_count": 4,
   "metadata": {},
   "outputs": [
    {
     "data": {
      "text/html": [
       "<div>\n",
       "<style scoped>\n",
       "    .dataframe tbody tr th:only-of-type {\n",
       "        vertical-align: middle;\n",
       "    }\n",
       "\n",
       "    .dataframe tbody tr th {\n",
       "        vertical-align: top;\n",
       "    }\n",
       "\n",
       "    .dataframe thead th {\n",
       "        text-align: right;\n",
       "    }\n",
       "</style>\n",
       "<table border=\"1\" class=\"dataframe\">\n",
       "  <thead>\n",
       "    <tr style=\"text-align: right;\">\n",
       "      <th></th>\n",
       "      <th>Message-ID</th>\n",
       "      <th>From</th>\n",
       "      <th>To</th>\n",
       "      <th>Date</th>\n",
       "      <th>content</th>\n",
       "      <th>clean_content</th>\n",
       "    </tr>\n",
       "  </thead>\n",
       "  <tbody>\n",
       "    <tr>\n",
       "      <th>154</th>\n",
       "      <td>&lt;6336501.1075841154311.JavaMail.evans@thyme&gt;</td>\n",
       "      <td>('sarah.palmer@enron.com')</td>\n",
       "      <td>('sarah.palmer@enron.com')</td>\n",
       "      <td>2002-02-01 14:53:35</td>\n",
       "      <td>\\nJoint Venture: A 1997 Enron Meeting Belies O...</td>\n",
       "      <td>joint venture enron meeting belies officers cl...</td>\n",
       "    </tr>\n",
       "  </tbody>\n",
       "</table>\n",
       "</div>"
      ],
      "text/plain": [
       "                                       Message-ID                        From  \\\n",
       "154  <6336501.1075841154311.JavaMail.evans@thyme>  ('sarah.palmer@enron.com')   \n",
       "\n",
       "                             To                 Date  \\\n",
       "154  ('sarah.palmer@enron.com')  2002-02-01 14:53:35   \n",
       "\n",
       "                                               content  \\\n",
       "154  \\nJoint Venture: A 1997 Enron Meeting Belies O...   \n",
       "\n",
       "                                         clean_content  \n",
       "154  joint venture enron meeting belies officers cl...  "
      ]
     },
     "execution_count": 4,
     "metadata": {},
     "output_type": "execute_result"
    }
   ],
   "source": [
    "df = pd.read_csv('data/enron_emails_clean.csv',header=0)\n",
    "mask = df['clean_content'].str.contains('sell enron stock', na=False)\n",
    "df[mask]"
   ]
  },
  {
   "cell_type": "markdown",
   "metadata": {},
   "source": [
    "### Create a list to search and flag the terms\n",
    "Create an actual flag variable that gives a 1 when the emails get a hit on the search terms of interest, and 0 otherwise."
   ]
  },
  {
   "cell_type": "code",
   "execution_count": 5,
   "metadata": {},
   "outputs": [
    {
     "name": "stdout",
     "output_type": "stream",
     "text": [
      "0    1776\n",
      "1     314\n",
      "Name: flag, dtype: int64\n"
     ]
    }
   ],
   "source": [
    "import numpy as np\n",
    "# Create a list of terms to search for\n",
    "searchfor = ['enron stock', 'sell stock', 'stock bonus', 'sell enron stock']\n",
    "\n",
    "# Filter the cleaned emails on search for list and select from df \n",
    "filtered_emails = df[df.clean_content.str.contains('|'.join(searchfor), na=False)]\n",
    "\n",
    "# Create flag variable where the emails match the searchfor terms\n",
    "df['flag'] = np.where((df['clean_content'].str.contains('|'.join(searchfor)) == True), 1, 0)\n",
    "\n",
    "# Count the values of the flag variable\n",
    "count = df['flag'].value_counts()\n",
    "print(count)"
   ]
  },
  {
   "cell_type": "code",
   "execution_count": 6,
   "metadata": {},
   "outputs": [
    {
     "data": {
      "text/html": [
       "<div>\n",
       "<style scoped>\n",
       "    .dataframe tbody tr th:only-of-type {\n",
       "        vertical-align: middle;\n",
       "    }\n",
       "\n",
       "    .dataframe tbody tr th {\n",
       "        vertical-align: top;\n",
       "    }\n",
       "\n",
       "    .dataframe thead th {\n",
       "        text-align: right;\n",
       "    }\n",
       "</style>\n",
       "<table border=\"1\" class=\"dataframe\">\n",
       "  <thead>\n",
       "    <tr style=\"text-align: right;\">\n",
       "      <th></th>\n",
       "      <th>Message-ID</th>\n",
       "      <th>From</th>\n",
       "      <th>To</th>\n",
       "      <th>Date</th>\n",
       "      <th>content</th>\n",
       "      <th>clean_content</th>\n",
       "    </tr>\n",
       "  </thead>\n",
       "  <tbody>\n",
       "    <tr>\n",
       "      <th>0</th>\n",
       "      <td>&lt;8345058.1075840404046.JavaMail.evans@thyme&gt;</td>\n",
       "      <td>('advdfeedback@investools.com')</td>\n",
       "      <td>('advdfeedback@investools.com')</td>\n",
       "      <td>2002-01-29 23:20:55</td>\n",
       "      <td>INVESTools Advisory\\nA Free Digest of Trusted ...</td>\n",
       "      <td>investools advisory free digest trusted invest...</td>\n",
       "    </tr>\n",
       "    <tr>\n",
       "      <th>1</th>\n",
       "      <td>&lt;1512159.1075863666797.JavaMail.evans@thyme&gt;</td>\n",
       "      <td>('richard.sanders@enron.com')</td>\n",
       "      <td>('richard.sanders@enron.com')</td>\n",
       "      <td>2000-09-20 19:07:00</td>\n",
       "      <td>----- Forwarded by Richard B Sanders/HOU/ECT o...</td>\n",
       "      <td>forwarded richard b sanders hou ect pm justin ...</td>\n",
       "    </tr>\n",
       "    <tr>\n",
       "      <th>2</th>\n",
       "      <td>&lt;26118676.1075862176383.JavaMail.evans@thyme&gt;</td>\n",
       "      <td>('m..love@enron.com')</td>\n",
       "      <td>('m..love@enron.com')</td>\n",
       "      <td>2001-10-30 16:15:17</td>\n",
       "      <td>hey you are not wearing your target purple shi...</td>\n",
       "      <td>hey wearing target purple shirt today mine wan...</td>\n",
       "    </tr>\n",
       "    <tr>\n",
       "      <th>3</th>\n",
       "      <td>&lt;10369289.1075860831062.JavaMail.evans@thyme&gt;</td>\n",
       "      <td>('leslie.milosevich@kp.org')</td>\n",
       "      <td>('leslie.milosevich@kp.org')</td>\n",
       "      <td>2002-01-30 17:54:18</td>\n",
       "      <td>Leslie Milosevich\\n1042 Santa Clara Avenue\\nAl...</td>\n",
       "      <td>leslie milosevich santa clara avenue alameda c...</td>\n",
       "    </tr>\n",
       "    <tr>\n",
       "      <th>4</th>\n",
       "      <td>&lt;26728895.1075860815046.JavaMail.evans@thyme&gt;</td>\n",
       "      <td>('rtwait@graphicaljazz.com')</td>\n",
       "      <td>('rtwait@graphicaljazz.com')</td>\n",
       "      <td>2002-01-30 19:36:01</td>\n",
       "      <td>Rini Twait\\n1010 E 5th Ave\\nLongmont, CO 80501...</td>\n",
       "      <td>rini twait e th ave longmont co rtwait graphic...</td>\n",
       "    </tr>\n",
       "  </tbody>\n",
       "</table>\n",
       "</div>"
      ],
      "text/plain": [
       "                                      Message-ID  \\\n",
       "0   <8345058.1075840404046.JavaMail.evans@thyme>   \n",
       "1   <1512159.1075863666797.JavaMail.evans@thyme>   \n",
       "2  <26118676.1075862176383.JavaMail.evans@thyme>   \n",
       "3  <10369289.1075860831062.JavaMail.evans@thyme>   \n",
       "4  <26728895.1075860815046.JavaMail.evans@thyme>   \n",
       "\n",
       "                              From                               To  \\\n",
       "0  ('advdfeedback@investools.com')  ('advdfeedback@investools.com')   \n",
       "1    ('richard.sanders@enron.com')    ('richard.sanders@enron.com')   \n",
       "2            ('m..love@enron.com')            ('m..love@enron.com')   \n",
       "3     ('leslie.milosevich@kp.org')     ('leslie.milosevich@kp.org')   \n",
       "4     ('rtwait@graphicaljazz.com')     ('rtwait@graphicaljazz.com')   \n",
       "\n",
       "                  Date                                            content  \\\n",
       "0  2002-01-29 23:20:55  INVESTools Advisory\\nA Free Digest of Trusted ...   \n",
       "1  2000-09-20 19:07:00  ----- Forwarded by Richard B Sanders/HOU/ECT o...   \n",
       "2  2001-10-30 16:15:17  hey you are not wearing your target purple shi...   \n",
       "3  2002-01-30 17:54:18  Leslie Milosevich\\n1042 Santa Clara Avenue\\nAl...   \n",
       "4  2002-01-30 19:36:01  Rini Twait\\n1010 E 5th Ave\\nLongmont, CO 80501...   \n",
       "\n",
       "                                       clean_content  \n",
       "0  investools advisory free digest trusted invest...  \n",
       "1  forwarded richard b sanders hou ect pm justin ...  \n",
       "2  hey wearing target purple shirt today mine wan...  \n",
       "3  leslie milosevich santa clara avenue alameda c...  \n",
       "4  rini twait e th ave longmont co rtwait graphic...  "
      ]
     },
     "execution_count": 6,
     "metadata": {},
     "output_type": "execute_result"
    }
   ],
   "source": [
    "filtered_emails.head()"
   ]
  },
  {
   "cell_type": "markdown",
   "metadata": {},
   "source": [
    "### Text Mining\n",
    "Removing stopwords; Cleaning text data\n"
   ]
  },
  {
   "cell_type": "code",
   "execution_count": 8,
   "metadata": {},
   "outputs": [
    {
     "name": "stderr",
     "output_type": "stream",
     "text": [
      "[nltk_data] Downloading package stopwords to\n",
      "[nltk_data]     C:\\Users\\chunx\\AppData\\Roaming\\nltk_data...\n",
      "[nltk_data]   Package stopwords is already up-to-date!\n"
     ]
    }
   ],
   "source": [
    "# Define stopwords to exclude\n",
    "import string\n",
    "from nltk.corpus import stopwords\n",
    "import nltk\n",
    "nltk.download('stopwords')\n",
    "stop = set(stopwords.words('english'))\n",
    "stop.update((\"to\", \"cc\", \"subject\", \"http\", \"from\", \"sent\", \"ect\", \"u\", \"fwd\", \"www\", \"com\", 'html'))\n",
    "# Define punctuations to exclude and lemmatizer\n",
    "exclude = set(string.punctuation)"
   ]
  },
  {
   "cell_type": "code",
   "execution_count": 9,
   "metadata": {},
   "outputs": [
    {
     "name": "stderr",
     "output_type": "stream",
     "text": [
      "[nltk_data] Downloading package wordnet to\n",
      "[nltk_data]     C:\\Users\\chunx\\AppData\\Roaming\\nltk_data...\n",
      "[nltk_data]   Package wordnet is already up-to-date!\n"
     ]
    },
    {
     "data": {
      "text/plain": [
       "['investools',\n",
       " 'advisory',\n",
       " 'free',\n",
       " 'digest',\n",
       " 'trusted',\n",
       " 'investment',\n",
       " 'advice',\n",
       " 'unsubscribe',\n",
       " 'free',\n",
       " 'newsletter']"
      ]
     },
     "execution_count": 9,
     "metadata": {},
     "output_type": "execute_result"
    }
   ],
   "source": [
    "from nltk.stem.wordnet import WordNetLemmatizer\n",
    "nltk.download('wordnet')\n",
    "\n",
    "# Import the lemmatizer from nltk\n",
    "lemma = WordNetLemmatizer()\n",
    "\n",
    "def clean(text, stop):\n",
    "    text = str(text).rstrip()\n",
    "    stop_free = \" \".join([i for i in text.lower().split() if((i not in stop) and (not i.isdigit()))])\n",
    "    punc_free = ''.join(i for i in stop_free if i not in exclude)\n",
    "    normalized = \" \".join(lemma.lemmatize(i) for i in punc_free.split())      \n",
    "    return normalized\n",
    "# Clean the emails in df and print results\n",
    "text_clean=[]\n",
    "for text in df['clean_content']:\n",
    "    text_clean.append(clean(text, stop).split())    \n",
    "text_clean[0][:10]"
   ]
  },
  {
   "cell_type": "markdown",
   "metadata": {},
   "source": [
    "### Latent Dirichlet Allocation (LDA) topic modeling\n",
    "\n",
    "[reference](https://www.datacamp.com/community/tutorials/lda2vec-topic-model)"
   ]
  },
  {
   "cell_type": "code",
   "execution_count": 10,
   "metadata": {},
   "outputs": [
    {
     "name": "stdout",
     "output_type": "stream",
     "text": [
      "Dictionary(3730 unique tokens: ['account', 'accurate', 'address', 'advice', 'advise']...)\n"
     ]
    },
    {
     "data": {
      "text/plain": [
       "[(0, 2),\n",
       " (1, 1),\n",
       " (2, 1),\n",
       " (3, 6),\n",
       " (4, 1),\n",
       " (5, 2),\n",
       " (6, 4),\n",
       " (7, 1),\n",
       " (8, 2),\n",
       " (9, 1)]"
      ]
     },
     "execution_count": 10,
     "metadata": {},
     "output_type": "execute_result"
    }
   ],
   "source": [
    "# Topic Modeling\n",
    "from gensim import corpora\n",
    "import gensim\n",
    "\n",
    "# Define the dictionary\n",
    "dictionary = corpora.Dictionary(text_clean)\n",
    "# Filter out (non)frequent words \n",
    "dictionary.filter_extremes(no_below=10, keep_n=500000)\n",
    "# Define the corpus \n",
    "corpus = [dictionary.doc2bow(text) for text in text_clean]\n",
    "print(dictionary)\n",
    "corpus[0][:10]"
   ]
  },
  {
   "cell_type": "code",
   "execution_count": 11,
   "metadata": {},
   "outputs": [
    {
     "name": "stdout",
     "output_type": "stream",
     "text": [
      "(0, '0.065*\"image\" + 0.017*\"se\" + 0.015*\"ne\"')\n",
      "(1, '0.012*\"company\" + 0.008*\"hou\" + 0.006*\"development\"')\n",
      "(2, '0.065*\"net\" + 0.057*\"money\" + 0.054*\"tr\"')\n",
      "(3, '0.018*\"pm\" + 0.015*\"message\" + 0.012*\"e\"')\n",
      "(4, '0.017*\"message\" + 0.013*\"thanks\" + 0.013*\"original\"')\n"
     ]
    }
   ],
   "source": [
    "# Define the LDA model\n",
    "ldamodel = gensim.models.ldamodel.LdaModel(corpus, num_topics=5, id2word=dictionary, passes=10)\n",
    "\n",
    "# Save the topics and top 10 words\n",
    "topics = ldamodel.print_topics(num_words=3)\n",
    "\n",
    "# Print the results\n",
    "for topic in topics:\n",
    "    print(topic)"
   ]
  },
  {
   "cell_type": "markdown",
   "metadata": {},
   "source": [
    "### Visualize the topics"
   ]
  },
  {
   "cell_type": "code",
   "execution_count": 12,
   "metadata": {},
   "outputs": [
    {
     "data": {
      "text/html": [
       "\n",
       "<link rel=\"stylesheet\" type=\"text/css\" href=\"https://cdn.rawgit.com/bmabey/pyLDAvis/files/ldavis.v1.0.0.css\">\n",
       "\n",
       "\n",
       "<div id=\"ldavis_el1458019352574439125224061238\"></div>\n",
       "<script type=\"text/javascript\">\n",
       "\n",
       "var ldavis_el1458019352574439125224061238_data = {\"mdsDat\": {\"x\": [-0.017710012577676043, -0.042856919811235294, 0.338592581848681, -0.12801942294294966, -0.1500062265168193], \"y\": [0.28784094403124105, -0.01978030966761403, -0.06826129359823419, -0.11863634140118802, -0.08116299936420436], \"topics\": [1, 2, 3, 4, 5], \"cluster\": [1, 1, 1, 1, 1], \"Freq\": [3.8701720237731934, 71.7479248046875, 2.7800378799438477, 10.316380500793457, 11.285487174987793]}, \"tinfo\": {\"Term\": [\"image\", \"money\", \"net\", \"market\", \"tr\", \"message\", \"energy\", \"pm\", \"e\", \"right\", \"please\", \"corp\", \"original\", \"class\", \"power\", \"service\", \"thanks\", \"day\", \"time\", \"would\", \"height\", \"table\", \"f\", \"new\", \"p\", \"mail\", \"know\", \"br\", \"gas\", \"see\", \"sp\", \"sw\", \"nw\", \"matrix\", \"range\", \"pdf\", \"temp\", \"max\", \"choice\", \"nc\", \"se\", \"ne\", \"count\", \"congestion\", \"delta\", \"temperature\", \"forecast\", \"manual\", \"winter\", \"intervention\", \"volatility\", \"publishing\", \"weather\", \"utah\", \"cold\", \"occurred\", \"image\", \"pjm\", \"normal\", \"main\", \"conference\", \"design\", \"desk\", \"generation\", \"click\", \"february\", \"used\", \"ct\", \"real\", \"standard\", \"market\", \"mean\", \"day\", \"service\", \"see\", \"time\", \"power\", \"p\", \"gas\", \"email\", \"would\", \"said\", \"mr\", \"bankruptcy\", \"lay\", \"investor\", \"retirement\", \"billion\", \"investment\", \"declared\", \"donate\", \"profit\", \"security\", \"reported\", \"largest\", \"law\", \"president\", \"chairman\", \"partnership\", \"government\", \"ee\", \"lon\", \"accounting\", \"crisis\", \"buying\", \"earnings\", \"sold\", \"ken\", \"income\", \"bush\", \"court\", \"company\", \"development\", \"million\", \"stock\", \"alert\", \"street\", \"natural\", \"many\", \"employee\", \"fund\", \"york\", \"utility\", \"plan\", \"business\", \"hou\", \"energy\", \"share\", \"california\", \"year\", \"consumer\", \"executive\", \"state\", \"new\", \"c\", \"j\", \"say\", \"power\", \"made\", \"corp\", \"mailto\", \"may\", \"price\", \"time\", \"market\", \"also\", \"would\", \"u\", \"e\", \"please\", \"height\", \"br\", \"align\", \"tr\", \"gif\", \"href\", \"table\", \"font\", \"map\", \"tab\", \"leg\", \"border\", \"blank\", \"class\", \"net\", \"color\", \"frame\", \"shape\", \"clear\", \"money\", \"port\", \"display\", \"size\", \"popular\", \"wrap\", \"symbol\", \"alexander\", \"jack\", \"breakfast\", \"advertisement\", \"center\", \"calpine\", \"unsubscribe\", \"start\", \"image\", \"f\", \"right\", \"end\", \"area\", \"top\", \"b\", \"left\", \"doc\", \"name\", \"energy\", \"outage\", \"thru\", \"fri\", \"sat\", \"beth\", \"server\", \"pager\", \"pep\", \"variance\", \"privileged\", \"recipient\", \"detected\", \"txt\", \"stack\", \"parsing\", \"westdesk\", \"hereto\", \"jason\", \"estoppel\", \"enforceable\", \"lenhart\", \"sender\", \"adult\", \"sitara\", \"menu\", \"jerry\", \"meredith\", \"binding\", \"matt\", \"notified\", \"acceptance\", \"ref\", \"tonight\", \"intended\", \"revised\", \"scheduled\", \"schedule\", \"file\", \"feedback\", \"confidential\", \"thank\", \"affiliate\", \"request\", \"wolfe\", \"xl\", \"pm\", \"status\", \"mail\", \"message\", \"team\", \"contact\", \"original\", \"attached\", \"friday\", \"id\", \"london\", \"review\", \"data\", \"e\", \"please\", \"corp\", \"november\", \"wednesday\", \"know\", \"mark\", \"let\", \"email\", \"system\", \"thanks\", \"thursday\", \"hou\", \"time\", \"gift\", \"michelle\", \"certificate\", \"blair\", \"auto\", \"wondering\", \"maggi\", \"explorer\", \"evelyn\", \"amazon\", \"christmas\", \"perfect\", \"preference\", \"sheri\", \"functionality\", \"amanda\", \"chad\", \"trademark\", \"easier\", \"intl\", \"bargain\", \"finalize\", \"faster\", \"assurance\", \"convenient\", \"checked\", \"drink\", \"music\", \"emission\", \"busy\", \"lynn\", \"terry\", \"river\", \"amy\", \"stacey\", \"visit\", \"january\", \"tomorrow\", \"friend\", \"shipping\", \"vega\", \"settlement\", \"eol\", \"message\", \"thanks\", \"original\", \"kimberly\", \"sure\", \"monday\", \"tw\", \"know\", \"online\", \"get\", \"order\", \"kim\", \"like\", \"let\", \"mail\", \"make\", \"send\", \"please\", \"go\", \"would\", \"e\", \"pm\", \"thursday\", \"one\", \"day\", \"available\", \"gas\", \"today\", \"new\"], \"Freq\": [1087.0, 811.0, 754.0, 1080.0, 507.0, 1233.0, 1656.0, 1265.0, 1847.0, 577.0, 1589.0, 1421.0, 905.0, 393.0, 1052.0, 798.0, 926.0, 833.0, 1420.0, 1358.0, 284.0, 280.0, 422.0, 1655.0, 607.0, 723.0, 850.0, 258.0, 896.0, 772.0, 195.9408416748047, 127.69402313232422, 128.2554168701172, 120.78845977783203, 133.68858337402344, 90.40509033203125, 57.92385482788086, 58.67538833618164, 70.22455596923828, 122.13694763183594, 220.514404296875, 200.44314575195312, 59.55830001831055, 29.241867065429688, 72.45636749267578, 26.59076690673828, 73.9513168334961, 16.92551040649414, 29.690837860107422, 15.545269966125488, 111.16117858886719, 8.499543190002441, 75.50055694580078, 8.286931991577148, 21.510868072509766, 17.40005874633789, 840.7542114257812, 12.836256980895996, 33.78021240234375, 69.8616714477539, 142.2532958984375, 37.74395751953125, 107.52700805664062, 53.89982986450195, 156.14173889160156, 64.27642059326172, 90.28780364990234, 76.66385650634766, 74.61265563964844, 72.9848861694336, 183.61441040039062, 62.967586517333984, 130.31573486328125, 126.65692901611328, 84.85094451904297, 90.68868255615234, 86.37490844726562, 78.3812026977539, 81.10287475585938, 75.80924987792969, 72.7540283203125, 1326.2880859375, 735.1751098632812, 465.84088134765625, 555.4161987304688, 407.6667175292969, 361.3318786621094, 363.2181091308594, 409.436279296875, 302.32574462890625, 299.41339111328125, 313.8357849121094, 392.5902404785156, 280.032470703125, 272.2906188964844, 331.94537353515625, 335.7813720703125, 262.5666809082031, 259.67645263671875, 289.47711181640625, 517.98876953125, 256.60137939453125, 242.21026611328125, 226.82052612304688, 234.50038146972656, 229.6425323486328, 229.66799926757812, 308.5303649902344, 207.46563720703125, 257.45526123046875, 278.2455749511719, 2988.23095703125, 1556.6134033203125, 1119.4620361328125, 1476.6219482421875, 353.4875183105469, 349.5001525878906, 307.4942932128906, 554.674560546875, 1437.18115234375, 751.6923217773438, 482.5588073730469, 460.78857421875, 745.0940551757812, 909.3314208984375, 1979.9033203125, 1529.8714599609375, 551.1016845703125, 737.815673828125, 1115.6563720703125, 534.940185546875, 395.728271484375, 704.8989868164062, 1392.34814453125, 699.5755615234375, 648.28955078125, 535.4812622070312, 882.2415771484375, 720.5460205078125, 1079.95556640625, 694.71142578125, 887.4746704101562, 713.5690307617188, 999.3519287109375, 819.0330200195312, 711.220947265625, 906.8910522460938, 735.5362548828125, 997.336669921875, 759.2717895507812, 283.7998046875, 257.8282470703125, 235.5705108642578, 505.3215637207031, 221.1295166015625, 204.13311767578125, 279.0004577636719, 114.40937805175781, 51.67585372924805, 27.988740921020508, 25.332115173339844, 170.29672241210938, 23.745656967163086, 324.0235595703125, 607.3289794921875, 19.817598342895508, 14.189423561096191, 49.36709976196289, 172.64381408691406, 527.7015380859375, 45.015682220458984, 13.976543426513672, 53.9022331237793, 14.220486640930176, 61.85067367553711, 13.318214416503906, 9.546255111694336, 9.721552848815918, 9.152701377868652, 37.41651153564453, 124.97370147705078, 18.94312286376953, 35.42179489135742, 82.24520111083984, 217.34323120117188, 101.05999755859375, 117.7258071899414, 88.09444427490234, 54.40178680419922, 59.547325134277344, 58.78153610229492, 39.15679931640625, 46.63732147216797, 44.49079513549805, 50.606868743896484, 249.5493927001953, 172.63531494140625, 153.07376098632812, 144.80438232421875, 86.29888916015625, 80.56880950927734, 75.2828369140625, 58.514259338378906, 56.312992095947266, 58.18134689331055, 182.07496643066406, 41.165489196777344, 41.442543029785156, 41.29482650756836, 39.10326385498047, 39.10316467285156, 36.45792770385742, 128.63829040527344, 36.164024353027344, 37.02851104736328, 34.54192352294922, 56.539825439453125, 60.06513595581055, 29.79711151123047, 23.578109741210938, 52.81953048706055, 23.29820442199707, 37.32661819458008, 48.63047409057617, 19.01318359375, 40.388450622558594, 66.12013244628906, 62.10557556152344, 179.6066131591797, 81.0837173461914, 191.42535400390625, 214.19284057617188, 238.94488525390625, 85.36978912353516, 78.00768280029297, 192.8628692626953, 91.85823822021484, 244.65164184570312, 74.83765411376953, 69.21653747558594, 620.2648315429688, 114.8761978149414, 356.6391296386719, 520.8115844726562, 269.899658203125, 220.1890411376953, 386.52581787109375, 165.341796875, 178.82559204101562, 137.80023193359375, 131.56564331054688, 171.3046875, 155.90867614746094, 414.96258544921875, 381.8226318359375, 322.98828125, 145.33212280273438, 152.20018005371094, 216.5994110107422, 191.0681610107422, 184.10440063476562, 166.03382873535156, 160.75559997558594, 178.8248748779297, 156.7358856201172, 174.30532836914062, 166.8792266845703, 186.85476684570312, 148.01873779296875, 94.83578491210938, 111.18502807617188, 82.73078918457031, 49.90598678588867, 47.08563995361328, 42.69419479370117, 40.93113708496094, 262.85919189453125, 37.85671615600586, 35.24725341796875, 35.6553955078125, 37.82134246826172, 33.48946762084961, 36.823001861572266, 37.595176696777344, 22.30008316040039, 20.989974975585938, 21.42441749572754, 20.523176193237305, 19.242023468017578, 19.220012664794922, 18.352327346801758, 19.215328216552734, 23.88821029663086, 26.888959884643555, 26.38963508605957, 39.83391189575195, 29.40616226196289, 160.54428100585938, 65.85171508789062, 80.76509857177734, 125.38780212402344, 93.47415924072266, 192.27511596679688, 310.09429931640625, 122.97854614257812, 91.97235107421875, 107.72989654541016, 36.42926025390625, 111.24146270751953, 113.22218322753906, 644.90576171875, 497.67413330078125, 487.55352783203125, 114.54145812988281, 155.99440002441406, 259.8738708496094, 68.96255493164062, 389.5426940917969, 182.6637725830078, 322.1177978515625, 209.77960205078125, 153.29537963867188, 284.2485656738281, 231.90599060058594, 252.12277221679688, 225.3856658935547, 167.3851318359375, 351.42218017578125, 194.2377166748047, 308.5714111328125, 337.4683837890625, 279.2689514160156, 174.63192749023438, 234.50526428222656, 219.54299926757812, 182.05068969726562, 201.31765747070312, 168.10874938964844, 160.73049926757812], \"Total\": [1087.0, 811.0, 754.0, 1080.0, 507.0, 1233.0, 1656.0, 1265.0, 1847.0, 577.0, 1589.0, 1421.0, 905.0, 393.0, 1052.0, 798.0, 926.0, 833.0, 1420.0, 1358.0, 284.0, 280.0, 422.0, 1655.0, 607.0, 723.0, 850.0, 258.0, 896.0, 772.0, 196.84690856933594, 128.5784912109375, 129.16783142089844, 121.6605224609375, 134.85594177246094, 91.68633270263672, 58.80294418334961, 59.56902313232422, 71.37406921386719, 124.2680892944336, 224.531982421875, 204.0965576171875, 61.033470153808594, 30.116106033325195, 74.75349426269531, 27.462879180908203, 77.45277404785156, 17.82160186767578, 31.271413803100586, 16.717914581298828, 122.14100646972656, 9.398534774780273, 85.42288208007812, 10.118083953857422, 26.4659423828125, 21.866182327270508, 1087.893310546875, 16.73503303527832, 44.18766784667969, 91.98824310302734, 239.8443145751953, 55.59475326538086, 185.53152465820312, 91.26753997802734, 364.78643798828125, 120.59036254882812, 208.41204833984375, 188.0845947265625, 184.79534912109375, 184.03807067871094, 1080.0538330078125, 157.42103576660156, 833.221435546875, 798.792236328125, 772.9828491210938, 1420.2869873046875, 1052.308837890625, 607.255126953125, 896.2998046875, 466.0389404296875, 1358.718505859375, 1327.505859375, 735.9715576171875, 466.3486328125, 556.10791015625, 408.2221984863281, 361.84332275390625, 363.7464904785156, 410.04443359375, 302.8282165527344, 299.9200439453125, 314.37994384765625, 393.2825012207031, 280.546630859375, 272.8073425292969, 332.580078125, 336.42718505859375, 263.1005859375, 260.21014404296875, 290.07244873046875, 519.1176147460938, 257.1761779785156, 242.7583465576172, 227.3338623046875, 235.03994750976562, 230.1781463623047, 230.20614624023438, 309.28619384765625, 207.9778289794922, 258.10736083984375, 278.950439453125, 3026.372314453125, 1568.0740966796875, 1124.48583984375, 1488.3572998046875, 355.17742919921875, 351.3880615234375, 308.79595947265625, 560.7539672851562, 1485.6014404296875, 773.5573120117188, 490.86907958984375, 468.43927001953125, 772.5756225585938, 954.2376708984375, 2162.151123046875, 1656.807861328125, 569.6980590820312, 779.91552734375, 1221.0416259765625, 559.42236328125, 403.12603759765625, 767.6213989257812, 1655.24755859375, 765.7682495117188, 710.2803344726562, 571.5530395507812, 1052.308837890625, 825.8541259765625, 1421.2874755859375, 812.0466918945312, 1146.4534912109375, 855.3662109375, 1420.2869873046875, 1080.0538330078125, 892.807373046875, 1358.718505859375, 963.0283813476562, 1847.1256103515625, 1589.28759765625, 284.71917724609375, 258.7423400878906, 236.46534729003906, 507.3538818359375, 222.0410919189453, 205.0265350341797, 280.2975158691406, 115.31034851074219, 52.846492767333984, 28.88469886779785, 26.312908172607422, 186.2235870361328, 28.41164207458496, 393.26910400390625, 754.7268676757812, 25.9874210357666, 18.69389533996582, 73.33234405517578, 257.49542236328125, 811.8002319335938, 69.78958892822266, 22.2319278717041, 98.31472778320312, 26.391395568847656, 124.53463745117188, 26.93927001953125, 19.779035568237305, 20.459720611572266, 20.271713256835938, 82.88539123535156, 298.1697082519531, 44.04335021972656, 91.03704071044922, 258.9906921386719, 1087.893310546875, 422.21441650390625, 577.7064208984375, 434.375732421875, 219.0843505859375, 264.7917175292969, 504.7553405761719, 131.83668518066406, 256.14532470703125, 333.01641845703125, 1656.807861328125, 250.37362670898438, 173.4615020751953, 153.9029998779297, 145.72291564941406, 87.13695526123047, 81.40157318115234, 76.09957122802734, 59.33403396606445, 57.12893295288086, 59.12096405029297, 185.19363403320312, 41.981136322021484, 42.27461242675781, 42.12959289550781, 39.920475006103516, 39.92041778564453, 37.27499008178711, 131.54263305664062, 36.98084259033203, 37.874385833740234, 35.368221282958984, 58.027523040771484, 61.90369415283203, 30.738950729370117, 24.458938598632812, 54.895477294921875, 24.31768035888672, 39.09737777709961, 51.02167510986328, 20.00535011291504, 42.751033782958984, 70.44107818603516, 66.53120422363281, 209.19113159179688, 90.44886016845703, 233.89239501953125, 275.9302978515625, 315.581787109375, 98.2594223022461, 88.66938018798828, 256.39617919921875, 108.01655578613281, 351.13323974609375, 86.58820343017578, 78.89059448242188, 1265.0155029296875, 152.61163330078125, 723.9451904296875, 1233.7421875, 510.4315490722656, 394.524169921875, 905.7413330078125, 270.48394775390625, 303.98651123046875, 210.931884765625, 197.1952667236328, 328.743408203125, 286.43780517578125, 1847.1256103515625, 1589.28759765625, 1421.2874755859375, 290.31439208984375, 328.0897521972656, 850.9329833984375, 606.3919677734375, 556.6356201171875, 466.0389404296875, 412.70062255859375, 926.479248046875, 412.96038818359375, 2162.151123046875, 1420.2869873046875, 187.60610961914062, 148.85537719726562, 95.58930969238281, 112.0753402709961, 83.55170440673828, 50.67946243286133, 47.836204528808594, 43.448036193847656, 41.70565414428711, 268.0684814453125, 38.623565673828125, 35.99921798706055, 36.421844482421875, 38.66822052001953, 34.2442626953125, 37.956356048583984, 38.79804229736328, 23.0657958984375, 21.760765075683594, 22.21819305419922, 21.311479568481445, 20.00687026977539, 20.001930236816406, 19.119464874267578, 20.02046012878418, 25.013341903686523, 28.161317825317383, 27.649072647094727, 41.844688415527344, 30.935949325561523, 169.57949829101562, 69.63349914550781, 87.5698013305664, 137.99319458007812, 103.27056884765625, 224.5324249267578, 387.6136474609375, 143.404296875, 106.0208740234375, 128.20298767089844, 39.373504638671875, 142.14291381835938, 150.68768310546875, 1233.7421875, 926.479248046875, 905.7413330078125, 154.37356567382812, 228.1163787841797, 464.998291015625, 85.07049560546875, 850.9329833984375, 311.8072204589844, 673.15087890625, 385.1621398925781, 261.4095458984375, 660.2464599609375, 556.6356201171875, 723.9451904296875, 594.7904052734375, 345.34454345703125, 1589.28759765625, 476.1875, 1358.718505859375, 1847.1256103515625, 1265.0155029296875, 412.96038818359375, 922.7141723632812, 833.221435546875, 481.8682556152344, 896.2998046875, 531.275146484375, 1655.24755859375], \"Category\": [\"Default\", \"Default\", \"Default\", \"Default\", \"Default\", \"Default\", \"Default\", \"Default\", \"Default\", \"Default\", \"Default\", \"Default\", \"Default\", \"Default\", \"Default\", \"Default\", \"Default\", \"Default\", \"Default\", \"Default\", \"Default\", \"Default\", \"Default\", \"Default\", \"Default\", \"Default\", \"Default\", \"Default\", \"Default\", \"Default\", \"Topic1\", \"Topic1\", \"Topic1\", \"Topic1\", \"Topic1\", \"Topic1\", \"Topic1\", \"Topic1\", \"Topic1\", \"Topic1\", \"Topic1\", \"Topic1\", \"Topic1\", \"Topic1\", \"Topic1\", \"Topic1\", \"Topic1\", \"Topic1\", \"Topic1\", \"Topic1\", \"Topic1\", \"Topic1\", \"Topic1\", \"Topic1\", \"Topic1\", \"Topic1\", \"Topic1\", \"Topic1\", \"Topic1\", \"Topic1\", \"Topic1\", \"Topic1\", \"Topic1\", \"Topic1\", \"Topic1\", \"Topic1\", \"Topic1\", \"Topic1\", \"Topic1\", \"Topic1\", \"Topic1\", \"Topic1\", \"Topic1\", \"Topic1\", \"Topic1\", \"Topic1\", \"Topic1\", \"Topic1\", \"Topic1\", \"Topic1\", \"Topic1\", \"Topic2\", \"Topic2\", \"Topic2\", \"Topic2\", \"Topic2\", \"Topic2\", \"Topic2\", \"Topic2\", \"Topic2\", \"Topic2\", \"Topic2\", \"Topic2\", \"Topic2\", \"Topic2\", \"Topic2\", \"Topic2\", \"Topic2\", \"Topic2\", \"Topic2\", \"Topic2\", \"Topic2\", \"Topic2\", \"Topic2\", \"Topic2\", \"Topic2\", \"Topic2\", \"Topic2\", \"Topic2\", \"Topic2\", \"Topic2\", \"Topic2\", \"Topic2\", \"Topic2\", \"Topic2\", \"Topic2\", \"Topic2\", \"Topic2\", \"Topic2\", \"Topic2\", \"Topic2\", \"Topic2\", \"Topic2\", \"Topic2\", \"Topic2\", \"Topic2\", \"Topic2\", \"Topic2\", \"Topic2\", \"Topic2\", \"Topic2\", \"Topic2\", \"Topic2\", \"Topic2\", \"Topic2\", \"Topic2\", \"Topic2\", \"Topic2\", \"Topic2\", \"Topic2\", \"Topic2\", \"Topic2\", \"Topic2\", \"Topic2\", \"Topic2\", \"Topic2\", \"Topic2\", \"Topic2\", \"Topic2\", \"Topic2\", \"Topic3\", \"Topic3\", \"Topic3\", \"Topic3\", \"Topic3\", \"Topic3\", \"Topic3\", \"Topic3\", \"Topic3\", \"Topic3\", \"Topic3\", \"Topic3\", \"Topic3\", \"Topic3\", \"Topic3\", \"Topic3\", \"Topic3\", \"Topic3\", \"Topic3\", \"Topic3\", \"Topic3\", \"Topic3\", \"Topic3\", \"Topic3\", \"Topic3\", \"Topic3\", \"Topic3\", \"Topic3\", \"Topic3\", \"Topic3\", \"Topic3\", \"Topic3\", \"Topic3\", \"Topic3\", \"Topic3\", \"Topic3\", \"Topic3\", \"Topic3\", \"Topic3\", \"Topic3\", \"Topic3\", \"Topic3\", \"Topic3\", \"Topic3\", \"Topic3\", \"Topic4\", \"Topic4\", \"Topic4\", \"Topic4\", \"Topic4\", \"Topic4\", \"Topic4\", \"Topic4\", \"Topic4\", \"Topic4\", \"Topic4\", \"Topic4\", \"Topic4\", \"Topic4\", \"Topic4\", \"Topic4\", \"Topic4\", \"Topic4\", \"Topic4\", \"Topic4\", \"Topic4\", \"Topic4\", \"Topic4\", \"Topic4\", \"Topic4\", \"Topic4\", \"Topic4\", \"Topic4\", \"Topic4\", \"Topic4\", \"Topic4\", \"Topic4\", \"Topic4\", \"Topic4\", \"Topic4\", \"Topic4\", \"Topic4\", \"Topic4\", \"Topic4\", \"Topic4\", \"Topic4\", \"Topic4\", \"Topic4\", \"Topic4\", \"Topic4\", \"Topic4\", \"Topic4\", \"Topic4\", \"Topic4\", \"Topic4\", \"Topic4\", \"Topic4\", \"Topic4\", \"Topic4\", \"Topic4\", \"Topic4\", \"Topic4\", \"Topic4\", \"Topic4\", \"Topic4\", \"Topic4\", \"Topic4\", \"Topic4\", \"Topic4\", \"Topic4\", \"Topic4\", \"Topic4\", \"Topic4\", \"Topic4\", \"Topic4\", \"Topic4\", \"Topic4\", \"Topic5\", \"Topic5\", \"Topic5\", \"Topic5\", \"Topic5\", \"Topic5\", \"Topic5\", \"Topic5\", \"Topic5\", \"Topic5\", \"Topic5\", \"Topic5\", \"Topic5\", \"Topic5\", \"Topic5\", \"Topic5\", \"Topic5\", \"Topic5\", \"Topic5\", \"Topic5\", \"Topic5\", \"Topic5\", \"Topic5\", \"Topic5\", \"Topic5\", \"Topic5\", \"Topic5\", \"Topic5\", \"Topic5\", \"Topic5\", \"Topic5\", \"Topic5\", \"Topic5\", \"Topic5\", \"Topic5\", \"Topic5\", \"Topic5\", \"Topic5\", \"Topic5\", \"Topic5\", \"Topic5\", \"Topic5\", \"Topic5\", \"Topic5\", \"Topic5\", \"Topic5\", \"Topic5\", \"Topic5\", \"Topic5\", \"Topic5\", \"Topic5\", \"Topic5\", \"Topic5\", \"Topic5\", \"Topic5\", \"Topic5\", \"Topic5\", \"Topic5\", \"Topic5\", \"Topic5\", \"Topic5\", \"Topic5\", \"Topic5\", \"Topic5\", \"Topic5\", \"Topic5\", \"Topic5\", \"Topic5\", \"Topic5\", \"Topic5\", \"Topic5\", \"Topic5\"], \"logprob\": [30.0, 29.0, 28.0, 27.0, 26.0, 25.0, 24.0, 23.0, 22.0, 21.0, 20.0, 19.0, 18.0, 17.0, 16.0, 15.0, 14.0, 13.0, 12.0, 11.0, 10.0, 9.0, 8.0, 7.0, 6.0, 5.0, 4.0, 3.0, 2.0, 1.0, -4.193999767303467, -4.622200012207031, -4.617800235748291, -4.677800178527832, -4.576300144195557, -4.96750020980835, -5.412700176239014, -5.399799823760986, -5.220099925994873, -4.6666998863220215, -4.075799942016602, -4.171299934387207, -5.384900093078613, -6.096199989318848, -5.188799858093262, -6.191199779510498, -5.168399810791016, -6.64300012588501, -6.080999851226807, -6.728099822998047, -4.760799884796143, -7.3317999839782715, -5.14769983291626, -7.357100009918213, -6.403200149536133, -6.615300178527832, -2.737499952316284, -6.91949987411499, -5.951900005340576, -5.225299835205078, -4.514200210571289, -5.841000080108643, -4.794099807739258, -5.4847002029418945, -4.421000003814697, -5.308599948883057, -4.968800067901611, -5.132400035858154, -5.1595001220703125, -5.181600093841553, -4.258999824523926, -5.32919979095459, -4.601799964904785, -4.630300045013428, -5.030900001525879, -4.964399814605713, -5.0131001472473145, -5.110199928283691, -5.076099872589111, -5.143599987030029, -5.184700012207031, -5.201499938964844, -5.791600227355957, -6.247799873352051, -6.072000026702881, -6.381199836730957, -6.5019001960754395, -6.496699810028076, -6.3769001960754395, -6.680200099945068, -6.689799785614014, -6.6427998542785645, -6.418900012969971, -6.756800174713135, -6.784800052642822, -6.586699962615967, -6.575200080871582, -6.821199893951416, -6.832200050354004, -6.723599910736084, -6.14169979095459, -6.844099998474121, -6.901899814605713, -6.96750020980835, -6.934199810028076, -6.955100059509277, -6.954999923706055, -6.659800052642822, -7.056700229644775, -6.840799808502197, -6.763199806213379, -4.389200210571289, -5.041399955749512, -5.371099948883057, -5.094200134277344, -6.523799896240234, -6.535200119018555, -6.6631999015808105, -6.073299884796143, -5.121200084686279, -5.7692999839782715, -6.212600231170654, -6.258699893951416, -5.778200149536133, -5.578999996185303, -4.800899982452393, -5.058700084686279, -6.079699993133545, -5.788000106811523, -5.374499797821045, -6.109499931335449, -6.410900115966797, -5.833600044250488, -5.152900218963623, -5.84119987487793, -5.917300224304199, -6.108500003814697, -5.6092000007629395, -5.811699867248535, -5.4070000648498535, -5.848199844360352, -5.603300094604492, -5.821400165557861, -5.484600067138672, -5.683499813079834, -5.824699878692627, -5.581600189208984, -5.791100025177002, -5.486599922180176, -5.759300231933594, -3.4927000999450684, -3.58870005607605, -3.678999900817871, -2.915800094604492, -3.7421998977661133, -3.822200059890747, -3.5097999572753906, -4.401199817657471, -5.196000099182129, -5.809199810028076, -5.908899784088135, -4.003399848937988, -5.973599910736084, -3.3601999282836914, -2.7318999767303467, -6.154399871826172, -6.488500118255615, -5.241700172424316, -3.9897000789642334, -2.8724000453948975, -5.334000110626221, -6.503600120544434, -5.153800010681152, -6.486299991607666, -5.016300201416016, -6.551799774169922, -6.884799957275391, -6.866600036621094, -6.9268999099731445, -5.518899917602539, -4.312900066375732, -6.19950008392334, -5.573599815368652, -4.731299877166748, -3.759500026702881, -4.525300025939941, -4.372600078582764, -4.662600040435791, -5.144599914550781, -5.054200172424316, -5.0671000480651855, -5.473400115966797, -5.298600196838379, -5.345699787139893, -5.216899871826172, -4.932600021362305, -5.30109977722168, -5.421299934387207, -5.476900100708008, -5.9944000244140625, -6.0630998611450195, -6.13100004196167, -6.382999897003174, -6.421299934387207, -6.388700008392334, -5.247799873352051, -6.734600067138672, -6.72790002822876, -6.731500148773193, -6.785999774932861, -6.785999774932861, -6.856100082397461, -5.595200061798096, -6.864200115203857, -6.84060001373291, -6.910099983215332, -6.417300224304199, -6.356800079345703, -7.057799816131592, -7.291900157928467, -6.485400199890137, -7.303899765014648, -6.832499980926514, -6.567999839782715, -7.5071001052856445, -6.753699779510498, -6.260799884796143, -6.323400020599365, -5.261499881744385, -6.05679988861084, -5.197700023651123, -5.085400104522705, -4.97599983215332, -6.005199909210205, -6.095399856567383, -5.190299987792969, -5.932000160217285, -4.952400207519531, -6.136899948120117, -6.215000152587891, -4.02209997177124, -5.708399772644043, -4.575500011444092, -4.196899890899658, -4.8541998863220215, -5.057799816131592, -4.494999885559082, -5.344200134277344, -5.2657999992370605, -5.526400089263916, -5.572700023651123, -5.308800220489502, -5.4029998779296875, -4.424099922180176, -4.507299900054932, -4.674600124359131, -5.473199844360352, -5.427000045776367, -5.07420015335083, -5.1996002197265625, -5.236700057983398, -5.340099811553955, -5.372399806976318, -5.2657999992370605, -5.39769983291626, -5.291399955749512, -5.335000038146973, -5.311699867248535, -5.5447001457214355, -5.9899001121521, -5.8308000564575195, -6.126399993896484, -6.631899833679199, -6.690100193023682, -6.788000106811523, -6.830100059509277, -4.970399856567383, -6.908199787139893, -6.979599952697754, -6.968100070953369, -6.909200191497803, -7.030799865722656, -6.9359002113342285, -6.915200233459473, -7.437399864196777, -7.498000144958496, -7.477499961853027, -7.520500183105469, -7.58489990234375, -7.586100101470947, -7.632299900054932, -7.586299896240234, -7.368599891662598, -7.25029993057251, -7.269100189208984, -6.8572998046875, -7.160799980163574, -5.463500022888184, -6.354599952697754, -6.1504998207092285, -5.710599899291992, -6.004300117492676, -5.283100128173828, -4.805200099945068, -5.730000019073486, -6.020500183105469, -5.862400054931641, -6.946700096130371, -5.8302998542785645, -5.812699794769287, -4.07289981842041, -4.332099914550781, -4.35260009765625, -5.80109977722168, -5.492199897766113, -4.981800079345703, -6.308499813079834, -4.577099800109863, -5.334400177001953, -4.767099857330322, -5.196000099182129, -5.509699821472168, -4.892199993133545, -5.095699787139893, -5.0121002197265625, -5.124199867248535, -5.4217000007629395, -4.679999828338623, -5.272900104522705, -4.810100078582764, -4.720600128173828, -4.909900188446045, -5.379300117492676, -5.084499835968018, -5.1504998207092285, -5.337699890136719, -5.237100124359131, -5.417399883270264, -5.462299823760986], \"loglift\": [30.0, 29.0, 28.0, 27.0, 26.0, 25.0, 24.0, 23.0, 22.0, 21.0, 20.0, 19.0, 18.0, 17.0, 16.0, 15.0, 14.0, 13.0, 12.0, 11.0, 10.0, 9.0, 8.0, 7.0, 6.0, 5.0, 4.0, 3.0, 2.0, 1.0, 3.247299909591675, 3.244999885559082, 3.244800090789795, 3.2446999549865723, 3.2432000637054443, 3.237799882888794, 3.236799955368042, 3.236799955368042, 3.235599994659424, 3.234600067138672, 3.233799934387207, 3.233799934387207, 3.227400064468384, 3.222399950027466, 3.2207000255584717, 3.219599962234497, 3.2056000232696533, 3.2002999782562256, 3.200000047683716, 3.1791000366210938, 3.1577000617980957, 3.1512999534606934, 3.1284000873565674, 3.0522000789642334, 3.044600009918213, 3.023400068283081, 2.9941999912261963, 2.986599922180176, 2.983299970626831, 2.9767000675201416, 2.7295000553131104, 2.8645999431610107, 2.706399917602539, 2.7251999378204346, 2.4033000469207764, 2.6226999759674072, 2.4154000282287598, 2.3543999195098877, 2.344899892807007, 2.3269999027252197, 1.4799000024795532, 2.335599899291992, 1.3964999914169312, 1.4103000164031982, 1.0425000190734863, 0.5006999969482422, 0.751800000667572, 1.2044999599456787, 0.8493000268936157, 1.4357999563217163, 0.3246999979019165, 0.3310999870300293, 0.33090001344680786, 0.33090001344680786, 0.33079999685287476, 0.33059999346733093, 0.33059999346733093, 0.33059999346733093, 0.3305000066757202, 0.3303999900817871, 0.3303000032901764, 0.3303000032901764, 0.3301999866962433, 0.3301999866962433, 0.33009999990463257, 0.33009999990463257, 0.33009999990463257, 0.33000001311302185, 0.33000001311302185, 0.33000001311302185, 0.329800009727478, 0.329800009727478, 0.329800009727478, 0.329800009727478, 0.3296999931335449, 0.3296999931335449, 0.3296999931335449, 0.3296000063419342, 0.3294999897480011, 0.3294999897480011, 0.3294999897480011, 0.31929999589920044, 0.3246999979019165, 0.32749998569488525, 0.32409998774528503, 0.3271999955177307, 0.32659998536109924, 0.3278000056743622, 0.32109999656677246, 0.2989000082015991, 0.30329999327659607, 0.3149000108242035, 0.3154999911785126, 0.29580000042915344, 0.28380000591278076, 0.24400000274181366, 0.2522999942302704, 0.298799991607666, 0.27649998664855957, 0.24169999361038208, 0.2872999906539917, 0.31349998712539673, 0.2468000054359436, 0.1590999960899353, 0.24160000681877136, 0.24070000648498535, 0.2667999863624573, 0.15569999814033508, 0.1956000030040741, 0.05739999935030937, 0.17589999735355377, 0.07599999755620956, 0.15080000460147858, -0.019500000402331352, 0.055399999022483826, 0.10459999740123749, -0.0723000019788742, 0.0625, -0.2842999994754791, -0.4066999852657318, 3.5794999599456787, 3.579200029373169, 3.578900098800659, 3.578700065612793, 3.5785999298095703, 3.5782999992370605, 3.5780999660491943, 3.574899911880493, 3.56030011177063, 3.5511999130249023, 3.5446999073028564, 3.493299961090088, 3.4033000469207764, 3.3889999389648438, 3.3654000759124756, 3.3117001056671143, 3.306999921798706, 3.187000036239624, 3.1828999519348145, 3.1519999504089355, 3.144200086593628, 3.1185998916625977, 2.9816999435424805, 2.964400053024292, 2.8828001022338867, 2.8782999515533447, 2.8541998863220215, 2.838599920272827, 2.7874999046325684, 2.787400007247925, 2.713099956512451, 2.739000082015991, 2.6387999057769775, 2.4356000423431396, 1.9722000360488892, 2.152899980545044, 1.9919999837875366, 1.9872000217437744, 2.1895999908447266, 2.0905001163482666, 1.4325000047683716, 2.3687000274658203, 1.8794000148773193, 1.5698000192642212, 0.0940999984741211, 2.2681000232696533, 2.266700029373169, 2.2660000324249268, 2.2651000022888184, 2.2618000507354736, 2.261199951171875, 2.2606000900268555, 2.257499933242798, 2.2571001052856445, 2.2553999423980713, 2.254499912261963, 2.251800060272217, 2.2516000270843506, 2.2513999938964844, 2.2507998943328857, 2.2507998943328857, 2.249300003051758, 2.2490999698638916, 2.2490999698638916, 2.2488999366760254, 2.24780011177063, 2.245500087738037, 2.241300106048584, 2.240299940109253, 2.234800100326538, 2.2328999042510986, 2.228600025177002, 2.225100040435791, 2.223400115966797, 2.220599889755249, 2.214600086212158, 2.2081000804901123, 2.2026000022888184, 2.11899995803833, 2.162100076675415, 2.0710999965667725, 2.018199920654297, 1.993299961090088, 2.1308000087738037, 2.1433000564575195, 1.9867000579833984, 2.1094000339508057, 1.910099983215332, 2.1256000995635986, 2.1405999660491943, 1.5586999654769897, 1.9874000549316406, 1.5634000301361084, 1.409000039100647, 1.6341999769210815, 1.6881999969482422, 1.4198999404907227, 1.7791999578475952, 1.7409000396728516, 1.8457000255584717, 1.8667000532150269, 1.6196000576019287, 1.6632000207901, 0.7781999707221985, 0.8453999757766724, 0.7896999716758728, 1.5794999599456787, 1.5032999515533447, 0.9031999707221985, 1.1165000200271606, 1.1649999618530273, 1.239400029182434, 1.3286000490188599, 0.6265000104904175, 1.3026000261306763, -0.24660000205039978, 0.13009999692440033, 2.1775999069213867, 2.1760001182556152, 2.1737000942230225, 2.1737000942230225, 2.171799898147583, 2.166300058364868, 2.165800094604492, 2.1642000675201416, 2.162899971008301, 2.1619999408721924, 2.161600112915039, 2.1605000495910645, 2.160399913787842, 2.1594998836517334, 2.15939998626709, 2.1512999534606934, 2.1501998901367188, 2.147900104522705, 2.1456000804901123, 2.1452999114990234, 2.1440000534057617, 2.142699956893921, 2.1417999267578125, 2.140700101852417, 2.1405999660491943, 2.1356000900268555, 2.1354000568389893, 2.134999990463257, 2.1324000358581543, 2.1308999061584473, 2.1268999576568604, 2.1257998943328857, 2.100800037384033, 2.085900068283081, 2.0820000171661377, 2.026599884033203, 1.9585000276565552, 2.0280001163482666, 2.0394999980926514, 2.007699966430664, 2.1038999557495117, 1.9364999532699585, 1.895799994468689, 1.5328999757766724, 1.5601999759674072, 1.5622999668121338, 1.8832000494003296, 1.8015999794006348, 1.5997999906539917, 1.9716999530792236, 1.4003000259399414, 1.6469000577926636, 1.444599986076355, 1.5740000009536743, 1.6478999853134155, 1.3388999700546265, 1.3061000108718872, 1.1268999576568604, 1.211300015449524, 1.4573999643325806, 0.6725999712944031, 1.2848999500274658, 0.6992999911308289, 0.48170000314712524, 0.6710000038146973, 1.3209999799728394, 0.8118000030517578, 0.8478999733924866, 1.208299994468689, 0.6883000135421753, 1.031000018119812, -0.15029999613761902]}, \"token.table\": {\"Topic\": [2, 4, 2, 2, 4, 5, 2, 3, 2, 3, 4, 1, 2, 2, 3, 3, 1, 2, 3, 4, 5, 2, 5, 3, 5, 2, 5, 1, 2, 3, 4, 5, 5, 2, 3, 4, 5, 2, 5, 1, 2, 4, 5, 1, 2, 3, 4, 5, 2, 5, 4, 2, 2, 4, 2, 5, 2, 3, 1, 2, 3, 3, 2, 3, 2, 1, 2, 4, 5, 2, 5, 2, 1, 2, 4, 5, 2, 4, 2, 3, 1, 2, 3, 4, 5, 5, 2, 5, 2, 2, 5, 1, 2, 5, 2, 3, 4, 5, 2, 3, 1, 2, 3, 4, 5, 1, 5, 2, 3, 5, 1, 2, 3, 5, 1, 2, 3, 2, 4, 1, 1, 2, 3, 1, 2, 4, 5, 2, 5, 2, 3, 4, 1, 5, 2, 2, 1, 2, 4, 1, 2, 3, 4, 1, 2, 3, 4, 5, 2, 1, 5, 1, 2, 1, 2, 4, 4, 2, 4, 1, 3, 2, 3, 4, 2, 2, 5, 1, 2, 3, 4, 5, 2, 5, 2, 4, 1, 2, 3, 4, 5, 2, 5, 2, 4, 1, 2, 3, 4, 5, 1, 2, 3, 4, 5, 4, 2, 4, 5, 4, 5, 1, 2, 5, 1, 2, 3, 4, 5, 5, 1, 2, 3, 4, 5, 2, 4, 2, 4, 5, 3, 1, 2, 2, 3, 4, 1, 2, 4, 5, 2, 4, 5, 5, 2, 4, 1, 2, 3, 4, 5, 1, 2, 1, 2, 3, 4, 5, 3, 5, 1, 2, 3, 4, 5, 2, 3, 4, 2, 3, 4, 3, 2, 3, 4, 5, 1, 3, 5, 2, 2, 4, 1, 2, 2, 5, 2, 2, 2, 3, 4, 2, 3, 1, 2, 4, 5, 2, 3, 4, 2, 4, 2, 1, 2, 3, 4, 5, 2, 3, 4, 5, 1, 2, 3, 4, 5, 2, 2, 2, 2, 3, 5, 2, 3, 4, 2, 3, 4, 5, 1, 2, 3, 4, 5, 2, 2, 4, 5, 2, 3, 5, 2, 4, 5, 5, 2, 3, 4, 5, 1, 2, 3, 4, 5, 1, 2, 4, 1, 2, 4, 5, 1, 2, 3, 5, 3, 2, 3, 4, 5, 1, 2, 3, 4, 5, 1, 2, 4, 5, 1, 2, 4, 5, 1, 2, 4, 5, 4, 2, 4, 2, 3, 4, 5, 2, 5, 2, 3, 1, 2, 4, 5, 2, 3, 2, 3, 5, 2, 3, 4, 5, 2, 3, 1, 5, 1, 2, 5, 2, 3, 4, 5, 1, 2, 3, 4, 5, 1, 2, 3, 4, 2, 4, 2, 3, 4, 5, 1, 1, 2, 5, 1, 2, 4, 5, 1, 2, 3, 5, 1, 2, 4, 5, 2, 4, 5, 4, 1, 2, 3, 4, 5, 4, 4, 2, 1, 2, 4, 5, 1, 2, 2, 4, 5, 1, 2, 3, 4, 5, 2, 3, 4, 5, 2, 3, 4, 2, 3, 1, 2, 4, 5, 5, 2, 1, 2, 3, 4, 5, 2, 4, 2, 1, 1, 2, 1, 2, 3, 4, 2, 4, 2, 4, 2, 2, 3, 4, 2, 1, 2, 4, 5, 2, 3, 4, 1, 2, 3, 5, 2, 5, 2, 5, 2, 4, 2, 3, 4, 5, 1, 2, 4, 5, 2, 4, 5, 1, 2, 2, 1, 2, 4, 5, 1, 2, 3, 4, 5, 2, 4, 4, 1, 2, 3, 4, 5, 1, 2, 4, 5, 2, 3, 5, 2, 5, 2, 5, 4, 5, 2, 4, 2, 3, 4, 2, 1, 2, 3, 5, 4, 1, 2, 3, 5, 1, 2, 3, 4, 5, 2, 4, 5, 1, 2, 4, 5, 2, 3, 4, 5, 2, 5, 2, 3, 4, 5, 1, 2, 3, 1, 2, 4, 5, 3, 2, 3, 2, 3, 4, 5, 1, 1, 2, 5, 2, 4, 5, 1, 2, 3, 4, 5, 4, 1, 2, 3, 4, 5, 1, 2, 3, 4, 5, 1, 2, 3, 4, 5, 1, 2, 4, 5, 2, 4, 5, 2, 3, 5, 2, 3, 5, 2, 4, 5, 4, 1, 2, 3, 4, 5, 2, 3, 5, 1, 2, 4, 5, 1, 2, 5, 1, 2, 4, 2, 5, 1, 2, 5, 1, 4, 1, 2, 5, 1, 2, 4, 5, 4, 1, 5, 1, 2, 4, 5, 1, 2, 3, 4, 5, 3, 5, 3, 4, 1, 2, 4, 5, 1, 2, 5], \"Freq\": [0.046782493591308594, 0.9356498718261719, 0.9968761205673218, 0.016154125332832336, 0.9692474603652954, 0.016154125332832336, 0.54291832447052, 0.4463995397090912, 0.10183624178171158, 0.03703135997056961, 0.8517212867736816, 0.0028154943138360977, 0.9938694834709167, 0.5055858492851257, 0.5055858492851257, 0.9980320930480957, 0.06944387406110764, 0.7963643670082092, 0.0011200624285265803, 0.11200624704360962, 0.021281186491250992, 0.026346048340201378, 0.9748038053512573, 0.018651951104402542, 0.9810925722122192, 0.0869608074426651, 0.9058417677879333, 0.3149471879005432, 0.26473820209503174, 0.24648040533065796, 0.10954684764146805, 0.05933787673711777, 0.9414489269256592, 0.3586164712905884, 0.022182462736964226, 0.610017716884613, 0.007394154090434313, 0.011968636885285378, 0.9933968782424927, 0.02075256034731865, 0.34449249505996704, 0.2573317587375641, 0.37769660353660583, 0.001981157809495926, 0.703311026096344, 0.11688831448554993, 0.05745357647538185, 0.11886946856975555, 0.999252438545227, 0.9853844046592712, 0.9869520664215088, 0.9979477524757385, 0.025577163323760033, 0.9463550448417664, 0.008922569453716278, 0.9904052019119263, 0.14078736305236816, 0.8447241187095642, 0.04295911267399788, 0.04295911267399788, 0.9128811359405518, 0.9971309900283813, 0.5426280498504639, 0.44396838545799255, 0.9957097172737122, 0.03248666599392891, 0.9525928497314453, 0.012575482949614525, 0.0020959139801561832, 0.03232485428452492, 0.9374207258224487, 0.9998300671577454, 0.010447025299072266, 0.9141146540641785, 0.04178810119628906, 0.03395283222198486, 0.9462563395500183, 0.053851984441280365, 0.5676226019859314, 0.4313931465148926, 0.026830358430743217, 0.4091629683971405, 0.419224351644516, 0.13750559091567993, 0.006707589607685804, 0.9938349723815918, 0.02577449567615986, 0.9794308543205261, 0.9996176958084106, 0.03997866436839104, 0.9594879150390625, 0.9807483553886414, 0.014010690152645111, 0.9838553071022034, 0.09916873276233673, 0.8238633275032043, 0.02797066979110241, 0.048312973231077194, 0.326219379901886, 0.6718565821647644, 0.4276474714279175, 0.008223989978432655, 0.08498123288154602, 0.14254915714263916, 0.3371835947036743, 0.8312569856643677, 0.15113763511180878, 0.03848015516996384, 0.7696031332015991, 0.19240078330039978, 0.004626000765711069, 0.9873206615447998, 0.0016521430807188153, 0.006608572322875261, 0.5920507311820984, 0.3502271771430969, 0.05420182645320892, 0.11277850717306137, 0.8796723484992981, 0.9629399180412292, 0.010725349187850952, 0.9563435912132263, 0.032176047563552856, 0.020277591422200203, 0.3295108675956726, 0.5576337575912476, 0.09124916046857834, 0.04994890093803406, 0.9490291476249695, 0.7598744034767151, 0.012664573267102242, 0.22725874185562134, 0.9830671548843384, 0.01638445258140564, 0.9965928196907043, 0.9985314011573792, 0.40939024090766907, 0.053167566657066345, 0.5369924306869507, 0.0558585487306118, 0.38053634762763977, 0.017455795779824257, 0.5446208715438843, 0.15602095425128937, 0.48366495966911316, 0.016802256926894188, 0.07921063899993896, 0.2640354633331299, 0.9972650408744812, 0.9631657004356384, 0.026754602789878845, 0.6835177540779114, 0.3057842552661896, 0.5821112990379333, 0.2910556495189667, 0.12396815419197083, 0.9766291379928589, 0.9929377436637878, 0.007014974486082792, 0.3148624897003174, 0.6297249794006348, 0.589509129524231, 0.183489590883255, 0.230337992310524, 0.9969323873519897, 0.03550970181822777, 0.9587619304656982, 0.029775993898510933, 0.5397575497627258, 0.022738032042980194, 0.22467340528964996, 0.18244563043117523, 0.9992260336875916, 0.9650396108627319, 0.9978470802307129, 0.0019263457506895065, 0.1630765050649643, 0.14591056108474731, 0.040769126266241074, 0.3561934232711792, 0.2939668595790863, 0.04779579117894173, 0.9559158086776733, 0.9672849774360657, 0.03231014683842659, 0.01841723546385765, 0.5479127168655396, 0.20258958637714386, 0.09438832849264145, 0.13582710921764374, 0.03379993513226509, 0.9234625697135925, 0.03078208491206169, 0.0018107108771800995, 0.010864265263080597, 0.9769135117530823, 0.15263357758522034, 0.0929073914885521, 0.7498953938484192, 0.9734770059585571, 0.9830801486968994, 0.017364297062158585, 0.9823230504989624, 0.989687979221344, 0.03552697226405144, 0.6371170282363892, 0.2392149418592453, 0.03789543733000755, 0.04973776265978813, 0.9499083161354065, 0.5307223200798035, 0.27365371584892273, 0.024877609685063362, 0.04146268218755722, 0.12438804656267166, 0.12212569266557693, 0.8650569915771484, 0.24082505702972412, 0.7573314309120178, 0.9496737718582153, 0.988636314868927, 0.9554209113121033, 0.03873328119516373, 0.21397359669208527, 0.7489075660705566, 0.9941326975822449, 0.11184706538915634, 0.2171148955821991, 0.5888419151306152, 0.08224049210548401, 0.10375315696001053, 0.02829631417989731, 0.8677536249160767, 0.9636650681495667, 0.9721322655677795, 0.027147309854626656, 0.09037154912948608, 0.58797287940979, 0.010041283443570137, 0.08702445030212402, 0.22425532341003418, 0.591667115688324, 0.4054015278816223, 0.022283265367150307, 0.39069992303848267, 0.007427755277603865, 0.10250302404165268, 0.47834745049476624, 0.9953112602233887, 0.9967692494392395, 0.016800105571746826, 0.3822023868560791, 0.021000131964683533, 0.17220108211040497, 0.40740254521369934, 0.9963028430938721, 0.9974740743637085, 0.9657950401306152, 0.9157546758651733, 0.0032375166192650795, 0.08047541230916977, 0.9949931502342224, 0.20859815180301666, 0.02370433509349823, 0.6542396545410156, 0.11378080397844315, 0.773053765296936, 0.19946809113025665, 0.026657026261091232, 0.9952983856201172, 0.13862919807434082, 0.8604571223258972, 0.9570571780204773, 0.05981607362627983, 0.045008160173892975, 0.9451713562011719, 0.9974528551101685, 0.9994556903839111, 0.912315845489502, 0.014078947715461254, 0.07321052998304367, 0.48876523971557617, 0.48876523971557617, 0.036118440330028534, 0.11609498411417007, 0.04643799364566803, 0.7997654676437378, 0.015204195864498615, 0.007602097932249308, 0.9806706309318542, 0.03643287345767021, 0.9654711484909058, 0.9990746378898621, 0.042079564183950424, 0.003825414925813675, 0.003825414925813675, 0.3634144365787506, 0.5852885246276855, 0.01943337917327881, 0.006477792747318745, 0.2332005500793457, 0.7449461817741394, 0.011751806363463402, 0.2667660117149353, 0.009401445277035236, 0.25501421093940735, 0.4583204686641693, 0.9970406293869019, 0.9982558488845825, 0.9980077147483826, 0.470278799533844, 0.29582053422927856, 0.22755426168441772, 0.038004159927368164, 0.9501039981842041, 0.9895889163017273, 0.2479180246591568, 0.0035930147860199213, 0.33055734634399414, 0.416789710521698, 0.07421471178531647, 0.34229642152786255, 0.024233374744653702, 0.13025438785552979, 0.4301424026489258, 0.9993149638175964, 0.3296225070953369, 0.6693872809410095, 0.005071115680038929, 0.023587757721543312, 0.029484696686267853, 0.9494072198867798, 0.8730355501174927, 0.06417598575353622, 0.06296511739492416, 0.9825194478034973, 0.14503860473632812, 0.013813200406730175, 0.49313125014305115, 0.348092645406723, 0.0012314562918618321, 0.8558621406555176, 0.011083106510341167, 0.12930290400981903, 0.0024629125837236643, 0.7609668374061584, 0.09783858805894852, 0.13045145571231842, 0.008406322449445724, 0.5380046367645264, 0.07397563755512238, 0.3782845139503479, 0.953898549079895, 0.9897388815879822, 0.008916566148400307, 0.0017833132296800613, 0.9839820265769958, 0.5326587557792664, 0.0032981967087835073, 0.3149777948856354, 0.1484188586473465, 0.17036187648773193, 0.7582955360412598, 0.020369354635477066, 0.028702272102236748, 0.023146994411945343, 0.994570791721344, 0.03919902816414833, 0.9603761434555054, 0.019599514082074165, 0.9904476404190063, 0.7736903429031372, 0.12386023253202438, 0.10205385833978653, 0.40020063519477844, 0.30491477251052856, 0.1397526115179062, 0.15245738625526428, 0.9812363386154175, 0.04112234339118004, 0.9458138942718506, 0.04620090126991272, 0.00891596358269453, 0.42229244112968445, 0.5227996706962585, 0.00671793008223176, 0.9942536354064941, 0.9951214790344238, 0.003557181218639016, 0.017204364761710167, 0.36344218254089355, 0.0623658187687397, 0.5591418147087097, 0.3498397767543793, 0.6504063010215759, 0.9986798763275146, 0.03616757690906525, 0.9403570294380188, 0.4954710602760315, 0.1321256160736084, 0.27926552295684814, 0.09308850020170212, 0.9941840171813965, 0.0032383843790739775, 0.9817484021186829, 0.008047117851674557, 0.9799283146858215, 0.01469892542809248, 0.004899641498923302, 0.15899792313575745, 0.804264485836029, 0.021199721843004227, 0.015899792313575745, 0.04168560728430748, 0.8409618139266968, 0.0042289746925234795, 0.01570761948823929, 0.09726642072200775, 0.7694454789161682, 0.04526149854063988, 0.11315374076366425, 0.06789224594831467, 0.04998662695288658, 0.9497459530830383, 0.15844891965389252, 0.020667249336838722, 0.49945852160453796, 0.32034236192703247, 0.9909588098526001, 0.7774562239646912, 0.13719816505908966, 0.09146544337272644, 0.023842703551054, 0.7011922001838684, 0.02059142477810383, 0.25468340516090393, 0.02565687894821167, 0.3720247447490692, 0.016035549342632294, 0.586901068687439, 0.020770473405718803, 0.40762054920196533, 0.028559401631355286, 0.5452249050140381, 0.034226108342409134, 0.42727431654930115, 0.5387851595878601, 0.9985077381134033, 0.12844683229923248, 0.7558602094650269, 0.05763640254735947, 0.05104938521981239, 0.006587017327547073, 0.9855508804321289, 0.9769423007965088, 0.9991924166679382, 0.9816076159477234, 0.01090675126761198, 0.9943702816963196, 0.9722433686256409, 0.7768135070800781, 0.17926466464996338, 0.9643068909645081, 0.0323592908680439, 0.002588743343949318, 0.04089882969856262, 0.4775724709033966, 0.020134808495640755, 0.24035926163196564, 0.22085367143154144, 0.27904796600341797, 0.0102765541523695, 0.4901125729084015, 0.22055065631866455, 0.03789113834500313, 0.530475914478302, 0.4168025255203247, 0.34389084577560425, 0.644795298576355, 0.08172506093978882, 0.8381569981575012, 0.012353788129985332, 0.06652039289474487, 0.9884178042411804, 0.9987302422523499, 0.01870543882250786, 0.8347302079200745, 0.03273451700806618, 0.08651265501976013, 0.028058158233761787, 0.016914473846554756, 0.9810394644737244, 0.9987914562225342, 0.8511965274810791, 0.9936529397964478, 0.007415320258587599, 0.40585437417030334, 0.5249049663543701, 0.04870252311229706, 0.016234174370765686, 0.0161992609500885, 0.982755184173584, 0.05678504705429077, 0.9369533061981201, 0.9980515241622925, 0.27624842524528503, 0.025631295517086983, 0.6977408528327942, 0.9976693987846375, 0.04562829062342644, 0.3619844317436218, 0.5201625227928162, 0.06996338069438934, 0.022111942991614342, 0.07739179581403732, 0.8955336809158325, 0.013847864232957363, 0.7200889587402344, 0.20425599813461304, 0.06231538951396942, 0.06851676851511002, 0.9249764084815979, 0.9988656640052795, 0.0007532923482358456, 0.0068623386323452, 0.9950391054153442, 0.9360461235046387, 0.005248856730759144, 0.04374047368764877, 0.013996951282024384, 0.054361555725336075, 0.0869784876704216, 0.7755581736564636, 0.07973027974367142, 0.09406034648418427, 0.8166148662567139, 0.08978487551212311, 0.9842695593833923, 0.013361125253140926, 0.9992817044258118, 0.10996363312005997, 0.6571943759918213, 0.1086699366569519, 0.12419421970844269, 0.06660015136003494, 0.28956589102745056, 0.014478294178843498, 0.14188729226589203, 0.4835750460624695, 0.01723320223391056, 0.9822924733161926, 0.99506676197052, 0.1589900255203247, 0.652234673500061, 0.03505291789770126, 0.05007559806108475, 0.10390686988830566, 0.09849242120981216, 0.1055275946855545, 0.014070346020162106, 0.780904233455658, 0.027273094281554222, 0.6681908369064331, 0.3000040352344513, 0.967179000377655, 0.031595684587955475, 0.02586103044450283, 0.9827191233634949, 0.15600261092185974, 0.8424140810966492, 0.032532013952732086, 0.9759604334831238, 0.3356567323207855, 0.549256443977356, 0.11188557744026184, 0.9991044998168945, 0.9956976175308228, 0.009683300741016865, 0.0871497094631195, 0.9005469679832458, 0.9731876850128174, 0.3966570496559143, 0.42382535338401794, 0.07607121765613556, 0.103239506483078, 0.0656394213438034, 0.15444570779800415, 0.31661370396614075, 0.34750282764434814, 0.11583428084850311, 0.9184215068817139, 0.014329981058835983, 0.06643900275230408, 0.04586806148290634, 0.08518354594707489, 0.7535467743873596, 0.11794644594192505, 0.9923692345619202, 0.006046934984624386, 0.0006718816584907472, 0.0006718816584907472, 0.9960497617721558, 0.005691713187843561, 0.2761748135089874, 0.021918635815382004, 0.021918635815382004, 0.6838614344596863, 0.9955008625984192, 0.4825668931007385, 0.4825668931007385, 0.12842239439487457, 0.4216131269931793, 0.39011329412460327, 0.06057659909129143, 0.9693713784217834, 0.0035676376428455114, 0.9953709244728088, 0.17044401168823242, 0.001959126442670822, 0.5289641618728638, 0.29778724908828735, 0.9863451719284058, 0.9831452965736389, 0.04308271035552025, 0.9478196501731873, 0.21841199696063995, 0.7527413368225098, 0.027301499620079994, 0.007555484771728516, 0.26120391488075256, 0.0010793550172820687, 0.19320453703403473, 0.5375187993049622, 0.9973394274711609, 0.01937231793999672, 0.16708624362945557, 0.012107699178159237, 0.3801817297935486, 0.42376944422721863, 0.06407155841588974, 0.7033789753913879, 0.012673495337367058, 0.11758186668157578, 0.10209204256534576, 0.052703388035297394, 0.5947953462600708, 0.00941131915897131, 0.028233958408236504, 0.31622031331062317, 0.04881304129958153, 0.09065279364585876, 0.006973291747272015, 0.8577148914337158, 0.045091621577739716, 0.931893527507782, 0.015030541457235813, 0.6835561394691467, 0.22659319639205933, 0.09063727408647537, 0.003942021634429693, 0.9953604936599731, 0.9537932276725769, 0.03526487201452255, 0.15281443297863007, 0.8110920190811157, 0.9698492288589478, 0.032190121710300446, 0.7642557621002197, 0.019729427993297577, 0.08410967141389847, 0.10072392970323563, 0.43938159942626953, 0.38445889949798584, 0.16476809978485107, 0.4318368434906006, 0.4462313950061798, 0.11515648663043976, 0.00479818694293499, 0.7906635403633118, 0.09883294254541397, 0.09883294254541397, 0.014943239279091358, 0.9841190576553345, 0.9802388548851013, 0.07619336992502213, 0.9143204092979431, 0.08016659319400787, 0.06235179677605629, 0.8551103472709656, 0.9087857007980347, 0.08187258243560791, 0.8896913528442383, 0.10535819083452225, 0.011706464923918247, 0.021335626021027565, 0.4998632073402405, 0.4632878601551056, 0.012191785499453545, 0.9769436717033386, 0.9593425989151001, 0.03197808563709259, 0.12703809142112732, 0.01154891774058342, 0.8661687970161438, 0.9865929484367371, 0.05372709780931473, 0.6675407886505127, 0.0066238883882761, 0.044895246624946594, 0.22742018103599548, 0.49785345792770386, 0.49785345792770386, 0.11408203840255737, 0.8746289610862732, 0.004094864707440138, 0.9139737486839294, 0.04012967273592949, 0.042586591094732285, 0.014260421507060528, 0.9839690923690796, 0.00203720317222178], \"Term\": [\"acceptance\", \"acceptance\", \"accounting\", \"adult\", \"adult\", \"adult\", \"advertisement\", \"advertisement\", \"affiliate\", \"affiliate\", \"affiliate\", \"alert\", \"alert\", \"alexander\", \"alexander\", \"align\", \"also\", \"also\", \"also\", \"also\", \"also\", \"amanda\", \"amanda\", \"amazon\", \"amazon\", \"amy\", \"amy\", \"area\", \"area\", \"area\", \"area\", \"area\", \"assurance\", \"attached\", \"attached\", \"attached\", \"attached\", \"auto\", \"auto\", \"available\", \"available\", \"available\", \"available\", \"b\", \"b\", \"b\", \"b\", \"b\", \"bankruptcy\", \"bargain\", \"beth\", \"billion\", \"binding\", \"binding\", \"blair\", \"blair\", \"blank\", \"blank\", \"border\", \"border\", \"border\", \"br\", \"breakfast\", \"breakfast\", \"bush\", \"business\", \"business\", \"business\", \"business\", \"busy\", \"busy\", \"buying\", \"c\", \"c\", \"c\", \"c\", \"california\", \"california\", \"calpine\", \"calpine\", \"center\", \"center\", \"center\", \"center\", \"center\", \"certificate\", \"chad\", \"chad\", \"chairman\", \"checked\", \"checked\", \"choice\", \"choice\", \"christmas\", \"class\", \"class\", \"class\", \"class\", \"clear\", \"clear\", \"click\", \"click\", \"click\", \"click\", \"click\", \"cold\", \"cold\", \"color\", \"color\", \"color\", \"company\", \"company\", \"company\", \"company\", \"conference\", \"conference\", \"conference\", \"confidential\", \"confidential\", \"congestion\", \"consumer\", \"consumer\", \"consumer\", \"contact\", \"contact\", \"contact\", \"contact\", \"convenient\", \"convenient\", \"corp\", \"corp\", \"corp\", \"count\", \"count\", \"court\", \"crisis\", \"ct\", \"ct\", \"ct\", \"data\", \"data\", \"data\", \"data\", \"day\", \"day\", \"day\", \"day\", \"day\", \"declared\", \"delta\", \"delta\", \"design\", \"design\", \"desk\", \"desk\", \"desk\", \"detected\", \"development\", \"development\", \"display\", \"display\", \"doc\", \"doc\", \"doc\", \"donate\", \"drink\", \"drink\", \"e\", \"e\", \"e\", \"e\", \"e\", \"earnings\", \"easier\", \"ee\", \"ee\", \"email\", \"email\", \"email\", \"email\", \"email\", \"emission\", \"emission\", \"employee\", \"employee\", \"end\", \"end\", \"end\", \"end\", \"end\", \"energy\", \"energy\", \"energy\", \"energy\", \"energy\", \"enforceable\", \"eol\", \"eol\", \"eol\", \"estoppel\", \"evelyn\", \"executive\", \"executive\", \"explorer\", \"f\", \"f\", \"f\", \"f\", \"f\", \"faster\", \"february\", \"february\", \"february\", \"february\", \"february\", \"feedback\", \"feedback\", \"file\", \"file\", \"finalize\", \"font\", \"forecast\", \"forecast\", \"frame\", \"frame\", \"fri\", \"friday\", \"friday\", \"friday\", \"friday\", \"friend\", \"friend\", \"friend\", \"functionality\", \"fund\", \"fund\", \"gas\", \"gas\", \"gas\", \"gas\", \"gas\", \"generation\", \"generation\", \"get\", \"get\", \"get\", \"get\", \"get\", \"gif\", \"gift\", \"go\", \"go\", \"go\", \"go\", \"go\", \"government\", \"height\", \"hereto\", \"hou\", \"hou\", \"hou\", \"href\", \"id\", \"id\", \"id\", \"id\", \"image\", \"image\", \"image\", \"income\", \"intended\", \"intended\", \"intervention\", \"intervention\", \"intl\", \"intl\", \"investment\", \"investor\", \"j\", \"j\", \"j\", \"jack\", \"jack\", \"january\", \"january\", \"january\", \"january\", \"jason\", \"jason\", \"jason\", \"jerry\", \"jerry\", \"ken\", \"kim\", \"kim\", \"kim\", \"kim\", \"kim\", \"kimberly\", \"kimberly\", \"kimberly\", \"kimberly\", \"know\", \"know\", \"know\", \"know\", \"know\", \"largest\", \"law\", \"lay\", \"left\", \"left\", \"left\", \"leg\", \"leg\", \"lenhart\", \"let\", \"let\", \"let\", \"let\", \"like\", \"like\", \"like\", \"like\", \"like\", \"lon\", \"london\", \"london\", \"london\", \"lynn\", \"lynn\", \"lynn\", \"made\", \"made\", \"made\", \"maggi\", \"mail\", \"mail\", \"mail\", \"mail\", \"mailto\", \"mailto\", \"mailto\", \"mailto\", \"mailto\", \"main\", \"main\", \"main\", \"make\", \"make\", \"make\", \"make\", \"manual\", \"many\", \"many\", \"many\", \"map\", \"mark\", \"mark\", \"mark\", \"mark\", \"market\", \"market\", \"market\", \"market\", \"market\", \"matrix\", \"matt\", \"matt\", \"matt\", \"max\", \"may\", \"may\", \"may\", \"mean\", \"mean\", \"mean\", \"mean\", \"menu\", \"meredith\", \"meredith\", \"message\", \"message\", \"message\", \"message\", \"michelle\", \"michelle\", \"million\", \"million\", \"monday\", \"monday\", \"monday\", \"monday\", \"money\", \"money\", \"mr\", \"music\", \"music\", \"name\", \"name\", \"name\", \"name\", \"natural\", \"natural\", \"nc\", \"nc\", \"ne\", \"ne\", \"ne\", \"net\", \"net\", \"net\", \"net\", \"new\", \"new\", \"new\", \"new\", \"new\", \"normal\", \"normal\", \"normal\", \"normal\", \"notified\", \"notified\", \"november\", \"november\", \"november\", \"november\", \"nw\", \"occurred\", \"occurred\", \"occurred\", \"one\", \"one\", \"one\", \"one\", \"online\", \"online\", \"online\", \"online\", \"order\", \"order\", \"order\", \"order\", \"original\", \"original\", \"original\", \"outage\", \"p\", \"p\", \"p\", \"p\", \"p\", \"pager\", \"parsing\", \"partnership\", \"pdf\", \"pdf\", \"pep\", \"perfect\", \"pjm\", \"pjm\", \"plan\", \"plan\", \"plan\", \"please\", \"please\", \"please\", \"please\", \"please\", \"pm\", \"pm\", \"pm\", \"pm\", \"popular\", \"popular\", \"popular\", \"port\", \"port\", \"power\", \"power\", \"power\", \"power\", \"preference\", \"president\", \"price\", \"price\", \"price\", \"price\", \"price\", \"privileged\", \"privileged\", \"profit\", \"publishing\", \"range\", \"range\", \"real\", \"real\", \"real\", \"real\", \"recipient\", \"recipient\", \"ref\", \"ref\", \"reported\", \"request\", \"request\", \"request\", \"retirement\", \"review\", \"review\", \"review\", \"review\", \"revised\", \"revised\", \"revised\", \"right\", \"right\", \"right\", \"right\", \"river\", \"river\", \"said\", \"said\", \"sat\", \"sat\", \"say\", \"say\", \"say\", \"say\", \"schedule\", \"schedule\", \"schedule\", \"schedule\", \"scheduled\", \"scheduled\", \"scheduled\", \"se\", \"se\", \"security\", \"see\", \"see\", \"see\", \"see\", \"send\", \"send\", \"send\", \"send\", \"send\", \"sender\", \"sender\", \"server\", \"service\", \"service\", \"service\", \"service\", \"service\", \"settlement\", \"settlement\", \"settlement\", \"settlement\", \"shape\", \"shape\", \"shape\", \"share\", \"share\", \"sheri\", \"sheri\", \"shipping\", \"shipping\", \"sitara\", \"sitara\", \"size\", \"size\", \"size\", \"sold\", \"sp\", \"stacey\", \"stacey\", \"stacey\", \"stack\", \"standard\", \"standard\", \"standard\", \"standard\", \"start\", \"start\", \"start\", \"start\", \"start\", \"state\", \"state\", \"state\", \"status\", \"status\", \"status\", \"status\", \"stock\", \"stock\", \"stock\", \"stock\", \"street\", \"street\", \"sure\", \"sure\", \"sure\", \"sure\", \"sw\", \"symbol\", \"symbol\", \"system\", \"system\", \"system\", \"system\", \"tab\", \"table\", \"table\", \"team\", \"team\", \"team\", \"team\", \"temp\", \"temperature\", \"terry\", \"terry\", \"thank\", \"thank\", \"thank\", \"thanks\", \"thanks\", \"thanks\", \"thanks\", \"thanks\", \"thru\", \"thursday\", \"thursday\", \"thursday\", \"thursday\", \"thursday\", \"time\", \"time\", \"time\", \"time\", \"time\", \"today\", \"today\", \"today\", \"today\", \"today\", \"tomorrow\", \"tomorrow\", \"tomorrow\", \"tomorrow\", \"tonight\", \"tonight\", \"tonight\", \"top\", \"top\", \"top\", \"tr\", \"tr\", \"trademark\", \"tw\", \"tw\", \"tw\", \"txt\", \"u\", \"u\", \"u\", \"u\", \"u\", \"unsubscribe\", \"unsubscribe\", \"unsubscribe\", \"used\", \"used\", \"used\", \"used\", \"utah\", \"utah\", \"utah\", \"utility\", \"utility\", \"variance\", \"vega\", \"vega\", \"visit\", \"visit\", \"visit\", \"volatility\", \"volatility\", \"weather\", \"weather\", \"weather\", \"wednesday\", \"wednesday\", \"wednesday\", \"wednesday\", \"westdesk\", \"winter\", \"winter\", \"wolfe\", \"wolfe\", \"wolfe\", \"wondering\", \"would\", \"would\", \"would\", \"would\", \"would\", \"wrap\", \"wrap\", \"xl\", \"xl\", \"year\", \"year\", \"year\", \"year\", \"york\", \"york\", \"york\"]}, \"R\": 30, \"lambda.step\": 0.01, \"plot.opts\": {\"xlab\": \"PC1\", \"ylab\": \"PC2\"}, \"topic.order\": [1, 2, 3, 4, 5]};\n",
       "\n",
       "function LDAvis_load_lib(url, callback){\n",
       "  var s = document.createElement('script');\n",
       "  s.src = url;\n",
       "  s.async = true;\n",
       "  s.onreadystatechange = s.onload = callback;\n",
       "  s.onerror = function(){console.warn(\"failed to load library \" + url);};\n",
       "  document.getElementsByTagName(\"head\")[0].appendChild(s);\n",
       "}\n",
       "\n",
       "if(typeof(LDAvis) !== \"undefined\"){\n",
       "   // already loaded: just create the visualization\n",
       "   !function(LDAvis){\n",
       "       new LDAvis(\"#\" + \"ldavis_el1458019352574439125224061238\", ldavis_el1458019352574439125224061238_data);\n",
       "   }(LDAvis);\n",
       "}else if(typeof define === \"function\" && define.amd){\n",
       "   // require.js is available: use it to load d3/LDAvis\n",
       "   require.config({paths: {d3: \"https://cdnjs.cloudflare.com/ajax/libs/d3/3.5.5/d3.min\"}});\n",
       "   require([\"d3\"], function(d3){\n",
       "      window.d3 = d3;\n",
       "      LDAvis_load_lib(\"https://cdn.rawgit.com/bmabey/pyLDAvis/files/ldavis.v1.0.0.js\", function(){\n",
       "        new LDAvis(\"#\" + \"ldavis_el1458019352574439125224061238\", ldavis_el1458019352574439125224061238_data);\n",
       "      });\n",
       "    });\n",
       "}else{\n",
       "    // require.js not available: dynamically load d3 & LDAvis\n",
       "    LDAvis_load_lib(\"https://cdnjs.cloudflare.com/ajax/libs/d3/3.5.5/d3.min.js\", function(){\n",
       "         LDAvis_load_lib(\"https://cdn.rawgit.com/bmabey/pyLDAvis/files/ldavis.v1.0.0.js\", function(){\n",
       "                 new LDAvis(\"#\" + \"ldavis_el1458019352574439125224061238\", ldavis_el1458019352574439125224061238_data);\n",
       "            })\n",
       "         });\n",
       "}\n",
       "</script>"
      ],
      "text/plain": [
       "<IPython.core.display.HTML object>"
      ]
     },
     "execution_count": 12,
     "metadata": {},
     "output_type": "execute_result"
    }
   ],
   "source": [
    "import pyLDAvis.gensim\n",
    "lda_display = pyLDAvis.gensim.prepare(ldamodel, corpus, dictionary, sort_topics=False)\n",
    "pyLDAvis.display(lda_display)"
   ]
  },
  {
   "cell_type": "markdown",
   "metadata": {},
   "source": [
    "### Assign topics to the original data \n",
    "Determine what topic a given text is about"
   ]
  },
  {
   "cell_type": "code",
   "execution_count": 13,
   "metadata": {},
   "outputs": [
    {
     "data": {
      "text/html": [
       "<div>\n",
       "<style scoped>\n",
       "    .dataframe tbody tr th:only-of-type {\n",
       "        vertical-align: middle;\n",
       "    }\n",
       "\n",
       "    .dataframe tbody tr th {\n",
       "        vertical-align: top;\n",
       "    }\n",
       "\n",
       "    .dataframe thead th {\n",
       "        text-align: right;\n",
       "    }\n",
       "</style>\n",
       "<table border=\"1\" class=\"dataframe\">\n",
       "  <thead>\n",
       "    <tr style=\"text-align: right;\">\n",
       "      <th></th>\n",
       "      <th>Dominant_Topic</th>\n",
       "      <th>% Score</th>\n",
       "      <th>Original text</th>\n",
       "    </tr>\n",
       "  </thead>\n",
       "  <tbody>\n",
       "    <tr>\n",
       "      <th>0</th>\n",
       "      <td>1.0</td>\n",
       "      <td>0.846023</td>\n",
       "      <td>[investools, advisory, free, digest, trusted, ...</td>\n",
       "    </tr>\n",
       "    <tr>\n",
       "      <th>1</th>\n",
       "      <td>1.0</td>\n",
       "      <td>0.743088</td>\n",
       "      <td>[forwarded, richard, b, sander, hou, pm, justi...</td>\n",
       "    </tr>\n",
       "    <tr>\n",
       "      <th>2</th>\n",
       "      <td>1.0</td>\n",
       "      <td>0.422423</td>\n",
       "      <td>[hey, wearing, target, purple, shirt, today, m...</td>\n",
       "    </tr>\n",
       "    <tr>\n",
       "      <th>3</th>\n",
       "      <td>1.0</td>\n",
       "      <td>0.992657</td>\n",
       "      <td>[leslie, milosevich, santa, clara, avenue, ala...</td>\n",
       "    </tr>\n",
       "    <tr>\n",
       "      <th>4</th>\n",
       "      <td>1.0</td>\n",
       "      <td>0.992535</td>\n",
       "      <td>[rini, twait, e, th, ave, longmont, co, rtwait...</td>\n",
       "    </tr>\n",
       "  </tbody>\n",
       "</table>\n",
       "</div>"
      ],
      "text/plain": [
       "   Dominant_Topic   % Score                                      Original text\n",
       "0             1.0  0.846023  [investools, advisory, free, digest, trusted, ...\n",
       "1             1.0  0.743088  [forwarded, richard, b, sander, hou, pm, justi...\n",
       "2             1.0  0.422423  [hey, wearing, target, purple, shirt, today, m...\n",
       "3             1.0  0.992657  [leslie, milosevich, santa, clara, avenue, ala...\n",
       "4             1.0  0.992535  [rini, twait, e, th, ave, longmont, co, rtwait..."
      ]
     },
     "execution_count": 13,
     "metadata": {},
     "output_type": "execute_result"
    }
   ],
   "source": [
    "def get_topic_details(ldamodel, corpus):\n",
    "    topic_details_df = pd.DataFrame()\n",
    "    for i, row in enumerate(ldamodel[corpus]):\n",
    "        row = sorted(row, key=lambda x: (x[1]), reverse=True)\n",
    "        for j, (topic_num, prop_topic) in enumerate(row):\n",
    "            if j == 0:  # => dominant topic\n",
    "                wp = ldamodel.show_topic(topic_num)\n",
    "                topic_details_df = topic_details_df.append(pd.Series([topic_num, prop_topic]), ignore_index=True)\n",
    "    topic_details_df.columns = ['Dominant_Topic', '% Score']\n",
    "    return topic_details_df\n",
    "\n",
    "\n",
    "contents = pd.DataFrame({'Original text':text_clean})\n",
    "topic_details = pd.concat([get_topic_details(ldamodel,\n",
    "                           corpus), contents], axis=1)\n",
    "\n",
    "topic_details.head(5)"
   ]
  },
  {
   "cell_type": "markdown",
   "metadata": {},
   "source": [
    "### Detect fraud based on topic"
   ]
  },
  {
   "cell_type": "code",
   "execution_count": 14,
   "metadata": {},
   "outputs": [
    {
     "data": {
      "text/html": [
       "<div>\n",
       "<style scoped>\n",
       "    .dataframe tbody tr th:only-of-type {\n",
       "        vertical-align: middle;\n",
       "    }\n",
       "\n",
       "    .dataframe tbody tr th {\n",
       "        vertical-align: top;\n",
       "    }\n",
       "\n",
       "    .dataframe thead th {\n",
       "        text-align: right;\n",
       "    }\n",
       "</style>\n",
       "<table border=\"1\" class=\"dataframe\">\n",
       "  <thead>\n",
       "    <tr style=\"text-align: right;\">\n",
       "      <th></th>\n",
       "      <th>Dominant_Topic</th>\n",
       "      <th>% Score</th>\n",
       "      <th>Original text</th>\n",
       "    </tr>\n",
       "  </thead>\n",
       "  <tbody>\n",
       "    <tr>\n",
       "      <th>2081</th>\n",
       "      <td>2.0</td>\n",
       "      <td>0.999415</td>\n",
       "      <td>[unsubscribe, mailing, please, go, money, net,...</td>\n",
       "    </tr>\n",
       "    <tr>\n",
       "      <th>2087</th>\n",
       "      <td>0.0</td>\n",
       "      <td>0.999051</td>\n",
       "      <td>[image, image, image, image, image, image, ima...</td>\n",
       "    </tr>\n",
       "    <tr>\n",
       "      <th>1108</th>\n",
       "      <td>1.0</td>\n",
       "      <td>0.998750</td>\n",
       "      <td>[thestreet, pf, market, detox, trade, wind, bl...</td>\n",
       "    </tr>\n",
       "    <tr>\n",
       "      <th>1411</th>\n",
       "      <td>3.0</td>\n",
       "      <td>0.998520</td>\n",
       "      <td>[inline, attachment, follows, scasey, tfsbroke...</td>\n",
       "    </tr>\n",
       "    <tr>\n",
       "      <th>49</th>\n",
       "      <td>1.0</td>\n",
       "      <td>0.998179</td>\n",
       "      <td>[today, announced, plan, merge, dynegy, major,...</td>\n",
       "    </tr>\n",
       "  </tbody>\n",
       "</table>\n",
       "</div>"
      ],
      "text/plain": [
       "      Dominant_Topic   % Score  \\\n",
       "2081             2.0  0.999415   \n",
       "2087             0.0  0.999051   \n",
       "1108             1.0  0.998750   \n",
       "1411             3.0  0.998520   \n",
       "49               1.0  0.998179   \n",
       "\n",
       "                                          Original text  \n",
       "2081  [unsubscribe, mailing, please, go, money, net,...  \n",
       "2087  [image, image, image, image, image, image, ima...  \n",
       "1108  [thestreet, pf, market, detox, trade, wind, bl...  \n",
       "1411  [inline, attachment, follows, scasey, tfsbroke...  \n",
       "49    [today, announced, plan, merge, dynegy, major,...  "
      ]
     },
     "execution_count": 14,
     "metadata": {},
     "output_type": "execute_result"
    }
   ],
   "source": [
    "def get_topic_details(ldamodel, corpus):\n",
    "    topic_details_df = pd.DataFrame()\n",
    "    for i, row in enumerate(ldamodel[corpus]):\n",
    "        row = sorted(row, key=lambda x: (x[1]), reverse=True)\n",
    "        for j, (topic_num, prop_topic) in enumerate(row):\n",
    "            if j == 0:  # => dominant topic\n",
    "                wp = ldamodel.show_topic(topic_num)\n",
    "                topic_details_df = topic_details_df.append(pd.Series([topic_num, prop_topic]), ignore_index=True)\n",
    "    topic_details_df.columns = ['Dominant_Topic', '% Score']\n",
    "    return topic_details_df\n",
    "# Run get_topic_details function and check the results\n",
    "topic_details_df = get_topic_details(ldamodel, corpus)\n",
    "\n",
    "\n",
    "# Add original text to topic details in a dataframe\n",
    "contents = pd.DataFrame({'Original text': text_clean})\n",
    "topic_details = pd.concat([get_topic_details(ldamodel, corpus), contents], axis=1)\n",
    "topic_details.sort_values(by=['% Score'], ascending=False).head(10).head()"
   ]
  },
  {
   "cell_type": "markdown",
   "metadata": {},
   "source": [
    "### Create flag for text highest associated with topic 1\n",
    "The topic 1 seems include the information about 'stock', 'market','price', et al."
   ]
  },
  {
   "cell_type": "code",
   "execution_count": 15,
   "metadata": {},
   "outputs": [
    {
     "data": {
      "text/html": [
       "<div>\n",
       "<style scoped>\n",
       "    .dataframe tbody tr th:only-of-type {\n",
       "        vertical-align: middle;\n",
       "    }\n",
       "\n",
       "    .dataframe tbody tr th {\n",
       "        vertical-align: top;\n",
       "    }\n",
       "\n",
       "    .dataframe thead th {\n",
       "        text-align: right;\n",
       "    }\n",
       "</style>\n",
       "<table border=\"1\" class=\"dataframe\">\n",
       "  <thead>\n",
       "    <tr style=\"text-align: right;\">\n",
       "      <th></th>\n",
       "      <th>Dominant_Topic</th>\n",
       "      <th>% Score</th>\n",
       "      <th>Original text</th>\n",
       "      <th>flag</th>\n",
       "    </tr>\n",
       "  </thead>\n",
       "  <tbody>\n",
       "    <tr>\n",
       "      <th>1108</th>\n",
       "      <td>1.0</td>\n",
       "      <td>0.998750</td>\n",
       "      <td>[thestreet, pf, market, detox, trade, wind, bl...</td>\n",
       "      <td>1</td>\n",
       "    </tr>\n",
       "    <tr>\n",
       "      <th>49</th>\n",
       "      <td>1.0</td>\n",
       "      <td>0.998179</td>\n",
       "      <td>[today, announced, plan, merge, dynegy, major,...</td>\n",
       "      <td>1</td>\n",
       "    </tr>\n",
       "    <tr>\n",
       "      <th>129</th>\n",
       "      <td>1.0</td>\n",
       "      <td>0.998179</td>\n",
       "      <td>[today, announced, plan, merge, dynegy, major,...</td>\n",
       "      <td>1</td>\n",
       "    </tr>\n",
       "    <tr>\n",
       "      <th>1473</th>\n",
       "      <td>1.0</td>\n",
       "      <td>0.998179</td>\n",
       "      <td>[today, announced, plan, merge, dynegy, major,...</td>\n",
       "      <td>1</td>\n",
       "    </tr>\n",
       "    <tr>\n",
       "      <th>38</th>\n",
       "      <td>1.0</td>\n",
       "      <td>0.998179</td>\n",
       "      <td>[today, announced, plan, merge, dynegy, major,...</td>\n",
       "      <td>1</td>\n",
       "    </tr>\n",
       "    <tr>\n",
       "      <th>155</th>\n",
       "      <td>1.0</td>\n",
       "      <td>0.998179</td>\n",
       "      <td>[today, announced, plan, merge, dynegy, major,...</td>\n",
       "      <td>1</td>\n",
       "    </tr>\n",
       "    <tr>\n",
       "      <th>13</th>\n",
       "      <td>1.0</td>\n",
       "      <td>0.998179</td>\n",
       "      <td>[today, announced, plan, merge, dynegy, major,...</td>\n",
       "      <td>1</td>\n",
       "    </tr>\n",
       "    <tr>\n",
       "      <th>293</th>\n",
       "      <td>1.0</td>\n",
       "      <td>0.998179</td>\n",
       "      <td>[today, announced, plan, merge, dynegy, major,...</td>\n",
       "      <td>1</td>\n",
       "    </tr>\n",
       "    <tr>\n",
       "      <th>96</th>\n",
       "      <td>1.0</td>\n",
       "      <td>0.998179</td>\n",
       "      <td>[today, announced, plan, merge, dynegy, major,...</td>\n",
       "      <td>1</td>\n",
       "    </tr>\n",
       "    <tr>\n",
       "      <th>181</th>\n",
       "      <td>1.0</td>\n",
       "      <td>0.998179</td>\n",
       "      <td>[today, announced, plan, merge, dynegy, major,...</td>\n",
       "      <td>1</td>\n",
       "    </tr>\n",
       "  </tbody>\n",
       "</table>\n",
       "</div>"
      ],
      "text/plain": [
       "      Dominant_Topic   % Score  \\\n",
       "1108             1.0  0.998750   \n",
       "49               1.0  0.998179   \n",
       "129              1.0  0.998179   \n",
       "1473             1.0  0.998179   \n",
       "38               1.0  0.998179   \n",
       "155              1.0  0.998179   \n",
       "13               1.0  0.998179   \n",
       "293              1.0  0.998179   \n",
       "96               1.0  0.998179   \n",
       "181              1.0  0.998179   \n",
       "\n",
       "                                          Original text  flag  \n",
       "1108  [thestreet, pf, market, detox, trade, wind, bl...     1  \n",
       "49    [today, announced, plan, merge, dynegy, major,...     1  \n",
       "129   [today, announced, plan, merge, dynegy, major,...     1  \n",
       "1473  [today, announced, plan, merge, dynegy, major,...     1  \n",
       "38    [today, announced, plan, merge, dynegy, major,...     1  \n",
       "155   [today, announced, plan, merge, dynegy, major,...     1  \n",
       "13    [today, announced, plan, merge, dynegy, major,...     1  \n",
       "293   [today, announced, plan, merge, dynegy, major,...     1  \n",
       "96    [today, announced, plan, merge, dynegy, major,...     1  \n",
       "181   [today, announced, plan, merge, dynegy, major,...     1  "
      ]
     },
     "execution_count": 15,
     "metadata": {},
     "output_type": "execute_result"
    }
   ],
   "source": [
    "topic_details['flag'] = np.where((topic_details['Dominant_Topic'] == 1.0), 1, 0)\n",
    "topic_details_1 = topic_details[topic_details.flag == 1]\n",
    "topic_details_1.sort_values(by=['% Score'], ascending=False).head(10)"
   ]
  },
  {
   "cell_type": "code",
   "execution_count": null,
   "metadata": {},
   "outputs": [],
   "source": []
  }
 ],
 "metadata": {
  "kernelspec": {
   "display_name": "Python 3",
   "language": "python",
   "name": "python3"
  },
  "language_info": {
   "codemirror_mode": {
    "name": "ipython",
    "version": 3
   },
   "file_extension": ".py",
   "mimetype": "text/x-python",
   "name": "python",
   "nbconvert_exporter": "python",
   "pygments_lexer": "ipython3",
   "version": "3.7.6"
  }
 },
 "nbformat": 4,
 "nbformat_minor": 4
}
